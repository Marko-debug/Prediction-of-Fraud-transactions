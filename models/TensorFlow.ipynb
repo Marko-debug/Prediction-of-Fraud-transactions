{
 "cells": [
  {
   "cell_type": "code",
   "execution_count": 3,
   "metadata": {},
   "outputs": [],
   "source": [
    "import pandas as pd\n",
    "import numpy as np\n",
    "import matplotlib.pyplot as plt\n",
    "from sklearn.model_selection import train_test_split\n",
    "from sklearn.preprocessing import StandardScaler, LabelEncoder\n",
    "from sklearn.metrics import classification_report, confusion_matrix, ConfusionMatrixDisplay\n",
    "import tensorflow as tf\n",
    "from tensorflow.keras.models import Sequential\n",
    "from tensorflow.keras.layers import Dense, Input\n",
    "from tensorflow.keras.optimizers import Adam\n",
    "from sklearn.utils.class_weight import compute_class_weight"
   ]
  },
  {
   "cell_type": "code",
   "execution_count": 4,
   "metadata": {},
   "outputs": [],
   "source": [
    "def reduce_mem_usage(df, verbose=True):\n",
    "    numerics = ['int16', 'int32', 'int64', 'float16', 'float32', 'float64']\n",
    "    start_mem = df.memory_usage(deep=True).sum() / (1024 ** 2) \n",
    "    for col in df.columns:\n",
    "        col_type = df[col].dtypes\n",
    "        if col_type in numerics:\n",
    "            c_min = df[col].min()\n",
    "            c_max = df[col].max()\n",
    "            if str(col_type)[:3] == 'int':\n",
    "                if c_min > np.iinfo(np.int8).min and c_max < np.iinfo(np.int8).max:\n",
    "                    df[col] = df[col].astype(np.int8)\n",
    "                elif c_min > np.iinfo(np.int16).min and c_max < np.iinfo(np.int16).max:\n",
    "                    df[col] = df[col].astype(np.int16)\n",
    "                elif c_min > np.iinfo(np.int32).min and c_max < np.iinfo(np.int32).max:\n",
    "                    df[col] = df[col].astype(np.int32)\n",
    "                elif c_min > np.iinfo(np.int64).min and c_max < np.iinfo(np.int64).max:\n",
    "                    df[col] = df[col].astype(np.int64)  \n",
    "            else:\n",
    "                if c_min > np.finfo(np.float16).min and c_max < np.finfo(np.float16).max:\n",
    "                    df[col] = df[col].astype(np.float16)\n",
    "                elif c_min > np.finfo(np.float32).min and c_max < np.finfo(np.float32).max:\n",
    "                    df[col] = df[col].astype(np.float32)\n",
    "                else:\n",
    "                    df[col] = df[col].astype(np.float64)    \n",
    "    end_mem = df.memory_usage(deep=True).sum() / (1024 ** 2)\n",
    "    print(f\"start_mem Memory usage of df_train: {start_mem:.2f} MB\")\n",
    "    if verbose: print('Mem. usage decreased to {:5.2f} Mb ({:.1f}% reduction)'.format(end_mem, 100 * (start_mem - end_mem) / start_mem))\n",
    "    return df"
   ]
  },
  {
   "cell_type": "code",
   "execution_count": 5,
   "metadata": {},
   "outputs": [
    {
     "name": "stdout",
     "output_type": "stream",
     "text": [
      "(590540, 434)\n"
     ]
    }
   ],
   "source": [
    "df_train_trans = pd.read_csv('../input/train_transaction.csv')\n",
    "df_train_identity = pd.read_csv('../input/train_identity.csv')\n",
    "\n",
    "df_train = df_train_trans.merge(df_train_identity, how='left', on='TransactionID')\n",
    "\n",
    "print(df_train.shape)\n",
    "del df_train_trans, df_train_identity\n"
   ]
  },
  {
   "cell_type": "code",
   "execution_count": 191,
   "metadata": {},
   "outputs": [
    {
     "data": {
      "text/plain": [
       "isFraud\n",
       "0    569877\n",
       "1     20663\n",
       "Name: count, dtype: int64"
      ]
     },
     "execution_count": 191,
     "metadata": {},
     "output_type": "execute_result"
    }
   ],
   "source": [
    "df_train[\"isFraud\"].value_counts()"
   ]
  },
  {
   "cell_type": "code",
   "execution_count": 6,
   "metadata": {},
   "outputs": [
    {
     "name": "stdout",
     "output_type": "stream",
     "text": [
      "start_mem Memory usage of df_train: 2567.09 MB\n",
      "Mem. usage decreased to 1257.69 Mb (51.0% reduction)\n"
     ]
    }
   ],
   "source": [
    "df_train = reduce_mem_usage(df_train)       "
   ]
  },
  {
   "cell_type": "code",
   "execution_count": 7,
   "metadata": {},
   "outputs": [
    {
     "name": "stdout",
     "output_type": "stream",
     "text": [
      "Columns removed: Index(['dist1', 'dist2', 'R_emaildomain', 'D5', 'D6', 'D7', 'D8', 'D9', 'D12',\n",
      "       'D13',\n",
      "       ...\n",
      "       'id_31', 'id_32', 'id_33', 'id_34', 'id_35', 'id_36', 'id_37', 'id_38',\n",
      "       'DeviceType', 'DeviceInfo'],\n",
      "      dtype='object', length=214)\n",
      "Shape of the cleaned dataframe: (590540, 220)\n"
     ]
    }
   ],
   "source": [
    "# Label encoding for categorical features\n",
    "for col in df_train.select_dtypes(include='object').columns:\n",
    "    lbl = LabelEncoder()\n",
    "        \n",
    "    encoded_values = lbl.fit_transform(df_train[col]) \n",
    "        \n",
    "    #Replace the NaN (which becomes -1 after LabelEncoding) with -999\n",
    "    encoded_values[df_train[col].isnull()] = -999\n",
    "        \n",
    "    # Step 5: Assign the encoded values back to the column\n",
    "    df_train[col] = encoded_values\n",
    "df_train.fillna(-999, inplace=True)\n",
    "percent_missing = (df_train == -999).mean() * 100\n",
    "\n",
    "# Identify columns where more than 50% of the values are missing\n",
    "cols_to_drop = percent_missing[percent_missing > 50].index\n",
    "\n",
    "# Drop these columns\n",
    "df_train_cleaned = df_train.drop(columns=cols_to_drop)\n",
    "\n",
    "# Display the cleaned dataframe\n",
    "print(f\"Columns removed: {cols_to_drop}\")\n",
    "print(f\"Shape of the cleaned dataframe: {df_train_cleaned.shape}\")"
   ]
  },
  {
   "cell_type": "code",
   "execution_count": 8,
   "metadata": {},
   "outputs": [
    {
     "data": {
      "text/plain": [
       "(590540, 219)"
      ]
     },
     "execution_count": 8,
     "metadata": {},
     "output_type": "execute_result"
    }
   ],
   "source": [
    "df_train_cleaned = df_train_cleaned.drop('TransactionID', axis=1)\n",
    "df_train_cleaned.shape"
   ]
  },
  {
   "cell_type": "code",
   "execution_count": 9,
   "metadata": {},
   "outputs": [],
   "source": [
    "X_train = df_train_cleaned.select_dtypes(include=['number']).drop(columns=['isFraud'])\n",
    "y_train = df_train_cleaned['isFraud']  # This is the target variable"
   ]
  },
  {
   "cell_type": "code",
   "execution_count": 10,
   "metadata": {},
   "outputs": [],
   "source": [
    "majority_class_indices = np.where(y_train == 0)[0]\n",
    "minority_class_indices = np.where(y_train == 1)[0] \n",
    "\n",
    "oversampled_minority_class_indices = np.random.choice(minority_class_indices, len(majority_class_indices), replace=True)\n",
    "balanced_indices = np.concatenate([majority_class_indices, oversampled_minority_class_indices])\n",
    "\n",
    "np.random.shuffle(balanced_indices)\n",
    "X_train_resampled = X_train.iloc[balanced_indices]\n",
    "y_train_resampled = y_train.iloc[balanced_indices]"
   ]
  },
  {
   "cell_type": "code",
   "execution_count": 11,
   "metadata": {},
   "outputs": [],
   "source": [
    "X_train_final, X_val, y_train_final, y_val = train_test_split(X_train_resampled, y_train_resampled, test_size=0.2, random_state=42, stratify=y_train_resampled)\n",
    "\n",
    "scaler = StandardScaler()\n",
    "X_train_scaled = scaler.fit_transform(X_train_final)\n",
    "X_val_scaled = scaler.transform(X_val)"
   ]
  },
  {
   "cell_type": "code",
   "execution_count": 227,
   "metadata": {},
   "outputs": [
    {
     "data": {
      "text/plain": [
       "isFraud\n",
       "0    569877\n",
       "1     20663\n",
       "Name: count, dtype: int64"
      ]
     },
     "execution_count": 227,
     "metadata": {},
     "output_type": "execute_result"
    }
   ],
   "source": [
    "df_train[\"isFraud\"].value_counts()"
   ]
  },
  {
   "cell_type": "code",
   "execution_count": 33,
   "metadata": {},
   "outputs": [
    {
     "name": "stdout",
     "output_type": "stream",
     "text": [
      "M4                281444\n",
      "D2                280797\n",
      "V10               279287\n",
      "V5                279287\n",
      "V4                279287\n",
      "                   ...  \n",
      "C10                    0\n",
      "C11                    0\n",
      "TransactionDT          0\n",
      "TransactionAmt         0\n",
      "isFraud                0\n",
      "Length: 219, dtype: int64\n"
     ]
    }
   ],
   "source": [
    "count_minus_999 = (df_train_cleaned == -999).sum()\n",
    "\n",
    "# Sort the result in descending order\n",
    "count_minus_999_sorted_desc = count_minus_999.sort_values(ascending=False)\n",
    "\n",
    "# Display the sorted result\n",
    "print(count_minus_999_sorted_desc)"
   ]
  },
  {
   "cell_type": "code",
   "execution_count": 12,
   "metadata": {},
   "outputs": [],
   "source": [
    "early_stopping = tf.keras.callbacks.EarlyStopping(\n",
    "    monitor='val_loss',\n",
    "    patience=3,\n",
    "    restore_best_weights=True\n",
    ")"
   ]
  },
  {
   "cell_type": "code",
   "execution_count": null,
   "metadata": {},
   "outputs": [],
   "source": [
    "import tensorflow as tf\n",
    "\n",
    "# Build a Neural Network Model\n",
    "model = Sequential()\n",
    "\n",
    "# Input Layer\n",
    "model.add(Input(shape=(X_train_scaled.shape[1],)))\n",
    "\n",
    "# Hidden Layers\n",
    "model.add(Dense(64, activation='relu'))\n",
    "model.add(Dense(64, activation='relu'))\n",
    "model.add(Dense(64, activation='relu'))\n",
    "\n",
    "# Output Layer\n",
    "model.add(Dense(1, activation='sigmoid')) \n",
    "\n",
    "model.compile(\n",
    "    optimizer=tf.keras.optimizers.Adam(learning_rate=0.001),\n",
    "    loss='binary_crossentropy',\n",
    "    metrics=[tf.keras.metrics.F1Score(threshold=0.5)]\n",
    ")\n"
   ]
  },
  {
   "cell_type": "code",
   "execution_count": 153,
   "metadata": {},
   "outputs": [
    {
     "name": "stdout",
     "output_type": "stream",
     "text": [
      "Epoch 1/100\n",
      "\u001b[1m11398/11398\u001b[0m \u001b[32m━━━━━━━━━━━━━━━━━━━━\u001b[0m\u001b[37m\u001b[0m \u001b[1m34s\u001b[0m 3ms/step - f1_score: 0.7570 - loss: 0.4966 - val_f1_score: 0.7543 - val_loss: 0.4602\n",
      "Epoch 2/100\n",
      "\u001b[1m11398/11398\u001b[0m \u001b[32m━━━━━━━━━━━━━━━━━━━━\u001b[0m\u001b[37m\u001b[0m \u001b[1m29s\u001b[0m 3ms/step - f1_score: 0.7972 - loss: 0.4243 - val_f1_score: 0.7831 - val_loss: 0.4118\n",
      "Epoch 3/100\n",
      "\u001b[1m11398/11398\u001b[0m \u001b[32m━━━━━━━━━━━━━━━━━━━━\u001b[0m\u001b[37m\u001b[0m \u001b[1m33s\u001b[0m 3ms/step - f1_score: 0.8161 - loss: 0.3900 - val_f1_score: 0.8311 - val_loss: 0.3639\n",
      "Epoch 4/100\n",
      "\u001b[1m11398/11398\u001b[0m \u001b[32m━━━━━━━━━━━━━━━━━━━━\u001b[0m\u001b[37m\u001b[0m \u001b[1m31s\u001b[0m 3ms/step - f1_score: 0.8278 - loss: 0.3668 - val_f1_score: 0.8314 - val_loss: 0.3601\n",
      "Epoch 5/100\n",
      "\u001b[1m11398/11398\u001b[0m \u001b[32m━━━━━━━━━━━━━━━━━━━━\u001b[0m\u001b[37m\u001b[0m \u001b[1m26s\u001b[0m 2ms/step - f1_score: 0.8370 - loss: 0.3494 - val_f1_score: 0.8420 - val_loss: 0.3433\n",
      "Epoch 6/100\n",
      "\u001b[1m11398/11398\u001b[0m \u001b[32m━━━━━━━━━━━━━━━━━━━━\u001b[0m\u001b[37m\u001b[0m \u001b[1m27s\u001b[0m 2ms/step - f1_score: 0.8440 - loss: 0.3347 - val_f1_score: 0.8541 - val_loss: 0.3273\n",
      "Epoch 7/100\n",
      "\u001b[1m11398/11398\u001b[0m \u001b[32m━━━━━━━━━━━━━━━━━━━━\u001b[0m\u001b[37m\u001b[0m \u001b[1m26s\u001b[0m 2ms/step - f1_score: 0.8511 - loss: 0.3221 - val_f1_score: 0.8521 - val_loss: 0.3186\n",
      "Epoch 8/100\n",
      "\u001b[1m11398/11398\u001b[0m \u001b[32m━━━━━━━━━━━━━━━━━━━━\u001b[0m\u001b[37m\u001b[0m \u001b[1m26s\u001b[0m 2ms/step - f1_score: 0.8570 - loss: 0.3117 - val_f1_score: 0.8616 - val_loss: 0.3067\n",
      "Epoch 9/100\n",
      "\u001b[1m11398/11398\u001b[0m \u001b[32m━━━━━━━━━━━━━━━━━━━━\u001b[0m\u001b[37m\u001b[0m \u001b[1m25s\u001b[0m 2ms/step - f1_score: 0.8605 - loss: 0.3045 - val_f1_score: 0.8614 - val_loss: 0.2991\n",
      "Epoch 10/100\n",
      "\u001b[1m11398/11398\u001b[0m \u001b[32m━━━━━━━━━━━━━━━━━━━━\u001b[0m\u001b[37m\u001b[0m \u001b[1m29s\u001b[0m 3ms/step - f1_score: 0.8648 - loss: 0.2964 - val_f1_score: 0.8540 - val_loss: 0.3165\n",
      "Epoch 11/100\n",
      "\u001b[1m11398/11398\u001b[0m \u001b[32m━━━━━━━━━━━━━━━━━━━━\u001b[0m\u001b[37m\u001b[0m \u001b[1m32s\u001b[0m 3ms/step - f1_score: 0.8679 - loss: 0.2901 - val_f1_score: 0.8696 - val_loss: 0.2975\n",
      "Epoch 12/100\n",
      "\u001b[1m11398/11398\u001b[0m \u001b[32m━━━━━━━━━━━━━━━━━━━━\u001b[0m\u001b[37m\u001b[0m \u001b[1m31s\u001b[0m 3ms/step - f1_score: 0.8716 - loss: 0.2843 - val_f1_score: 0.8700 - val_loss: 0.2860\n",
      "Epoch 13/100\n",
      "\u001b[1m11398/11398\u001b[0m \u001b[32m━━━━━━━━━━━━━━━━━━━━\u001b[0m\u001b[37m\u001b[0m \u001b[1m33s\u001b[0m 3ms/step - f1_score: 0.8746 - loss: 0.2774 - val_f1_score: 0.8753 - val_loss: 0.2859\n",
      "Epoch 14/100\n",
      "\u001b[1m11398/11398\u001b[0m \u001b[32m━━━━━━━━━━━━━━━━━━━━\u001b[0m\u001b[37m\u001b[0m \u001b[1m32s\u001b[0m 3ms/step - f1_score: 0.8766 - loss: 0.2741 - val_f1_score: 0.8790 - val_loss: 0.2703\n",
      "Epoch 15/100\n",
      "\u001b[1m11398/11398\u001b[0m \u001b[32m━━━━━━━━━━━━━━━━━━━━\u001b[0m\u001b[37m\u001b[0m \u001b[1m33s\u001b[0m 3ms/step - f1_score: 0.8785 - loss: 0.2703 - val_f1_score: 0.8691 - val_loss: 0.2834\n",
      "Epoch 16/100\n",
      "\u001b[1m11398/11398\u001b[0m \u001b[32m━━━━━━━━━━━━━━━━━━━━\u001b[0m\u001b[37m\u001b[0m \u001b[1m33s\u001b[0m 3ms/step - f1_score: 0.8814 - loss: 0.2655 - val_f1_score: 0.8786 - val_loss: 0.2699\n",
      "Epoch 17/100\n",
      "\u001b[1m11398/11398\u001b[0m \u001b[32m━━━━━━━━━━━━━━━━━━━━\u001b[0m\u001b[37m\u001b[0m \u001b[1m35s\u001b[0m 3ms/step - f1_score: 0.8832 - loss: 0.2638 - val_f1_score: 0.8850 - val_loss: 0.2690\n",
      "Epoch 18/100\n",
      "\u001b[1m11398/11398\u001b[0m \u001b[32m━━━━━━━━━━━━━━━━━━━━\u001b[0m\u001b[37m\u001b[0m \u001b[1m33s\u001b[0m 3ms/step - f1_score: 0.8853 - loss: 0.2566 - val_f1_score: 0.8840 - val_loss: 0.2663\n",
      "Epoch 19/100\n",
      "\u001b[1m11398/11398\u001b[0m \u001b[32m━━━━━━━━━━━━━━━━━━━━\u001b[0m\u001b[37m\u001b[0m \u001b[1m27s\u001b[0m 2ms/step - f1_score: 0.8855 - loss: 0.2561 - val_f1_score: 0.8894 - val_loss: 0.2564\n",
      "Epoch 20/100\n",
      "\u001b[1m11398/11398\u001b[0m \u001b[32m━━━━━━━━━━━━━━━━━━━━\u001b[0m\u001b[37m\u001b[0m \u001b[1m28s\u001b[0m 2ms/step - f1_score: 0.8887 - loss: 0.2518 - val_f1_score: 0.8872 - val_loss: 0.2512\n",
      "Epoch 21/100\n",
      "\u001b[1m11398/11398\u001b[0m \u001b[32m━━━━━━━━━━━━━━━━━━━━\u001b[0m\u001b[37m\u001b[0m \u001b[1m27s\u001b[0m 2ms/step - f1_score: 0.8890 - loss: 0.2493 - val_f1_score: 0.8840 - val_loss: 0.2650\n",
      "Epoch 22/100\n",
      "\u001b[1m11398/11398\u001b[0m \u001b[32m━━━━━━━━━━━━━━━━━━━━\u001b[0m\u001b[37m\u001b[0m \u001b[1m28s\u001b[0m 2ms/step - f1_score: 0.8913 - loss: 0.2449 - val_f1_score: 0.8902 - val_loss: 0.2499\n",
      "Epoch 23/100\n",
      "\u001b[1m11398/11398\u001b[0m \u001b[32m━━━━━━━━━━━━━━━━━━━━\u001b[0m\u001b[37m\u001b[0m \u001b[1m29s\u001b[0m 3ms/step - f1_score: 0.8916 - loss: 0.2450 - val_f1_score: 0.8873 - val_loss: 0.2505\n",
      "Epoch 24/100\n",
      "\u001b[1m11398/11398\u001b[0m \u001b[32m━━━━━━━━━━━━━━━━━━━━\u001b[0m\u001b[37m\u001b[0m \u001b[1m31s\u001b[0m 3ms/step - f1_score: 0.8931 - loss: 0.2411 - val_f1_score: 0.8879 - val_loss: 0.2534\n",
      "Epoch 25/100\n",
      "\u001b[1m11398/11398\u001b[0m \u001b[32m━━━━━━━━━━━━━━━━━━━━\u001b[0m\u001b[37m\u001b[0m \u001b[1m26s\u001b[0m 2ms/step - f1_score: 0.8939 - loss: 0.2412 - val_f1_score: 0.8896 - val_loss: 0.2501\n",
      "\u001b[1m7124/7124\u001b[0m \u001b[32m━━━━━━━━━━━━━━━━━━━━\u001b[0m\u001b[37m\u001b[0m \u001b[1m9s\u001b[0m 1ms/step\n",
      "\n",
      "Classification Report:\n",
      "               precision    recall  f1-score   support\n",
      "\n",
      "           0       0.89      0.89      0.89    113976\n",
      "           1       0.89      0.89      0.89    113975\n",
      "\n",
      "    accuracy                           0.89    227951\n",
      "   macro avg       0.89      0.89      0.89    227951\n",
      "weighted avg       0.89      0.89      0.89    227951\n",
      "\n"
     ]
    },
    {
     "data": {
      "image/png": "[encoded data removed]",
      "text/plain": [
       "<Figure size 640x480 with 2 Axes>"
      ]
     },
     "metadata": {},
     "output_type": "display_data"
    }
   ],
   "source": [
    "history = model.fit(X_train_scaled, y_train_final, \n",
    "                    epochs=100,                   # Allow for many, early stopping will cut it short\n",
    "                    batch_size=64,\n",
    "                    validation_split=0.2,\n",
    "                    callbacks=[early_stopping],  # <- This is what enables early stopping\n",
    "                    verbose=1\n",
    "                    )\n",
    "\n",
    "# Evaluate the model on the test set\n",
    "y_pred_proba = model.predict(X_val_scaled)  # Predict probabilities\n",
    "\n",
    "# Convert probabilities to class labels (0 or 1)\n",
    "y_pred = (y_pred_proba > 0.5).astype(int)\n",
    "\n",
    "print(\"\\nClassification Report:\\n\", classification_report(y_val, y_pred))\n",
    "\n",
    "cm = confusion_matrix(y_val, y_pred)\n",
    "\n",
    "disp = ConfusionMatrixDisplay(confusion_matrix=cm, display_labels=[0, 1])\n",
    "disp.plot(cmap='Blues')\n",
    "plt.title('Confusion Matrix')\n",
    "plt.show()"
   ]
  },
  {
   "cell_type": "code",
   "execution_count": 259,
   "metadata": {},
   "outputs": [],
   "source": [
    "def f1_metric(y_true, y_pred):\n",
    "    y_pred = tf.round(y_pred)  # Round predictions to 0 or 1 for binary classification\n",
    "    precision = tf.reduce_sum(y_true * y_pred) / (tf.reduce_sum(y_pred) + tf.keras.backend.epsilon())\n",
    "    recall = tf.reduce_sum(y_true * y_pred) / (tf.reduce_sum(y_true) + tf.keras.backend.epsilon())\n",
    "    f1 = 2 * (precision * recall) / (precision + recall + tf.keras.backend.epsilon())\n",
    "    return f1"
   ]
  },
  {
   "cell_type": "code",
   "execution_count": 245,
   "metadata": {},
   "outputs": [
    {
     "data": {
      "text/plain": [
       "(911803,)"
      ]
     },
     "execution_count": 245,
     "metadata": {},
     "output_type": "execute_result"
    }
   ],
   "source": [
    "y_train_final.shape"
   ]
  },
  {
   "cell_type": "code",
   "execution_count": 246,
   "metadata": {},
   "outputs": [
    {
     "data": {
      "text/plain": [
       "(911803, 218)"
      ]
     },
     "execution_count": 246,
     "metadata": {},
     "output_type": "execute_result"
    }
   ],
   "source": [
    "X_train_scaled.shape"
   ]
  },
  {
   "cell_type": "code",
   "execution_count": 13,
   "metadata": {},
   "outputs": [],
   "source": [
    "import keras_tuner as kt\n",
    "\n",
    "def model_builder(hp):\n",
    "  model = tf.keras.Sequential()\n",
    "  model.add(Input(shape=(X_train_scaled.shape[1],)))\n",
    "\n",
    "  # Tune the number of units in the first Dense layer\n",
    "  # Choose an optimal value between 32-512\n",
    "  hp_units1 = hp.Int('units1', min_value=16, max_value=64, step=8)\n",
    "  model.add(tf.keras.layers.Dense(units=hp_units1, activation='relu'))\n",
    "\n",
    "  hp_units2 = hp.Int('units2', min_value=16, max_value=64, step=8)\n",
    "  model.add(tf.keras.layers.Dense(units=hp_units2, activation='relu'))\n",
    "\n",
    "  hp_units3 = hp.Int('units3', min_value=16, max_value=64, step=8)\n",
    "  model.add(tf.keras.layers.Dense(units=hp_units3, activation='relu'))\n",
    "\n",
    "  # Output layer for binary classification\n",
    "  model.add(Dense(1, activation='sigmoid')) \n",
    "  \n",
    "  # Tune the learning rate for the optimizer\n",
    "  # Choose an optimal value from 0.01, 0.001, or 0.0001\n",
    "  hp_learning_rate = hp.Choice('learning_rate', values=[1e-2, 1e-3, 1e-4])\n",
    "\n",
    "  f1 = tf.metrics.F1Score(threshold=0.5)\n",
    "  f1.__name__ = \"f1_score\"  # <-- manually give it a name!\n",
    "  model.compile(optimizer=tf.keras.optimizers.Adam(learning_rate=hp_learning_rate),\n",
    "                loss='binary_crossentropy',\n",
    "                metrics=[f1]\n",
    "                )\n",
    "\n",
    "  return model\n"
   ]
  },
  {
   "cell_type": "code",
   "execution_count": 2,
   "metadata": {},
   "outputs": [
    {
     "ename": "NameError",
     "evalue": "name 'X_train_scaled' is not defined",
     "output_type": "error",
     "traceback": [
      "\u001b[31m---------------------------------------------------------------------------\u001b[39m",
      "\u001b[31mNameError\u001b[39m                                 Traceback (most recent call last)",
      "\u001b[36mCell\u001b[39m\u001b[36m \u001b[39m\u001b[32mIn[2]\u001b[39m\u001b[32m, line 1\u001b[39m\n\u001b[32m----> \u001b[39m\u001b[32m1\u001b[39m \u001b[43mX_train_scaled\u001b[49m.shape\n",
      "\u001b[31mNameError\u001b[39m: name 'X_train_scaled' is not defined"
     ]
    }
   ],
   "source": [
    "X_train_scaled.shape"
   ]
  },
  {
   "cell_type": "code",
   "execution_count": 16,
   "metadata": {},
   "outputs": [
    {
     "name": "stdout",
     "output_type": "stream",
     "text": [
      "Trial 25 Complete [00h 21m 05s]\n",
      "val_f1_score: 0.7222630977630615\n",
      "\n",
      "Best val_f1_score So Far: 0.9520834684371948\n",
      "Total elapsed time: 07h 31m 27s\n"
     ]
    }
   ],
   "source": [
    "import os\n",
    "os.makedirs(r'C:\\kmy_dir', exist_ok=True)\n",
    "\n",
    "tuner = kt.Hyperband(\n",
    "    model_builder,\n",
    "    objective=kt.Objective(\"val_f1_score\", direction=\"max\"), \n",
    "    max_epochs=25,\n",
    "    factor=3,\n",
    "    directory=r'C:\\kmy_dir',\n",
    "    project_name='intro_to_kt'\n",
    ")\n",
    "\n",
    "\n",
    "tuner.search(\n",
    "    X_train_scaled,  \n",
    "    y_train_final,   \n",
    "    epochs=100,\n",
    "    validation_split=0.2, \n",
    "    callbacks=[early_stopping],  # Apply early stopping during the search\n",
    "    verbose=1\n",
    ")"
   ]
  },
  {
   "cell_type": "code",
   "execution_count": 17,
   "metadata": {},
   "outputs": [],
   "source": [
    "best_hps = tuner.get_best_hyperparameters(num_trials=1)[0]\n",
    "\n",
    "# Build the model with the best hyperparameters\n",
    "model = tuner.hypermodel.build(best_hps)"
   ]
  },
  {
   "cell_type": "code",
   "execution_count": 20,
   "metadata": {},
   "outputs": [
    {
     "name": "stdout",
     "output_type": "stream",
     "text": [
      "Best hyperparameters:\n",
      "units: 512\n",
      "learning_rate: 0.0001\n",
      "units1: 256\n",
      "units2: 416\n",
      "units3: 480\n",
      "tuner/epochs: 25\n",
      "tuner/initial_epoch: 9\n",
      "tuner/bracket: 1\n",
      "tuner/round: 1\n",
      "tuner/trial_id: 0018\n"
     ]
    }
   ],
   "source": [
    "print(\"Best hyperparameters:\")\n",
    "for hp_name in best_hps.values.keys():\n",
    "    print(f\"{hp_name}: {best_hps.get(hp_name)}\")"
   ]
  },
  {
   "cell_type": "code",
   "execution_count": 22,
   "metadata": {},
   "outputs": [
    {
     "name": "stdout",
     "output_type": "stream",
     "text": [
      "Epoch 1/25\n",
      "\u001b[1m11398/11398\u001b[0m \u001b[32m━━━━━━━━━━━━━━━━━━━━\u001b[0m\u001b[37m\u001b[0m \u001b[1m66s\u001b[0m 6ms/step - f1_score: 0.7794 - loss: 0.4593 - val_f1_score: 0.8089 - val_loss: 0.4165\n",
      "Epoch 2/25\n",
      "\u001b[1m11398/11398\u001b[0m \u001b[32m━━━━━━━━━━━━━━━━━━━━\u001b[0m\u001b[37m\u001b[0m \u001b[1m62s\u001b[0m 5ms/step - f1_score: 0.8090 - loss: 0.4054 - val_f1_score: 0.8195 - val_loss: 0.3837\n",
      "Epoch 3/25\n",
      "\u001b[1m11398/11398\u001b[0m \u001b[32m━━━━━━━━━━━━━━━━━━━━\u001b[0m\u001b[37m\u001b[0m \u001b[1m62s\u001b[0m 5ms/step - f1_score: 0.8283 - loss: 0.3686 - val_f1_score: 0.8460 - val_loss: 0.3454\n",
      "Epoch 4/25\n",
      "\u001b[1m11398/11398\u001b[0m \u001b[32m━━━━━━━━━━━━━━━━━━━━\u001b[0m\u001b[37m\u001b[0m \u001b[1m60s\u001b[0m 5ms/step - f1_score: 0.8441 - loss: 0.3391 - val_f1_score: 0.8528 - val_loss: 0.3327\n",
      "Epoch 5/25\n",
      "\u001b[1m11398/11398\u001b[0m \u001b[32m━━━━━━━━━━━━━━━━━━━━\u001b[0m\u001b[37m\u001b[0m \u001b[1m60s\u001b[0m 5ms/step - f1_score: 0.8582 - loss: 0.3116 - val_f1_score: 0.8675 - val_loss: 0.3037\n",
      "Epoch 6/25\n",
      "\u001b[1m11398/11398\u001b[0m \u001b[32m━━━━━━━━━━━━━━━━━━━━\u001b[0m\u001b[37m\u001b[0m \u001b[1m61s\u001b[0m 5ms/step - f1_score: 0.8694 - loss: 0.2886 - val_f1_score: 0.8524 - val_loss: 0.3005\n",
      "Epoch 7/25\n",
      "\u001b[1m11398/11398\u001b[0m \u001b[32m━━━━━━━━━━━━━━━━━━━━\u001b[0m\u001b[37m\u001b[0m \u001b[1m60s\u001b[0m 5ms/step - f1_score: 0.8795 - loss: 0.2698 - val_f1_score: 0.8804 - val_loss: 0.2616\n",
      "Epoch 8/25\n",
      "\u001b[1m11398/11398\u001b[0m \u001b[32m━━━━━━━━━━━━━━━━━━━━\u001b[0m\u001b[37m\u001b[0m \u001b[1m61s\u001b[0m 5ms/step - f1_score: 0.8880 - loss: 0.2538 - val_f1_score: 0.8855 - val_loss: 0.2515\n",
      "Epoch 9/25\n",
      "\u001b[1m11398/11398\u001b[0m \u001b[32m━━━━━━━━━━━━━━━━━━━━\u001b[0m\u001b[37m\u001b[0m \u001b[1m60s\u001b[0m 5ms/step - f1_score: 0.8945 - loss: 0.2406 - val_f1_score: 0.8974 - val_loss: 0.2474\n",
      "Epoch 10/25\n",
      "\u001b[1m11398/11398\u001b[0m \u001b[32m━━━━━━━━━━━━━━━━━━━━\u001b[0m\u001b[37m\u001b[0m \u001b[1m61s\u001b[0m 5ms/step - f1_score: 0.9002 - loss: 0.2288 - val_f1_score: 0.9009 - val_loss: 0.2315\n",
      "Epoch 11/25\n",
      "\u001b[1m11398/11398\u001b[0m \u001b[32m━━━━━━━━━━━━━━━━━━━━\u001b[0m\u001b[37m\u001b[0m \u001b[1m62s\u001b[0m 5ms/step - f1_score: 0.9053 - loss: 0.2179 - val_f1_score: 0.9067 - val_loss: 0.2180\n",
      "Epoch 12/25\n",
      "\u001b[1m11398/11398\u001b[0m \u001b[32m━━━━━━━━━━━━━━━━━━━━\u001b[0m\u001b[37m\u001b[0m \u001b[1m61s\u001b[0m 5ms/step - f1_score: 0.9112 - loss: 0.2069 - val_f1_score: 0.9048 - val_loss: 0.2216\n",
      "Epoch 13/25\n",
      "\u001b[1m11398/11398\u001b[0m \u001b[32m━━━━━━━━━━━━━━━━━━━━\u001b[0m\u001b[37m\u001b[0m \u001b[1m64s\u001b[0m 6ms/step - f1_score: 0.9141 - loss: 0.1992 - val_f1_score: 0.9155 - val_loss: 0.2068\n",
      "Epoch 14/25\n",
      "\u001b[1m11398/11398\u001b[0m \u001b[32m━━━━━━━━━━━━━━━━━━━━\u001b[0m\u001b[37m\u001b[0m \u001b[1m64s\u001b[0m 6ms/step - f1_score: 0.9188 - loss: 0.1904 - val_f1_score: 0.9178 - val_loss: 0.1946\n",
      "Epoch 15/25\n",
      "\u001b[1m11398/11398\u001b[0m \u001b[32m━━━━━━━━━━━━━━━━━━━━\u001b[0m\u001b[37m\u001b[0m \u001b[1m63s\u001b[0m 6ms/step - f1_score: 0.9214 - loss: 0.1853 - val_f1_score: 0.9221 - val_loss: 0.1874\n",
      "Epoch 16/25\n",
      "\u001b[1m11398/11398\u001b[0m \u001b[32m━━━━━━━━━━━━━━━━━━━━\u001b[0m\u001b[37m\u001b[0m \u001b[1m64s\u001b[0m 6ms/step - f1_score: 0.9255 - loss: 0.1765 - val_f1_score: 0.9157 - val_loss: 0.2133\n",
      "Epoch 17/25\n",
      "\u001b[1m11398/11398\u001b[0m \u001b[32m━━━━━━━━━━━━━━━━━━━━\u001b[0m\u001b[37m\u001b[0m \u001b[1m62s\u001b[0m 5ms/step - f1_score: 0.9286 - loss: 0.1701 - val_f1_score: 0.9285 - val_loss: 0.1819\n",
      "Epoch 18/25\n",
      "\u001b[1m11398/11398\u001b[0m \u001b[32m━━━━━━━━━━━━━━━━━━━━\u001b[0m\u001b[37m\u001b[0m \u001b[1m63s\u001b[0m 6ms/step - f1_score: 0.9301 - loss: 0.1660 - val_f1_score: 0.9280 - val_loss: 0.1806\n",
      "Epoch 19/25\n",
      "\u001b[1m11398/11398\u001b[0m \u001b[32m━━━━━━━━━━━━━━━━━━━━\u001b[0m\u001b[37m\u001b[0m \u001b[1m62s\u001b[0m 5ms/step - f1_score: 0.9335 - loss: 0.1594 - val_f1_score: 0.9352 - val_loss: 0.1627\n",
      "Epoch 20/25\n",
      "\u001b[1m11398/11398\u001b[0m \u001b[32m━━━━━━━━━━━━━━━━━━━━\u001b[0m\u001b[37m\u001b[0m \u001b[1m62s\u001b[0m 5ms/step - f1_score: 0.9358 - loss: 0.1545 - val_f1_score: 0.9326 - val_loss: 0.1696\n",
      "Epoch 21/25\n",
      "\u001b[1m11398/11398\u001b[0m \u001b[32m━━━━━━━━━━━━━━━━━━━━\u001b[0m\u001b[37m\u001b[0m \u001b[1m63s\u001b[0m 5ms/step - f1_score: 0.9374 - loss: 0.1501 - val_f1_score: 0.9394 - val_loss: 0.1560\n",
      "Epoch 22/25\n",
      "\u001b[1m11398/11398\u001b[0m \u001b[32m━━━━━━━━━━━━━━━━━━━━\u001b[0m\u001b[37m\u001b[0m \u001b[1m63s\u001b[0m 6ms/step - f1_score: 0.9389 - loss: 0.1476 - val_f1_score: 0.9396 - val_loss: 0.1543\n",
      "Epoch 23/25\n",
      "\u001b[1m11398/11398\u001b[0m \u001b[32m━━━━━━━━━━━━━━━━━━━━\u001b[0m\u001b[37m\u001b[0m \u001b[1m65s\u001b[0m 6ms/step - f1_score: 0.9411 - loss: 0.1422 - val_f1_score: 0.9373 - val_loss: 0.1605\n",
      "Epoch 24/25\n",
      "\u001b[1m11398/11398\u001b[0m \u001b[32m━━━━━━━━━━━━━━━━━━━━\u001b[0m\u001b[37m\u001b[0m \u001b[1m65s\u001b[0m 6ms/step - f1_score: 0.9426 - loss: 0.1382 - val_f1_score: 0.9339 - val_loss: 0.1633\n",
      "Epoch 25/25\n",
      "\u001b[1m11398/11398\u001b[0m \u001b[32m━━━━━━━━━━━━━━━━━━━━\u001b[0m\u001b[37m\u001b[0m \u001b[1m66s\u001b[0m 6ms/step - f1_score: 0.9448 - loss: 0.1341 - val_f1_score: 0.9443 - val_loss: 0.1416\n",
      "\u001b[1m7124/7124\u001b[0m \u001b[32m━━━━━━━━━━━━━━━━━━━━\u001b[0m\u001b[37m\u001b[0m \u001b[1m11s\u001b[0m 2ms/step\n",
      "\n",
      "Classification Report:\n",
      "               precision    recall  f1-score   support\n",
      "\n",
      "           0       0.95      0.93      0.94    113976\n",
      "           1       0.94      0.95      0.94    113975\n",
      "\n",
      "    accuracy                           0.94    227951\n",
      "   macro avg       0.94      0.94      0.94    227951\n",
      "weighted avg       0.94      0.94      0.94    227951\n",
      "\n"
     ]
    },
    {
     "data": {
      "image/png": "[encoded data removed]",
      "text/plain": [
       "<Figure size 640x480 with 2 Axes>"
      ]
     },
     "metadata": {},
     "output_type": "display_data"
    }
   ],
   "source": [
    "history = model.fit(X_train_scaled, y_train_final, \n",
    "                    epochs=25,                   # Allow for many, early stopping will cut it short\n",
    "                    batch_size=64,\n",
    "                    validation_split=0.2,\n",
    "                    callbacks=[early_stopping],  # <- This is what enables early stopping\n",
    "                    verbose=1\n",
    "                    )\n",
    "\n",
    "# Evaluate the model on the test set\n",
    "y_pred_proba = model.predict(X_val_scaled)  # Predict probabilities\n",
    "\n",
    "# Convert probabilities to class labels (0 or 1)\n",
    "y_pred = (y_pred_proba > 0.5).astype(int)\n",
    "\n",
    "print(\"\\nClassification Report:\\n\", classification_report(y_val, y_pred))\n",
    "\n",
    "cm = confusion_matrix(y_val, y_pred)\n",
    "\n",
    "disp = ConfusionMatrixDisplay(confusion_matrix=cm, display_labels=[0, 1])\n",
    "disp.plot(cmap='Blues')\n",
    "plt.title('Confusion Matrix')\n",
    "plt.show()"
   ]
  },
  {
   "cell_type": "code",
   "execution_count": 23,
   "metadata": {},
   "outputs": [
    {
     "data": {
      "image/png": "[encoded data removed]",
      "text/plain": [
       "<Figure size 640x480 with 1 Axes>"
      ]
     },
     "metadata": {},
     "output_type": "display_data"
    }
   ],
   "source": [
    "import matplotlib.pyplot as plt\n",
    "\n",
    "# Plot training & validation loss\n",
    "plt.plot(history.history['loss'], label='Training Loss')\n",
    "plt.plot(history.history['val_loss'], label='Validation Loss')\n",
    "\n",
    "plt.title('Model Loss Over Epochs')\n",
    "plt.xlabel('Epoch')\n",
    "plt.ylabel('Loss (Binary Crossentropy)')\n",
    "plt.legend()\n",
    "plt.grid(True)\n",
    "plt.show()"
   ]
  },
  {
   "cell_type": "code",
   "execution_count": null,
   "metadata": {},
   "outputs": [
    {
     "data": {
      "text/plain": [
       "(590540,)"
      ]
     },
     "execution_count": 26,
     "metadata": {},
     "output_type": "execute_result"
    }
   ],
   "source": [
    "X_train.value_counts()"
   ]
  },
  {
   "cell_type": "code",
   "execution_count": 27,
   "metadata": {},
   "outputs": [
    {
     "name": "stdout",
     "output_type": "stream",
     "text": [
      "\u001b[1m18455/18455\u001b[0m \u001b[32m━━━━━━━━━━━━━━━━━━━━\u001b[0m\u001b[37m\u001b[0m \u001b[1m29s\u001b[0m 2ms/step\n",
      "\n",
      "Classification Report:\n",
      "               precision    recall  f1-score   support\n",
      "\n",
      "           0       1.00      0.55      0.71    569877\n",
      "           1       0.07      0.98      0.14     20663\n",
      "\n",
      "    accuracy                           0.57    590540\n",
      "   macro avg       0.54      0.77      0.43    590540\n",
      "weighted avg       0.97      0.57      0.69    590540\n",
      "\n"
     ]
    },
    {
     "data": {
      "image/png": "[encoded data removed]",
      "text/plain": [
       "<Figure size 640x480 with 2 Axes>"
      ]
     },
     "metadata": {},
     "output_type": "display_data"
    }
   ],
   "source": [
    "\n",
    "scaler1 = StandardScaler()\n",
    "X_train_scaled1 = scaler1.fit_transform(X_train)\n",
    "\n",
    "# Evaluate the model on the test set\n",
    "y_pred_proba = model.predict(X_train_scaled1)  # Predict probabilities\n",
    "\n",
    "# Convert probabilities to class labels (0 or 1)\n",
    "y_pred = (y_pred_proba > 0.5).astype(int)\n",
    "\n",
    "print(\"\\nClassification Report:\\n\", classification_report(y_train, y_pred))\n",
    "\n",
    "cm = confusion_matrix(y_train, y_pred)\n",
    "\n",
    "disp = ConfusionMatrixDisplay(confusion_matrix=cm, display_labels=[0, 1])\n",
    "disp.plot(cmap='Blues')\n",
    "plt.title('Confusion Matrix')\n",
    "plt.show()"
   ]
  }
 ],
 "metadata": {
  "kernelspec": {
   "display_name": "Python 3",
   "language": "python",
   "name": "python3"
  },
  "language_info": {
   "codemirror_mode": {
    "name": "ipython",
    "version": 3
   },
   "file_extension": ".py",
   "mimetype": "text/x-python",
   "name": "python",
   "nbconvert_exporter": "python",
   "pygments_lexer": "ipython3",
   "version": "3.11.0"
  }
 },
 "nbformat": 4,
 "nbformat_minor": 2
}
