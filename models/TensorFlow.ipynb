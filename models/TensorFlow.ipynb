{
 "cells": [
  {
   "cell_type": "code",
   "execution_count": 1,
   "metadata": {},
   "outputs": [],
   "source": [
    "import pandas as pd\n",
    "import numpy as np\n",
    "import matplotlib.pyplot as plt\n",
    "from sklearn.model_selection import train_test_split\n",
    "from sklearn.preprocessing import StandardScaler, LabelEncoder\n",
    "from sklearn.metrics import classification_report, confusion_matrix, ConfusionMatrixDisplay\n",
    "import tensorflow as tf\n",
    "from tensorflow.keras.models import Sequential\n",
    "from tensorflow.keras.layers import Dense, Input\n",
    "from tensorflow.keras.optimizers import Adam\n",
    "from sklearn.utils.class_weight import compute_class_weight"
   ]
  },
  {
   "cell_type": "code",
   "execution_count": 2,
   "metadata": {},
   "outputs": [
    {
     "name": "stdout",
     "output_type": "stream",
     "text": [
      "(590540, 434)\n",
      "(506691, 433)\n"
     ]
    }
   ],
   "source": [
    "df_train_trans = pd.read_csv('../input/train_transaction.csv')\n",
    "df_test_trans = pd.read_csv('../input/test_transaction.csv')\n",
    "\n",
    "df_train_identity = pd.read_csv('../input/train_identity.csv')\n",
    "df_test_identity = pd.read_csv('../input/test_identity.csv')\n",
    "\n",
    "df_train = df_train_trans.merge(df_train_identity, how='left', on='TransactionID')\n",
    "df_test = df_test_trans.merge(df_test_identity, how='left', on='TransactionID')\n",
    "\n",
    "print(df_train.shape)\n",
    "print(df_test.shape)\n",
    "\n",
    "# Standardizing column names\n",
    "df_train.columns = df_train.columns.str.replace('-', '_')\n",
    "df_test.columns = df_test.columns.str.replace('-', '_')\n",
    "\n",
    "del df_train_trans, df_train_identity\n"
   ]
  },
  {
   "cell_type": "code",
   "execution_count": null,
   "metadata": {},
   "outputs": [],
   "source": [
    "for f in df_train.drop('isFraud', axis=1).columns:\n",
    "    if df_train[f].dtype == 'object': \n",
    "        # Replace missing values (NaN) with a placeholder string (e.g., \"<missing>\")\n",
    "        df_train[f].fillna('<missing>', inplace=True)\n",
    "\n",
    "for f in df_train.drop('isFraud', axis=1).columns:\n",
    "    if df_train[f].dtype=='object': \n",
    "        lbl = LabelEncoder()\n",
    "        df_train[f] = lbl.fit_transform(df_train[f])\n",
    "\n",
    "df_train.fillna(-999, inplace=True)\n",
    "\n",
    "X_train = df_train.select_dtypes(include=['number']).drop(columns=['isFraud'])\n",
    "y_train = df_train['isFraud']  # This is the target variable\n",
    "\n",
    "X_train_final, X_val, y_train_final, y_val = train_test_split(X_train, y_train, test_size=0.2, random_state=42)\n",
    "\n",
    "scaler = StandardScaler()\n",
    "X_train_scaled = scaler.fit_transform(X_train_final)\n",
    "X_val_scaled = scaler.transform(X_val)"
   ]
  },
  {
   "cell_type": "code",
   "execution_count": 25,
   "metadata": {},
   "outputs": [
    {
     "name": "stdout",
     "output_type": "stream",
     "text": [
      "id_24         585793\n",
      "id_25         585408\n",
      "id_08         585385\n",
      "id_07         585385\n",
      "id_21         585381\n",
      "               ...  \n",
      "id_36              0\n",
      "id_37              0\n",
      "id_38              0\n",
      "DeviceType         0\n",
      "DeviceInfo         0\n",
      "Length: 434, dtype: int64\n"
     ]
    }
   ],
   "source": [
    "count_minus_999 = (df_train == -999).sum()\n",
    "\n",
    "# Sort the result in descending order\n",
    "count_minus_999_sorted_desc = count_minus_999.sort_values(ascending=False)\n",
    "\n",
    "# Display the sorted result\n",
    "print(count_minus_999_sorted_desc)"
   ]
  },
  {
   "cell_type": "code",
   "execution_count": 15,
   "metadata": {},
   "outputs": [],
   "source": [
    "# Build a Neural Network Model\n",
    "model = Sequential()\n",
    "\n",
    "# Input Layer\n",
    "model.add(Input(shape=(X_train_scaled.shape[1],)))\n",
    "\n",
    "# Hidden Layers\n",
    "model.add(Dense(64, activation='relu'))\n",
    "model.add(Dense(32, activation='relu'))\n",
    "\n",
    "# Output Layer\n",
    "model.add(Dense(1, activation='sigmoid')) \n",
    "\n",
    "model.compile(optimizer=Adam(learning_rate=0.001), \n",
    "              loss='binary_crossentropy', \n",
    "              metrics=['accuracy'])\n"
   ]
  },
  {
   "cell_type": "code",
   "execution_count": 14,
   "metadata": {},
   "outputs": [
    {
     "name": "stdout",
     "output_type": "stream",
     "text": [
      "Epoch 1/20\n",
      "\u001b[1m5906/5906\u001b[0m \u001b[32m━━━━━━━━━━━━━━━━━━━━\u001b[0m\u001b[37m\u001b[0m \u001b[1m9s\u001b[0m 1ms/step - accuracy: 0.6305 - loss: 0.7042 - val_accuracy: 0.7523 - val_loss: 0.6916\n",
      "Epoch 2/20\n",
      "\u001b[1m5906/5906\u001b[0m \u001b[32m━━━━━━━━━━━━━━━━━━━━\u001b[0m\u001b[37m\u001b[0m \u001b[1m8s\u001b[0m 1ms/step - accuracy: 0.8483 - loss: 0.6842 - val_accuracy: 0.8357 - val_loss: 0.7220\n",
      "Epoch 3/20\n",
      "\u001b[1m5906/5906\u001b[0m \u001b[32m━━━━━━━━━━━━━━━━━━━━\u001b[0m\u001b[37m\u001b[0m \u001b[1m9s\u001b[0m 1ms/step - accuracy: 0.7776 - loss: 0.6890 - val_accuracy: 0.9593 - val_loss: 0.6818\n",
      "Epoch 4/20\n",
      "\u001b[1m5906/5906\u001b[0m \u001b[32m━━━━━━━━━━━━━━━━━━━━\u001b[0m\u001b[37m\u001b[0m \u001b[1m9s\u001b[0m 2ms/step - accuracy: 0.8722 - loss: 0.6871 - val_accuracy: 0.9493 - val_loss: 0.6729\n",
      "Epoch 5/20\n",
      "\u001b[1m5906/5906\u001b[0m \u001b[32m━━━━━━━━━━━━━━━━━━━━\u001b[0m\u001b[37m\u001b[0m \u001b[1m10s\u001b[0m 2ms/step - accuracy: 0.9152 - loss: 0.6796 - val_accuracy: 0.9433 - val_loss: 0.6850\n",
      "Epoch 6/20\n",
      "\u001b[1m5906/5906\u001b[0m \u001b[32m━━━━━━━━━━━━━━━━━━━━\u001b[0m\u001b[37m\u001b[0m \u001b[1m9s\u001b[0m 1ms/step - accuracy: 0.9329 - loss: 0.6846 - val_accuracy: 0.9607 - val_loss: 0.6804\n",
      "Epoch 7/20\n",
      "\u001b[1m5906/5906\u001b[0m \u001b[32m━━━━━━━━━━━━━━━━━━━━\u001b[0m\u001b[37m\u001b[0m \u001b[1m8s\u001b[0m 1ms/step - accuracy: 0.9575 - loss: 0.6842 - val_accuracy: 0.9576 - val_loss: 0.6878\n",
      "Epoch 8/20\n",
      "\u001b[1m5906/5906\u001b[0m \u001b[32m━━━━━━━━━━━━━━━━━━━━\u001b[0m\u001b[37m\u001b[0m \u001b[1m7s\u001b[0m 1ms/step - accuracy: 0.9387 - loss: 0.6832 - val_accuracy: 0.9588 - val_loss: 0.6765\n",
      "Epoch 9/20\n",
      "\u001b[1m5906/5906\u001b[0m \u001b[32m━━━━━━━━━━━━━━━━━━━━\u001b[0m\u001b[37m\u001b[0m \u001b[1m8s\u001b[0m 1ms/step - accuracy: 0.9410 - loss: 0.6856 - val_accuracy: 0.9597 - val_loss: 0.6822\n",
      "Epoch 10/20\n",
      "\u001b[1m5906/5906\u001b[0m \u001b[32m━━━━━━━━━━━━━━━━━━━━\u001b[0m\u001b[37m\u001b[0m \u001b[1m7s\u001b[0m 1ms/step - accuracy: 0.8750 - loss: 0.6872 - val_accuracy: 0.9596 - val_loss: 0.6750\n",
      "Epoch 11/20\n",
      "\u001b[1m5906/5906\u001b[0m \u001b[32m━━━━━━━━━━━━━━━━━━━━\u001b[0m\u001b[37m\u001b[0m \u001b[1m7s\u001b[0m 1ms/step - accuracy: 0.8343 - loss: 0.6852 - val_accuracy: 0.0451 - val_loss: 0.6924\n",
      "Epoch 12/20\n",
      "\u001b[1m5906/5906\u001b[0m \u001b[32m━━━━━━━━━━━━━━━━━━━━\u001b[0m\u001b[37m\u001b[0m \u001b[1m8s\u001b[0m 1ms/step - accuracy: 0.7146 - loss: 0.6860 - val_accuracy: 0.9580 - val_loss: 0.6859\n",
      "Epoch 13/20\n",
      "\u001b[1m5906/5906\u001b[0m \u001b[32m━━━━━━━━━━━━━━━━━━━━\u001b[0m\u001b[37m\u001b[0m \u001b[1m7s\u001b[0m 1ms/step - accuracy: 0.9528 - loss: 0.6851 - val_accuracy: 0.9607 - val_loss: 0.6743\n",
      "Epoch 14/20\n",
      "\u001b[1m5906/5906\u001b[0m \u001b[32m━━━━━━━━━━━━━━━━━━━━\u001b[0m\u001b[37m\u001b[0m \u001b[1m8s\u001b[0m 1ms/step - accuracy: 0.9483 - loss: 0.6814 - val_accuracy: 0.9603 - val_loss: 0.6860\n",
      "Epoch 15/20\n",
      "\u001b[1m5906/5906\u001b[0m \u001b[32m━━━━━━━━━━━━━━━━━━━━\u001b[0m\u001b[37m\u001b[0m \u001b[1m7s\u001b[0m 1ms/step - accuracy: 0.9287 - loss: 0.6845 - val_accuracy: 0.9603 - val_loss: 0.6756\n",
      "Epoch 16/20\n",
      "\u001b[1m5906/5906\u001b[0m \u001b[32m━━━━━━━━━━━━━━━━━━━━\u001b[0m\u001b[37m\u001b[0m \u001b[1m7s\u001b[0m 1ms/step - accuracy: 0.9228 - loss: 0.6794 - val_accuracy: 0.9608 - val_loss: 0.6854\n",
      "Epoch 17/20\n",
      "\u001b[1m5906/5906\u001b[0m \u001b[32m━━━━━━━━━━━━━━━━━━━━\u001b[0m\u001b[37m\u001b[0m \u001b[1m7s\u001b[0m 1ms/step - accuracy: 0.9256 - loss: 0.6819 - val_accuracy: 0.9606 - val_loss: 0.6734\n",
      "Epoch 18/20\n",
      "\u001b[1m5906/5906\u001b[0m \u001b[32m━━━━━━━━━━━━━━━━━━━━\u001b[0m\u001b[37m\u001b[0m \u001b[1m7s\u001b[0m 1ms/step - accuracy: 0.8773 - loss: 0.6844 - val_accuracy: 0.9574 - val_loss: 0.6782\n",
      "Epoch 19/20\n",
      "\u001b[1m5906/5906\u001b[0m \u001b[32m━━━━━━━━━━━━━━━━━━━━\u001b[0m\u001b[37m\u001b[0m \u001b[1m7s\u001b[0m 1ms/step - accuracy: 0.8894 - loss: 0.6880 - val_accuracy: 0.9606 - val_loss: 0.6751\n",
      "Epoch 20/20\n",
      "\u001b[1m5906/5906\u001b[0m \u001b[32m━━━━━━━━━━━━━━━━━━━━\u001b[0m\u001b[37m\u001b[0m \u001b[1m7s\u001b[0m 1ms/step - accuracy: 0.9070 - loss: 0.6809 - val_accuracy: 0.9608 - val_loss: 0.6847\n",
      "\u001b[1m3691/3691\u001b[0m \u001b[32m━━━━━━━━━━━━━━━━━━━━\u001b[0m\u001b[37m\u001b[0m \u001b[1m2s\u001b[0m 539us/step\n",
      "\n",
      "Classification Report:\n",
      "               precision    recall  f1-score   support\n",
      "\n",
      "           0       0.96      1.00      0.98    113866\n",
      "           1       0.00      0.00      0.00      4242\n",
      "\n",
      "    accuracy                           0.96    118108\n",
      "   macro avg       0.48      0.50      0.49    118108\n",
      "weighted avg       0.93      0.96      0.95    118108\n",
      "\n"
     ]
    },
    {
     "data": {
      "image/png": "[encoded data removed]",
      "text/plain": [
       "<Figure size 640x480 with 2 Axes>"
      ]
     },
     "metadata": {},
     "output_type": "display_data"
    }
   ],
   "source": [
    "class_weights = compute_class_weight('balanced', classes=np.unique(y_train), y=y_train)\n",
    "class_weights = dict(zip(np.unique(y_train), class_weights))\n",
    "\n",
    "history = model.fit(X_train_scaled, y_train, \n",
    "                    epochs=20, \n",
    "                    batch_size=64, \n",
    "                    validation_split=0.2, \n",
    "                    verbose=1,\n",
    "                    class_weight=class_weights)\n",
    "\n",
    "# Evaluate the model on the test set\n",
    "y_pred_proba = model.predict(X_val_scaled)  # Predict probabilities\n",
    "\n",
    "# Convert probabilities to class labels (0 or 1)\n",
    "y_pred = (y_pred_proba > 0.5).astype(int)\n",
    "\n",
    "print(\"\\nClassification Report:\\n\", classification_report(y_val, y_pred))\n",
    "\n",
    "cm = confusion_matrix(y_val, y_pred)\n",
    "\n",
    "disp = ConfusionMatrixDisplay(confusion_matrix=cm, display_labels=[0, 1])\n",
    "disp.plot(cmap='Blues')\n",
    "plt.title('Confusion Matrix')\n",
    "plt.show()"
   ]
  }
 ],
 "metadata": {
  "kernelspec": {
   "display_name": "Python 3",
   "language": "python",
   "name": "python3"
  },
  "language_info": {
   "codemirror_mode": {
    "name": "ipython",
    "version": 3
   },
   "file_extension": ".py",
   "mimetype": "text/x-python",
   "name": "python",
   "nbconvert_exporter": "python",
   "pygments_lexer": "ipython3",
   "version": "3.11.0"
  }
 },
 "nbformat": 4,
 "nbformat_minor": 2
}
