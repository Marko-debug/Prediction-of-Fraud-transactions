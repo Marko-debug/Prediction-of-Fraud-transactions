{
 "cells": [
  {
   "cell_type": "code",
   "execution_count": 1,
   "metadata": {},
   "outputs": [],
   "source": [
    "import pandas as pd\n",
    "import numpy as np\n",
    "import matplotlib.pyplot as plt\n",
    "from sklearn.model_selection import train_test_split, GridSearchCV\n",
    "from sklearn.neighbors import KNeighborsClassifier\n",
    "from sklearn.metrics import accuracy_score, classification_report, confusion_matrix, ConfusionMatrixDisplay\n",
    "from sklearn.decomposition import PCA\n",
    "from sklearn.preprocessing import StandardScaler, LabelEncoder"
   ]
  },
  {
   "cell_type": "code",
   "execution_count": 2,
   "metadata": {},
   "outputs": [],
   "source": [
    "def reduce_mem_usage(df, verbose=True):\n",
    "    numerics = ['int16', 'int32', 'int64', 'float16', 'float32', 'float64']\n",
    "    start_mem = df.memory_usage(deep=True).sum() / (1024 ** 2) \n",
    "    for col in df.columns:\n",
    "        col_type = df[col].dtypes\n",
    "        if col_type in numerics:\n",
    "            c_min = df[col].min()\n",
    "            c_max = df[col].max()\n",
    "            if str(col_type)[:3] == 'int':\n",
    "                if c_min > np.iinfo(np.int8).min and c_max < np.iinfo(np.int8).max:\n",
    "                    df[col] = df[col].astype(np.int8)\n",
    "                elif c_min > np.iinfo(np.int16).min and c_max < np.iinfo(np.int16).max:\n",
    "                    df[col] = df[col].astype(np.int16)\n",
    "                elif c_min > np.iinfo(np.int32).min and c_max < np.iinfo(np.int32).max:\n",
    "                    df[col] = df[col].astype(np.int32)\n",
    "                elif c_min > np.iinfo(np.int64).min and c_max < np.iinfo(np.int64).max:\n",
    "                    df[col] = df[col].astype(np.int64)  \n",
    "            else:\n",
    "                if c_min > np.finfo(np.float16).min and c_max < np.finfo(np.float16).max:\n",
    "                    df[col] = df[col].astype(np.float16)\n",
    "                elif c_min > np.finfo(np.float32).min and c_max < np.finfo(np.float32).max:\n",
    "                    df[col] = df[col].astype(np.float32)\n",
    "                else:\n",
    "                    df[col] = df[col].astype(np.float64)    \n",
    "    end_mem = df.memory_usage(deep=True).sum() / (1024 ** 2)\n",
    "    print(f\"start_mem Memory usage of df_train: {start_mem:.2f} MB\")\n",
    "    if verbose: print('Mem. usage decreased to {:5.2f} Mb ({:.1f}% reduction)'.format(end_mem, 100 * (start_mem - end_mem) / start_mem))\n",
    "    return df"
   ]
  },
  {
   "cell_type": "code",
   "execution_count": 3,
   "metadata": {},
   "outputs": [
    {
     "name": "stdout",
     "output_type": "stream",
     "text": [
      "(590540, 434)\n"
     ]
    }
   ],
   "source": [
    "df_train_trans = pd.read_csv('../input/train_transaction.csv')\n",
    "df_train_identity = pd.read_csv('../input/train_identity.csv')\n",
    "\n",
    "df_train = df_train_trans.merge(df_train_identity, how='left', on='TransactionID')\n",
    "\n",
    "print(df_train.shape)\n",
    "del df_train_trans, df_train_identity"
   ]
  },
  {
   "cell_type": "code",
   "execution_count": 4,
   "metadata": {},
   "outputs": [
    {
     "name": "stdout",
     "output_type": "stream",
     "text": [
      "start_mem Memory usage of df_train: 2513.97 MB\n",
      "Mem. usage decreased to 1204.57 Mb (52.1% reduction)\n"
     ]
    }
   ],
   "source": [
    "df_train = reduce_mem_usage(df_train)    "
   ]
  },
  {
   "cell_type": "code",
   "execution_count": 5,
   "metadata": {},
   "outputs": [
    {
     "name": "stdout",
     "output_type": "stream",
     "text": [
      "Columns removed: Index(['V138', 'V139', 'V140', 'V141', 'V142', 'V143', 'V144', 'V145', 'V146',\n",
      "       'V147',\n",
      "       ...\n",
      "       'id_27', 'id_28', 'id_29', 'id_32', 'id_33', 'id_34', 'id_35', 'id_36',\n",
      "       'id_37', 'id_38'],\n",
      "      dtype='object', length=195)\n",
      "Shape of the cleaned dataframe: (590540, 238)\n"
     ]
    }
   ],
   "source": [
    "# Label encoding for categorical features\n",
    "for col in df_train.select_dtypes(include='object').columns:\n",
    "    lbl = LabelEncoder()\n",
    "        \n",
    "    encoded_values = lbl.fit_transform(df_train[col]) \n",
    "        \n",
    "    #Replace the NaN (which becomes -1 after LabelEncoding) with -999\n",
    "    encoded_values[df_train[col].isnull()] = -999\n",
    "        \n",
    "    # Step 5: Assign the encoded values back to the column\n",
    "    df_train[col] = encoded_values\n",
    "\n",
    "df_train.fillna(-999, inplace=True)\n",
    "percent_missing = (df_train == -999).mean() * 100\n",
    "\n",
    "# Identify columns where more than 50% of the values are missing\n",
    "cols_to_drop = percent_missing[percent_missing > 50].index\n",
    "\n",
    "cols_to_keep = ['R_emaildomain', 'DeviceInfo', 'DeviceType', 'D5', 'D6', 'D7', 'D8', 'D9', 'D12', 'D13', 'D14', 'dist1', 'dist2', 'id_31', 'id_30', 'M5', 'M7', 'M8', 'M9']\n",
    "cols_to_drop = cols_to_drop.drop(cols_to_keep, errors='ignore') # Exclude 'R_emaildomain' from dropping\n",
    "\n",
    "# Drop these columns\n",
    "df_train_cleaned = df_train.drop(columns=cols_to_drop)\n",
    "\n",
    "remove_columns = ['M4']\n",
    "# Drop these columns\n",
    "df_train_cleaned = df_train_cleaned.drop(columns=remove_columns)\n",
    "\n",
    "# Display the cleaned dataframe\n",
    "print(f\"Columns removed: {cols_to_drop}\")\n",
    "print(f\"Shape of the cleaned dataframe: {df_train_cleaned.shape}\")"
   ]
  },
  {
   "cell_type": "code",
   "execution_count": 6,
   "metadata": {},
   "outputs": [],
   "source": [
    "df_train_cleaned = df_train_cleaned.drop('TransactionID', axis=1)\n",
    "\n",
    "# Select only numerical columns\n",
    "X_train = df_train_cleaned.drop(columns=['isFraud'])\n",
    "y_train = df_train_cleaned['isFraud']\n",
    "\n",
    "# Train-test split (80% train, 20% validation)\n",
    "X_train_final, X_val, y_train_final, y_val = train_test_split(X_train, y_train, test_size=0.2, random_state=42, stratify=y_train)"
   ]
  },
  {
   "cell_type": "code",
   "execution_count": null,
   "metadata": {},
   "outputs": [
    {
     "data": {
      "image/png": "[encoded data removed]",
      "text/plain": [
       "<Figure size 800x600 with 1 Axes>"
      ]
     },
     "metadata": {},
     "output_type": "display_data"
    },
    {
     "name": "stdout",
     "output_type": "stream",
     "text": [
      "Number of components to retain for 95% explained variance: 47\n"
     ]
    },
    {
     "data": {
      "text/plain": [
       "array([ 46.10375335,  55.6656993 ,  63.69896624,  69.83217339,\n",
       "        72.62631742,  75.36108075,  77.78790529,  80.06209345,\n",
       "        81.99974907,  83.85868109,  85.30187169,  86.46667857,\n",
       "        87.49605112,  88.38839908,  89.16032299,  89.8159909 ,\n",
       "        90.39378827,  90.9411861 ,  91.44209156,  91.91663617,\n",
       "        92.366929  ,  92.81398102,  93.21295737,  93.56858182,\n",
       "        93.86349141,  94.14059458,  94.41248082,  94.67415805,\n",
       "        94.91823068,  95.14868436,  95.37567978,  95.59897112,\n",
       "        95.81569893,  96.0224405 ,  96.21356813,  96.39831649,\n",
       "        96.57369221,  96.74550765,  96.90314821,  97.05600135,\n",
       "        97.2079731 ,  97.35569427,  97.49855899,  97.63725521,\n",
       "        97.77229923,  97.89685919,  98.0019662 ,  98.09825448,\n",
       "        98.19212269,  98.27550076,  98.35873177,  98.43476221,\n",
       "        98.50472148,  98.57401081,  98.64078357,  98.70197914,\n",
       "        98.762446  ,  98.81892059,  98.87114968,  98.92062886,\n",
       "        98.96887639,  99.0160421 ,  99.06031804,  99.10299309,\n",
       "        99.14232721,  99.17899274,  99.21228956,  99.24497203,\n",
       "        99.27462537,  99.30388885,  99.33237223,  99.36032518,\n",
       "        99.38791061,  99.41315744,  99.43765617,  99.4615426 ,\n",
       "        99.48422795,  99.50587671,  99.5267603 ,  99.54650266,\n",
       "        99.56594606,  99.58455685,  99.60236106,  99.61974516,\n",
       "        99.63595776,  99.65184625,  99.66711164,  99.6821767 ,\n",
       "        99.69643516,  99.709841  ,  99.72276963,  99.73552629,\n",
       "        99.74776324,  99.75968313,  99.77152677,  99.78322963,\n",
       "        99.79401537,  99.80472344,  99.81512507,  99.82386737,\n",
       "        99.83243039,  99.84035087,  99.84806643,  99.85533583,\n",
       "        99.86247422,  99.86949562,  99.87628727,  99.88255622,\n",
       "        99.88855682,  99.89400011,  99.89920914,  99.90438923,\n",
       "        99.909223  ,  99.91387068,  99.91840508,  99.92277512,\n",
       "        99.92703798,  99.93122972,  99.93530758,  99.93901241,\n",
       "        99.94246632,  99.94578504,  99.94905098,  99.95202832,\n",
       "        99.95471673,  99.9573497 ,  99.95981936,  99.96211177,\n",
       "        99.96440064,  99.96666268,  99.96877509,  99.97076305,\n",
       "        99.9725796 ,  99.97416587,  99.9756321 ,  99.97705367,\n",
       "        99.97836848,  99.97964384,  99.98082669,  99.98200317,\n",
       "        99.98309564,  99.984129  ,  99.98512964,  99.98606034,\n",
       "        99.98698222,  99.98782317,  99.98863184,  99.98934106,\n",
       "        99.99001705,  99.99066825,  99.9912393 ,  99.9917726 ,\n",
       "        99.99227025,  99.99276072,  99.99324168,  99.99370694,\n",
       "        99.99413657,  99.99455748,  99.99494698,  99.9953012 ,\n",
       "        99.99564442,  99.99596167,  99.99626242,  99.99652729,\n",
       "        99.99677012,  99.99700507,  99.9972186 ,  99.99741506,\n",
       "        99.99760246,  99.9977882 ,  99.99795231,  99.99810193,\n",
       "        99.99824637,  99.99837627,  99.99849875,  99.99860362,\n",
       "        99.99870384,  99.99879607,  99.99888088,  99.99896311,\n",
       "        99.99904151,  99.99911666,  99.99918905,  99.99925145,\n",
       "        99.99930945,  99.99936478,  99.99941752,  99.99946288,\n",
       "        99.99950528,  99.99954755,  99.9995853 ,  99.99962177,\n",
       "        99.9996562 ,  99.99968928,  99.99972096,  99.9997472 ,\n",
       "        99.99977226,  99.99979057,  99.99980656,  99.99982213,\n",
       "        99.99983737,  99.99985028,  99.9998628 ,  99.99987412,\n",
       "        99.99988492,  99.99989546,  99.99990362,  99.99991162,\n",
       "        99.99991888,  99.99992582,  99.99993205,  99.99993677,\n",
       "        99.99994101,  99.99994515,  99.99994901,  99.99995246,\n",
       "        99.99995549,  99.9999585 ,  99.99996115,  99.99996371,\n",
       "        99.99996572,  99.99996755,  99.99996915,  99.99997073,\n",
       "        99.99997215,  99.99997344,  99.99997466,  99.99997585,\n",
       "        99.99997702,  99.99997812,  99.99997913,  99.99998008,\n",
       "        99.99998095,  99.99998178,  99.99998255,  99.9999833 ,\n",
       "        99.99998405,  99.99998475,  99.99998542,  99.99998609,\n",
       "        99.9999867 ,  99.99998731,  99.99998786,  99.9999884 ,\n",
       "        99.99998891,  99.99998937,  99.99998979,  99.9999902 ,\n",
       "        99.9999906 ,  99.99999098,  99.99999133,  99.99999167,\n",
       "        99.99999198,  99.99999227,  99.99999255,  99.99999282,\n",
       "        99.99999306,  99.99999329,  99.9999935 ,  99.9999937 ,\n",
       "        99.99999391,  99.99999411,  99.99999431,  99.9999945 ,\n",
       "        99.99999468,  99.99999484,  99.999995  ,  99.99999515,\n",
       "        99.9999953 ,  99.99999545,  99.99999559,  99.99999572,\n",
       "        99.99999586,  99.99999599,  99.99999611,  99.99999623,\n",
       "        99.99999634,  99.99999645,  99.99999655,  99.99999666,\n",
       "        99.99999676,  99.99999686,  99.99999696,  99.99999705,\n",
       "        99.99999714,  99.99999723,  99.99999732,  99.9999974 ,\n",
       "        99.99999748,  99.99999757,  99.99999764,  99.99999772,\n",
       "        99.9999978 ,  99.99999787,  99.99999794,  99.99999801,\n",
       "        99.99999807,  99.99999813,  99.99999819,  99.99999825,\n",
       "        99.9999983 ,  99.99999836,  99.99999841,  99.99999846,\n",
       "        99.99999851,  99.99999856,  99.99999861,  99.99999865,\n",
       "        99.9999987 ,  99.99999874,  99.99999878,  99.99999882,\n",
       "        99.99999886,  99.99999889,  99.99999892,  99.99999896,\n",
       "        99.99999899,  99.99999902,  99.99999905,  99.99999908,\n",
       "        99.99999911,  99.99999914,  99.99999916,  99.99999919,\n",
       "        99.99999921,  99.99999924,  99.99999926,  99.99999928,\n",
       "        99.9999993 ,  99.99999932,  99.99999934,  99.99999936,\n",
       "        99.99999938,  99.9999994 ,  99.99999942,  99.99999944,\n",
       "        99.99999946,  99.99999947,  99.99999949,  99.9999995 ,\n",
       "        99.99999952,  99.99999954,  99.99999955,  99.99999957,\n",
       "        99.99999958,  99.99999959,  99.99999961,  99.99999962,\n",
       "        99.99999963,  99.99999965,  99.99999966,  99.99999967,\n",
       "        99.99999968,  99.99999969,  99.99999971,  99.99999972,\n",
       "        99.99999973,  99.99999974,  99.99999975,  99.99999976,\n",
       "        99.99999977,  99.99999977,  99.99999978,  99.99999979,\n",
       "        99.9999998 ,  99.99999981,  99.99999982,  99.99999982,\n",
       "        99.99999983,  99.99999984,  99.99999984,  99.99999985,\n",
       "        99.99999986,  99.99999986,  99.99999987,  99.99999987,\n",
       "        99.99999988,  99.99999988,  99.99999989,  99.99999989,\n",
       "        99.9999999 ,  99.9999999 ,  99.99999991,  99.99999991,\n",
       "        99.99999992,  99.99999992,  99.99999992,  99.99999993,\n",
       "        99.99999993,  99.99999994,  99.99999994,  99.99999994,\n",
       "        99.99999995,  99.99999995,  99.99999995,  99.99999996,\n",
       "        99.99999996,  99.99999996,  99.99999996,  99.99999997,\n",
       "        99.99999997,  99.99999997,  99.99999997,  99.99999998,\n",
       "        99.99999998,  99.99999998,  99.99999998,  99.99999998,\n",
       "        99.99999998,  99.99999999,  99.99999999,  99.99999999,\n",
       "        99.99999999,  99.99999999,  99.99999999,  99.99999999,\n",
       "        99.99999999, 100.        , 100.        , 100.        ,\n",
       "       100.        , 100.        , 100.        , 100.        ,\n",
       "       100.        , 100.        , 100.        , 100.        ,\n",
       "       100.        , 100.        , 100.        , 100.        ,\n",
       "       100.        ])"
      ]
     },
     "execution_count": 18,
     "metadata": {},
     "output_type": "execute_result"
    }
   ],
   "source": [
    "for f in df_train.drop('isFraud', axis=1).columns:\n",
    "     if df_train[f].dtype=='object': \n",
    "         lbl = LabelEncoder()\n",
    "         lbl.fit(df_train[f].values)\n",
    "         df_train[f] = lbl.transform(list(df_train[f].values))\n",
    "         \n",
    "df_train.fillna(-999, inplace=True)\n",
    "\n",
    "df_train_numeric = df_train.select_dtypes(include=['number'])\n",
    "\n",
    "scaler = StandardScaler()\n",
    "X_scaled = scaler.fit_transform(df_train_numeric)\n",
    "\n",
    "# Compute the covariance matrix\n",
    "cov_matrix = np.cov(X_scaled.T)  # Transpose to match the correct shape\n",
    "\n",
    "# Calculate eigenvalues and eigenvectors\n",
    "eig_vals, eig_vecs = np.linalg.eig(cov_matrix)\n",
    "\n",
    "# Sort the eigenvalues and their corresponding eigenvectors\n",
    "eig_pairs = [(np.abs(eig_vals[i]), eig_vecs[:, i]) for i in range(len(eig_vals))]\n",
    "eig_pairs.sort(key=lambda x: x[0], reverse=True)\n",
    "\n",
    "# Total variance\n",
    "tot = sum(eig_vals)\n",
    "\n",
    "# Explained variance per component\n",
    "var_exp = [(i / tot) * 100 for i in sorted(eig_vals, reverse=True)]\n",
    "\n",
    "# Cumulative explained variance\n",
    "cum_var_exp = np.cumsum(var_exp)\n",
    "\n",
    "plt.figure(figsize=(8, 6))\n",
    "plt.plot(cum_var_exp, marker='o', linestyle='--', color='b')\n",
    "plt.title('Cumulative Explained Variance vs Number of Components')\n",
    "plt.xlabel('Number of Components')\n",
    "plt.ylabel('Cumulative Explained Variance (%)')\n",
    "plt.grid(True)\n",
    "plt.show()\n",
    "\n",
    "# Optionally, decide how many components you want to retain, for example, you might choose 95% explained variance\n",
    "n_components = np.argmax(cum_var_exp >= 98) + 1  # +1 because of 0-indexing\n",
    "print(f\"Number of components to retain for 95% explained variance: {n_components}\")\n",
    "cum_var_exp\n"
   ]
  },
  {
   "cell_type": "code",
   "execution_count": 7,
   "metadata": {},
   "outputs": [],
   "source": [
    "# Apply StandardScaler (fit only on train, transform on both)\n",
    "scaler = StandardScaler()\n",
    "X_train_scaled = scaler.fit_transform(X_train_final)\n",
    "X_val_scaled = scaler.transform(X_val)\n",
    "\n",
    "# Initialize PCA and specify number of components (optional)\n",
    "pca = PCA(n_components=100)\n",
    "X_train_pca = pca.fit_transform(X_train_scaled)\n",
    "X_val_pca = pca.transform(X_val_scaled)\n"
   ]
  },
  {
   "cell_type": "code",
   "execution_count": 8,
   "metadata": {},
   "outputs": [
    {
     "name": "stdout",
     "output_type": "stream",
     "text": [
      "Fitting 3 folds for each of 42 candidates, totalling 126 fits\n",
      "Best parameters found by GridSearchCV: {'metric': 'manhattan', 'n_neighbors': 3, 'weights': 'distance'}\n",
      "Best accuracy score: 0.5035\n",
      "Accuracy of the tuned KNN model: 0.9752\n",
      "\n",
      "Classification Report:\n",
      "               precision    recall  f1-score   support\n",
      "\n",
      "           0       0.98      0.99      0.99    113975\n",
      "           1       0.74      0.45      0.56      4133\n",
      "\n",
      "    accuracy                           0.98    118108\n",
      "   macro avg       0.86      0.72      0.77    118108\n",
      "weighted avg       0.97      0.98      0.97    118108\n",
      "\n"
     ]
    },
    {
     "data": {
      "image/png": "[encoded data removed]",
      "text/plain": [
       "<Figure size 640x480 with 2 Axes>"
      ]
     },
     "metadata": {},
     "output_type": "display_data"
    }
   ],
   "source": [
    "knn = KNeighborsClassifier()\n",
    "# Step 2: Define the parameter grid for tuning\n",
    "param_grid = {\n",
    "    'n_neighbors': [3, 5, 7, 9, 11, 15, 25],\n",
    "    'weights': ['uniform', 'distance'],\n",
    "    'metric': ['euclidean', 'manhattan', 'minkowski']\n",
    "}\n",
    "\n",
    "# Step 3: Set up GridSearchCV with cross-validation (you can adjust cv depending on your machine)\n",
    "grid_search = GridSearchCV(estimator=knn, param_grid=param_grid, cv=3, n_jobs=-1, scoring='f1', verbose=2)\n",
    "\n",
    "# Step 4: Fit the GridSearchCV with the training data (using PCA-transformed data)\n",
    "grid_search.fit(X_train_pca, y_train_final)\n",
    "\n",
    "# Step 5: Retrieve and display the best parameters and best score\n",
    "print(\"Best parameters found by GridSearchCV:\", grid_search.best_params_)\n",
    "print(f\"Best accuracy score: {grid_search.best_score_:.4f}\")\n",
    "\n",
    "best_knn = grid_search.best_estimator_\n",
    "\n",
    "# Evaluate the tuned KNN model on the validation set\n",
    "y_val_pred = best_knn.predict(X_val_pca)\n",
    "accuracy = accuracy_score(y_val, y_val_pred)\n",
    "print(f\"Accuracy of the tuned KNN model: {accuracy:.4f}\")\n",
    "\n",
    "# Show detailed classification report\n",
    "print(\"\\nClassification Report:\\n\", classification_report(y_val, y_val_pred))\n",
    "\n",
    "# Generate confusion matrix\n",
    "cm = confusion_matrix(y_val, y_val_pred)\n",
    "\n",
    "# Display confusion matrix\n",
    "disp = ConfusionMatrixDisplay(confusion_matrix=cm, display_labels=best_knn.classes_)\n",
    "disp.plot(cmap='Blues')  # 'Blues' colormap for better readability\n",
    "plt.title('Confusion Matrix')\n",
    "plt.show()\n"
   ]
  }
 ],
 "metadata": {
  "kernelspec": {
   "display_name": "Python 3",
   "language": "python",
   "name": "python3"
  },
  "language_info": {
   "codemirror_mode": {
    "name": "ipython",
    "version": 3
   },
   "file_extension": ".py",
   "mimetype": "text/x-python",
   "name": "python",
   "nbconvert_exporter": "python",
   "pygments_lexer": "ipython3",
   "version": "3.13.2"
  },
  "orig_nbformat": 4
 },
 "nbformat": 4,
 "nbformat_minor": 2
}
