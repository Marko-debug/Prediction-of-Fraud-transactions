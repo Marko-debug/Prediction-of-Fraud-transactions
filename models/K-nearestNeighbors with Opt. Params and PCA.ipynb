{
 "cells": [
  {
   "cell_type": "code",
   "execution_count": 10,
   "metadata": {},
   "outputs": [],
   "source": [
    "import pandas as pd\n",
    "import matplotlib.pyplot as plt\n",
    "from sklearn.model_selection import train_test_split\n",
    "from sklearn.neighbors import KNeighborsClassifier\n",
    "from sklearn.preprocessing import StandardScaler\n",
    "from sklearn.metrics import accuracy_score, precision_score, recall_score, f1_score, classification_report, confusion_matrix, ConfusionMatrixDisplay\n",
    "\n",
    "# Load data\n",
    "train_transaction = pd.read_csv('../input/train_transaction.csv', index_col='TransactionID')\n",
    "test_transaction = pd.read_csv('../input/test_transaction.csv', index_col='TransactionID')\n",
    "train_identity = pd.read_csv('../input/train_identity.csv', index_col='TransactionID')\n",
    "test_identity = pd.read_csv('../input/test_identity.csv', index_col='TransactionID')\n",
    "sample_submission = pd.read_csv('../input/sample_submission.csv')\n",
    "\n",
    "# Merge datasets\n",
    "df_train = pd.merge(train_transaction, train_identity, on='TransactionID', how='left')\n",
    "df_test = pd.merge(test_transaction, test_identity, on='TransactionID', how='left')\n",
    "\n",
    "# Standardizing column names\n",
    "df_train.columns = df_train.columns.str.replace('-', '_')\n",
    "df_test.columns = df_test.columns.str.replace('-', '_')\n",
    "\n",
    "# 1. Select only numerical columns\n",
    "X_train = df_train.select_dtypes(include=['number'])\n",
    "X_test = df_test.select_dtypes(include=['number'])\n",
    "\n",
    "X_train, X_test = X_train.align(X_test, join='outer', axis=1, fill_value=0)\n",
    "\n",
    "# 2. Handle the target variable (assuming 'isFraud' is the target)\n",
    "y_train = df_train['isFraud']  # Target variable\n"
   ]
  },
  {
   "cell_type": "code",
   "execution_count": 18,
   "metadata": {},
   "outputs": [
    {
     "data": {
      "text/plain": [
       "C1              3\n",
       "C10             3\n",
       "C11             3\n",
       "C12             3\n",
       "C13          4748\n",
       "            ...  \n",
       "id_24      501951\n",
       "id_25      501652\n",
       "id_26      501644\n",
       "id_32      436020\n",
       "isFraud         0\n",
       "Length: 402, dtype: int64"
      ]
     },
     "execution_count": 18,
     "metadata": {},
     "output_type": "execute_result"
    }
   ],
   "source": [
    "X_train.isnull().sum()\n",
    "X_test.isnull().sum()"
   ]
  },
  {
   "cell_type": "code",
   "execution_count": 1,
   "metadata": {},
   "outputs": [
    {
     "name": "stdout",
     "output_type": "stream",
     "text": [
      "Validation Accuracy: 0.99\n",
      "Validation Precision: 0.99\n",
      "Validation Recall: 0.86\n",
      "Validation F1 Score: 0.92\n",
      "\n",
      "Classification Report:\n",
      "               precision    recall  f1-score   support\n",
      "\n",
      "           0       0.99      1.00      1.00    113866\n",
      "           1       0.99      0.86      0.92      4242\n",
      "\n",
      "    accuracy                           0.99    118108\n",
      "   macro avg       0.99      0.93      0.96    118108\n",
      "weighted avg       0.99      0.99      0.99    118108\n",
      "\n"
     ]
    },
    {
     "data": {
      "image/png": "[encoded data removed]",
      "text/plain": [
       "<Figure size 640x480 with 2 Axes>"
      ]
     },
     "metadata": {},
     "output_type": "display_data"
    }
   ],
   "source": [
    "# 3. Preprocess data: Handle missing values (if any)\n",
    "X_train.fillna(0, inplace=True)  # or you can use df_train.median() for numerical columns\n",
    "X_test.fillna(0, inplace=True)\n",
    "\n",
    "# 4. Scale the features\n",
    "scaler = StandardScaler()\n",
    "X_train_scaled = scaler.fit_transform(X_train)\n",
    "X_test_scaled = scaler.transform(X_test)\n",
    "\n",
    "# 5. Split the training data for validation\n",
    "X_train_sub, X_val, y_train_sub, y_val = train_test_split(X_train_scaled, y_train, test_size=0.2, random_state=42)\n",
    "\n",
    "# 6. Train the k-NN model\n",
    "knn = KNeighborsClassifier(n_neighbors=5)  # You can tune 'k' later\n",
    "knn.fit(X_train_sub, y_train_sub)\n",
    "\n",
    "# 7. Validate the model\n",
    "y_val_pred = knn.predict(X_val)\n",
    "\n",
    "# Calculate metrics\n",
    "accuracy = accuracy_score(y_val, y_val_pred)\n",
    "precision = precision_score(y_val, y_val_pred)\n",
    "recall = recall_score(y_val, y_val_pred)\n",
    "f1 = f1_score(y_val, y_val_pred)  # Calculate F1 Score\n",
    "\n",
    "# Print results\n",
    "print(f\"Validation Accuracy: {accuracy:.2f}\")\n",
    "print(f\"Validation Precision: {precision:.2f}\")\n",
    "print(f\"Validation Recall: {recall:.2f}\")\n",
    "print(f\"Validation F1 Score: {f1:.2f}\")  # Print F1 Score\n",
    "\n",
    "# Show detailed classification report\n",
    "print(\"\\nClassification Report:\\n\", classification_report(y_val, y_val_pred))\n",
    "\n",
    "cm = confusion_matrix(y_val, y_val_pred)\n",
    "\n",
    "# Display confusion matrix\n",
    "disp = ConfusionMatrixDisplay(confusion_matrix=cm, display_labels=knn.classes_)\n",
    "disp.plot(cmap='Blues')  # 'Blues' colormap for better readability\n",
    "plt.title('Confusion Matrix')\n",
    "plt.show()\n"
   ]
  }
 ],
 "metadata": {
  "kernelspec": {
   "display_name": "Python 3.12.6 64-bit",
   "language": "python",
   "name": "python3"
  },
  "language_info": {
   "codemirror_mode": {
    "name": "ipython",
    "version": 3
   },
   "file_extension": ".py",
   "mimetype": "text/x-python",
   "name": "python",
   "nbconvert_exporter": "python",
   "pygments_lexer": "ipython3",
   "version": "3.12.6"
  },
  "orig_nbformat": 4,
  "vscode": {
   "interpreter": {
    "hash": "af8d963e8c18f23cec2bad6a5d6829aca318c1abb40ceb23a7acab4dc52a4f14"
   }
  }
 },
 "nbformat": 4,
 "nbformat_minor": 2
}
