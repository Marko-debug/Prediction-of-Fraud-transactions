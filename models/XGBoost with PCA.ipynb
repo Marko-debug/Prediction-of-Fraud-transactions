{
 "cells": [
  {
   "cell_type": "code",
   "execution_count": 1,
   "metadata": {},
   "outputs": [],
   "source": [
    "import pandas as pd\n",
    "import xgboost as xgb\n",
    "import numpy as np\n",
    "import matplotlib.pyplot as plt\n",
    "from sklearn.model_selection import train_test_split\n",
    "from sklearn.compose import ColumnTransformer\n",
    "from sklearn.metrics import classification_report, confusion_matrix, ConfusionMatrixDisplay\n",
    "from sklearn.preprocessing import LabelEncoder, StandardScaler, OneHotEncoder\n",
    "from sklearn.decomposition import PCA"
   ]
  },
  {
   "cell_type": "code",
   "execution_count": 2,
   "metadata": {},
   "outputs": [],
   "source": [
    "def reduce_mem_usage(df, verbose=True):\n",
    "    numerics = ['int16', 'int32', 'int64', 'float16', 'float32', 'float64']\n",
    "    start_mem = df.memory_usage(deep=True).sum() / (1024 ** 2) \n",
    "    for col in df.columns:\n",
    "        col_type = df[col].dtypes\n",
    "        if col_type in numerics:\n",
    "            c_min = df[col].min()\n",
    "            c_max = df[col].max()\n",
    "            if str(col_type)[:3] == 'int':\n",
    "                if c_min > np.iinfo(np.int8).min and c_max < np.iinfo(np.int8).max:\n",
    "                    df[col] = df[col].astype(np.int8)\n",
    "                elif c_min > np.iinfo(np.int16).min and c_max < np.iinfo(np.int16).max:\n",
    "                    df[col] = df[col].astype(np.int16)\n",
    "                elif c_min > np.iinfo(np.int32).min and c_max < np.iinfo(np.int32).max:\n",
    "                    df[col] = df[col].astype(np.int32)\n",
    "                elif c_min > np.iinfo(np.int64).min and c_max < np.iinfo(np.int64).max:\n",
    "                    df[col] = df[col].astype(np.int64)  \n",
    "            else:\n",
    "                if c_min > np.finfo(np.float16).min and c_max < np.finfo(np.float16).max:\n",
    "                    df[col] = df[col].astype(np.float16)\n",
    "                elif c_min > np.finfo(np.float32).min and c_max < np.finfo(np.float32).max:\n",
    "                    df[col] = df[col].astype(np.float32)\n",
    "                else:\n",
    "                    df[col] = df[col].astype(np.float64)    \n",
    "    end_mem = df.memory_usage(deep=True).sum() / (1024 ** 2)\n",
    "    print(f\"start_mem Memory usage of df_train: {start_mem:.2f} MB\")\n",
    "    if verbose: print('Mem. usage decreased to {:5.2f} Mb ({:.1f}% reduction)'.format(end_mem, 100 * (start_mem - end_mem) / start_mem))\n",
    "    return df"
   ]
  },
  {
   "cell_type": "code",
   "execution_count": 3,
   "metadata": {},
   "outputs": [
    {
     "name": "stdout",
     "output_type": "stream",
     "text": [
      "(590540, 434)\n"
     ]
    }
   ],
   "source": [
    "df_train_trans = pd.read_csv('../input/train_transaction.csv')\n",
    "df_train_identity = pd.read_csv('../input/train_identity.csv')\n",
    "\n",
    "df_train = df_train_trans.merge(df_train_identity, how='left', on='TransactionID')\n",
    "\n",
    "print(df_train.shape)\n",
    "del df_train_trans, df_train_identity"
   ]
  },
  {
   "cell_type": "code",
   "execution_count": 4,
   "metadata": {},
   "outputs": [
    {
     "name": "stdout",
     "output_type": "stream",
     "text": [
      "start_mem Memory usage of df_train: 2513.97 MB\n",
      "Mem. usage decreased to 1204.57 Mb (52.1% reduction)\n"
     ]
    }
   ],
   "source": [
    "# Reduce memory usage\n",
    "df_train = reduce_mem_usage(df_train)       "
   ]
  },
  {
   "cell_type": "code",
   "execution_count": 5,
   "metadata": {},
   "outputs": [
    {
     "data": {
      "text/plain": [
       "np.int64(94456)"
      ]
     },
     "execution_count": 5,
     "metadata": {},
     "output_type": "execute_result"
    }
   ],
   "source": [
    "df_train[\"P_emaildomain\"].isnull().sum()"
   ]
  },
  {
   "cell_type": "code",
   "execution_count": 6,
   "metadata": {},
   "outputs": [],
   "source": [
    "# Label encoding for categorical features\n",
    "for col in df_train.select_dtypes(include='object').columns:\n",
    "    lbl = LabelEncoder()\n",
    "        \n",
    "    encoded_values = lbl.fit_transform(df_train[col]) \n",
    "        \n",
    "    #Replace the NaN (which becomes -1 after LabelEncoding) with -999\n",
    "    encoded_values[df_train[col].isnull()] = -999\n",
    "        \n",
    "    # Step 5: Assign the encoded values back to the column\n",
    "    df_train[col] = encoded_values"
   ]
  },
  {
   "cell_type": "code",
   "execution_count": 7,
   "metadata": {},
   "outputs": [
    {
     "data": {
      "text/plain": [
       "np.int64(104178894)"
      ]
     },
     "execution_count": 7,
     "metadata": {},
     "output_type": "execute_result"
    }
   ],
   "source": [
    "\n",
    "df_train.isnull().sum().sum()"
   ]
  },
  {
   "cell_type": "code",
   "execution_count": 8,
   "metadata": {},
   "outputs": [
    {
     "data": {
      "text/plain": [
       "np.int64(0)"
      ]
     },
     "execution_count": 8,
     "metadata": {},
     "output_type": "execute_result"
    }
   ],
   "source": [
    "df_train.fillna(-999, inplace=True)\n",
    "df_train.isnull().sum().sum()"
   ]
  },
  {
   "cell_type": "code",
   "execution_count": 9,
   "metadata": {},
   "outputs": [
    {
     "name": "stdout",
     "output_type": "stream",
     "text": [
      "Columns removed: Index(['dist1', 'dist2', 'R_emaildomain', 'D5', 'D6', 'D7', 'D8', 'D9', 'D12',\n",
      "       'D13',\n",
      "       ...\n",
      "       'id_31', 'id_32', 'id_33', 'id_34', 'id_35', 'id_36', 'id_37', 'id_38',\n",
      "       'DeviceType', 'DeviceInfo'],\n",
      "      dtype='object', length=214)\n",
      "Shape of the cleaned dataframe: (590540, 220)\n"
     ]
    }
   ],
   "source": [
    "percent_missing = (df_train == -999).mean() * 100\n",
    "\n",
    "# Identify columns where more than 50% of the values are missing\n",
    "cols_to_drop = percent_missing[percent_missing > 50].index\n",
    "\n",
    "# Drop these columns\n",
    "df_train_cleaned = df_train.drop(columns=cols_to_drop)\n",
    "\n",
    "# Display the cleaned dataframe\n",
    "print(f\"Columns removed: {cols_to_drop}\")\n",
    "print(f\"Shape of the cleaned dataframe: {df_train_cleaned.shape}\")"
   ]
  },
  {
   "cell_type": "code",
   "execution_count": 25,
   "metadata": {},
   "outputs": [
    {
     "data": {
      "image/png": "[encoded data removed]",
      "text/plain": [
       "<Figure size 800x600 with 1 Axes>"
      ]
     },
     "metadata": {},
     "output_type": "display_data"
    },
    {
     "name": "stdout",
     "output_type": "stream",
     "text": [
      "Number of components with explained variance greater than 0.1%: 33\n"
     ]
    }
   ],
   "source": [
    "scaler = StandardScaler()\n",
    "X_scaled = scaler.fit_transform(df_train_cleaned)\n",
    "\n",
    "# Compute the covariance matrix\n",
    "cov_matrix = np.cov(X_scaled.T)  # Transpose to match the correct shape\n",
    "\n",
    "# Calculate eigenvalues and eigenvectors\n",
    "eig_vals, eig_vecs = np.linalg.eig(cov_matrix)\n",
    "\n",
    "# Sort the eigenvalues and their corresponding eigenvectors\n",
    "eig_pairs = [(np.abs(eig_vals[i]), eig_vecs[:, i]) for i in range(len(eig_vals))]\n",
    "eig_pairs.sort(key=lambda x: x[0], reverse=True)\n",
    "\n",
    "# Total variance\n",
    "tot = sum(eig_vals)\n",
    "\n",
    "# Explained variance per component\n",
    "var_exp = [(i / tot) * 100 for i in sorted(eig_vals, reverse=True)]\n",
    "\n",
    "# Cumulative explained variance\n",
    "cum_var_exp = np.cumsum(var_exp)\n",
    "\n",
    "plt.figure(figsize=(8, 6))\n",
    "plt.plot(cum_var_exp, marker='o', linestyle='--', color='b')\n",
    "plt.title('Cumulative Explained Variance vs Number of Components')\n",
    "plt.xlabel('Number of Components')\n",
    "plt.ylabel('Cumulative Explained Variance (%)')\n",
    "plt.grid(True)\n",
    "plt.show()\n",
    "\n",
    "num_components_above_01 = len([var for var in var_exp if var > 0.1])\n",
    "\n",
    "print(f\"Number of components with explained variance greater than 0.1%: {num_components_above_01}\")\n"
   ]
  },
  {
   "cell_type": "code",
   "execution_count": 26,
   "metadata": {},
   "outputs": [],
   "source": [
    "# Select only numerical columns\n",
    "X_train = df_train_cleaned.drop(columns=['isFraud'], errors='ignore')\n",
    "y_train = df_train_cleaned['isFraud']\n",
    "\n",
    "# Train-test split (80% train, 20% validation)\n",
    "X_train_final, X_val, y_train_final, y_val = train_test_split(X_train, y_train, test_size=0.2, random_state=42, stratify=y_train)"
   ]
  },
  {
   "cell_type": "code",
   "execution_count": null,
   "metadata": {},
   "outputs": [
    {
     "name": "stdout",
     "output_type": "stream",
     "text": [
      "\n",
      "Classification Report:\n",
      "               precision    recall  f1-score   support\n",
      "\n",
      "           0       0.98      1.00      0.99    113975\n",
      "           1       0.82      0.35      0.49      4133\n",
      "\n",
      "    accuracy                           0.97    118108\n",
      "   macro avg       0.90      0.67      0.74    118108\n",
      "weighted avg       0.97      0.97      0.97    118108\n",
      "\n"
     ]
    },
    {
     "data": {
      "image/png": "[encoded data removed]",
      "text/plain": [
       "<Figure size 640x480 with 2 Axes>"
      ]
     },
     "metadata": {},
     "output_type": "display_data"
    }
   ],
   "source": [
    "# Apply StandardScaler (fit only on train, transform on both)\n",
    "scaler = StandardScaler()\n",
    "X_train_scaled = scaler.fit_transform(X_train_final)\n",
    "X_val_scaled = scaler.transform(X_val)\n",
    "\n",
    "# Initialize PCA and specify number of components (optional)\n",
    "pca = PCA(n_components=33)\n",
    "X_train_pca = pca.fit_transform(X_train_scaled)\n",
    "X_val_pca = pca.transform(X_val_scaled)\n",
    "\n",
    "model = xgb.XGBClassifier(\n",
    "    objective='binary:logistic',\n",
    "    eval_metric='auc',\n",
    "    n_estimators=300,\n",
    "    random_state=42\n",
    ")\n",
    "# Train the model on PCA-transformed data\n",
    "model.fit(X_train_pca, y_train_final)\n",
    "\n",
    "# Make predictions\n",
    "y_val_pred = model.predict(X_val_pca)\n",
    "\n",
    "# Show classification report\n",
    "print(\"\\nClassification Report:\\n\", classification_report(y_val, y_val_pred))\n",
    "\n",
    "# Confusion Matrix\n",
    "cm = confusion_matrix(y_val, y_val_pred)\n",
    "disp = ConfusionMatrixDisplay(confusion_matrix=cm, display_labels=model.classes_)\n",
    "disp.plot(cmap='Blues')\n",
    "plt.title('Confusion Matrix')\n",
    "plt.show()"
   ]
  }
 ],
 "metadata": {
  "kernelspec": {
   "display_name": "Python 3",
   "language": "python",
   "name": "python3"
  },
  "language_info": {
   "codemirror_mode": {
    "name": "ipython",
    "version": 3
   },
   "file_extension": ".py",
   "mimetype": "text/x-python",
   "name": "python",
   "nbconvert_exporter": "python",
   "pygments_lexer": "ipython3",
   "version": "3.13.2"
  },
  "orig_nbformat": 4
 },
 "nbformat": 4,
 "nbformat_minor": 2
}
