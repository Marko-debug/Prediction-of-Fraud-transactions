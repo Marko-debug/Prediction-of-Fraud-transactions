{
 "cells": [
  {
   "cell_type": "code",
   "execution_count": 2,
   "metadata": {},
   "outputs": [],
   "source": [
    "import pandas as pd\n",
    "import xgboost as xgb\n",
    "import numpy as np\n",
    "import matplotlib.pyplot as plt\n",
    "from sklearn.model_selection import train_test_split\n",
    "from sklearn.metrics import classification_report, confusion_matrix, ConfusionMatrixDisplay\n",
    "from sklearn.preprocessing import LabelEncoder, StandardScaler\n",
    "from sklearn.decomposition import PCA"
   ]
  },
  {
   "cell_type": "code",
   "execution_count": 1,
   "metadata": {},
   "outputs": [],
   "source": [
    "def reduce_mem_usage(df, verbose=True):\n",
    "    numerics = ['int16', 'int32', 'int64', 'float16', 'float32', 'float64']\n",
    "    start_mem = df.memory_usage(deep=True).sum() / (1024 ** 2) \n",
    "    for col in df.columns:\n",
    "        col_type = df[col].dtypes\n",
    "        if col_type in numerics:\n",
    "            c_min = df[col].min()\n",
    "            c_max = df[col].max()\n",
    "            if str(col_type)[:3] == 'int':\n",
    "                if c_min > np.iinfo(np.int8).min and c_max < np.iinfo(np.int8).max:\n",
    "                    df[col] = df[col].astype(np.int8)\n",
    "                elif c_min > np.iinfo(np.int16).min and c_max < np.iinfo(np.int16).max:\n",
    "                    df[col] = df[col].astype(np.int16)\n",
    "                elif c_min > np.iinfo(np.int32).min and c_max < np.iinfo(np.int32).max:\n",
    "                    df[col] = df[col].astype(np.int32)\n",
    "                elif c_min > np.iinfo(np.int64).min and c_max < np.iinfo(np.int64).max:\n",
    "                    df[col] = df[col].astype(np.int64)  \n",
    "            else:\n",
    "                if c_min > np.finfo(np.float16).min and c_max < np.finfo(np.float16).max:\n",
    "                    df[col] = df[col].astype(np.float16)\n",
    "                elif c_min > np.finfo(np.float32).min and c_max < np.finfo(np.float32).max:\n",
    "                    df[col] = df[col].astype(np.float32)\n",
    "                else:\n",
    "                    df[col] = df[col].astype(np.float64)    \n",
    "    end_mem = df.memory_usage(deep=True).sum() / (1024 ** 2)\n",
    "    print(f\"start_mem Memory usage of df_train: {start_mem:.2f} MB\")\n",
    "    if verbose: print('Mem. usage decreased to {:5.2f} Mb ({:.1f}% reduction)'.format(end_mem, 100 * (start_mem - end_mem) / start_mem))\n",
    "    return df"
   ]
  },
  {
   "cell_type": "code",
   "execution_count": 3,
   "metadata": {},
   "outputs": [
    {
     "name": "stdout",
     "output_type": "stream",
     "text": [
      "(590540, 434)\n"
     ]
    }
   ],
   "source": [
    "df_train_trans = pd.read_csv('../input/train_transaction.csv')\n",
    "\n",
    "df_train_identity = pd.read_csv('../input/train_identity.csv')\n",
    "\n",
    "sample_submission = pd.read_csv('../input/sample_submission.csv', index_col='TransactionID')\n",
    "\n",
    "df_train = df_train_trans.merge(df_train_identity, how='left', on='TransactionID')\n",
    "\n",
    "print(df_train.shape)\n",
    "del df_train_trans, df_train_identity"
   ]
  },
  {
   "cell_type": "code",
   "execution_count": 4,
   "metadata": {},
   "outputs": [
    {
     "name": "stdout",
     "output_type": "stream",
     "text": [
      "start_mem Memory usage of df_train: 2513.97 MB\n",
      "Mem. usage decreased to 1204.57 Mb (52.1% reduction)\n"
     ]
    }
   ],
   "source": [
    "# Reduce memory usage\n",
    "df_train = reduce_mem_usage(df_train)       "
   ]
  },
  {
   "cell_type": "code",
   "execution_count": 5,
   "metadata": {},
   "outputs": [
    {
     "data": {
      "text/plain": [
       "np.int64(94456)"
      ]
     },
     "execution_count": 5,
     "metadata": {},
     "output_type": "execute_result"
    }
   ],
   "source": [
    "df_train[\"P_emaildomain\"].isnull().sum()"
   ]
  },
  {
   "cell_type": "code",
   "execution_count": 6,
   "metadata": {},
   "outputs": [],
   "source": [
    "# Label encoding for categorical features\n",
    "for col in df_train.select_dtypes(include='object').columns:\n",
    "    lbl = LabelEncoder()\n",
    "        \n",
    "    encoded_values = lbl.fit_transform(df_train[col]) \n",
    "        \n",
    "    #Replace the NaN (which becomes -1 after LabelEncoding) with -999\n",
    "    encoded_values[df_train[col].isnull()] = -999\n",
    "        \n",
    "    # Step 5: Assign the encoded values back to the column\n",
    "    df_train[col] = encoded_values"
   ]
  },
  {
   "cell_type": "code",
   "execution_count": 7,
   "metadata": {},
   "outputs": [
    {
     "data": {
      "text/plain": [
       "np.int64(104178894)"
      ]
     },
     "execution_count": 7,
     "metadata": {},
     "output_type": "execute_result"
    }
   ],
   "source": [
    "df_train.isnull().sum().sum()"
   ]
  },
  {
   "cell_type": "code",
   "execution_count": 8,
   "metadata": {},
   "outputs": [
    {
     "data": {
      "text/plain": [
       "np.int64(0)"
      ]
     },
     "execution_count": 8,
     "metadata": {},
     "output_type": "execute_result"
    }
   ],
   "source": [
    "df_train.fillna(-999, inplace=True)\n",
    "df_train.isnull().sum().sum()"
   ]
  },
  {
   "cell_type": "code",
   "execution_count": 9,
   "metadata": {},
   "outputs": [
    {
     "name": "stdout",
     "output_type": "stream",
     "text": [
      "Columns removed: Index(['dist1', 'dist2', 'R_emaildomain', 'D5', 'D6', 'D7', 'D8', 'D9', 'D12',\n",
      "       'D13',\n",
      "       ...\n",
      "       'id_31', 'id_32', 'id_33', 'id_34', 'id_35', 'id_36', 'id_37', 'id_38',\n",
      "       'DeviceType', 'DeviceInfo'],\n",
      "      dtype='object', length=214)\n",
      "Shape of the cleaned dataframe: (590540, 220)\n"
     ]
    }
   ],
   "source": [
    "percent_missing = (df_train == -999).mean() * 100\n",
    "\n",
    "# Identify columns where more than 50% of the values are missing\n",
    "cols_to_drop = percent_missing[percent_missing > 50].index\n",
    "\n",
    "# Drop these columns\n",
    "df_train_cleaned = df_train.drop(columns=cols_to_drop)\n",
    "\n",
    "# Display the cleaned dataframe\n",
    "print(f\"Columns removed: {cols_to_drop}\")\n",
    "print(f\"Shape of the cleaned dataframe: {df_train_cleaned.shape}\")"
   ]
  },
  {
   "cell_type": "code",
   "execution_count": 10,
   "metadata": {},
   "outputs": [
    {
     "data": {
      "image/png": "[encoded data removed]",
      "text/plain": [
       "<Figure size 800x600 with 1 Axes>"
      ]
     },
     "metadata": {},
     "output_type": "display_data"
    },
    {
     "name": "stdout",
     "output_type": "stream",
     "text": [
      "Number of components to retain for 95% explained variance: 27\n"
     ]
    },
    {
     "data": {
      "text/plain": [
       "[np.float64(33.49491606097114),\n",
       " np.float64(13.53597442034429),\n",
       " np.float64(9.612681139032492),\n",
       " np.float64(6.316237006336624),\n",
       " np.float64(5.274259378245216),\n",
       " np.float64(4.855444086449674),\n",
       " np.float64(4.532312573886342),\n",
       " np.float64(3.6465300177020774),\n",
       " np.float64(2.3022353104064566),\n",
       " np.float64(1.6656371736117233),\n",
       " np.float64(1.6266899755457194),\n",
       " np.float64(1.5877324330695177),\n",
       " np.float64(1.364758915291717),\n",
       " np.float64(1.020081458271317),\n",
       " np.float64(0.9212951831681035),\n",
       " np.float64(0.8763090978964782),\n",
       " np.float64(0.8527206705567457),\n",
       " np.float64(0.7121842103495926),\n",
       " np.float64(0.6380129501711422),\n",
       " np.float64(0.5198195886301953),\n",
       " np.float64(0.4577269088278767),\n",
       " np.float64(0.4517425313758515),\n",
       " np.float64(0.429579639361378),\n",
       " np.float64(0.4113746090559842),\n",
       " np.float64(0.3820893228013958),\n",
       " np.float64(0.29522082243362013),\n",
       " np.float64(0.26704577311650074),\n",
       " np.float64(0.24314014935384426),\n",
       " np.float64(0.2369208391044301),\n",
       " np.float64(0.18435005027447735),\n",
       " np.float64(0.12981863466497215),\n",
       " np.float64(0.12842652936830418),\n",
       " np.float64(0.1214920807957554),\n",
       " np.float64(0.09213909877119654),\n",
       " np.float64(0.0833638576701956),\n",
       " np.float64(0.07908842259581916),\n",
       " np.float64(0.07066209825033103),\n",
       " np.float64(0.0636772314932933),\n",
       " np.float64(0.052849110548597845),\n",
       " np.float64(0.049719934674630074),\n",
       " np.float64(0.041283222577592454),\n",
       " np.float64(0.03748726355963628),\n",
       " np.float64(0.035372749213725296),\n",
       " np.float64(0.03086230556669418),\n",
       " np.float64(0.02840775714136516),\n",
       " np.float64(0.025767688355473738),\n",
       " np.float64(0.024838929917313977),\n",
       " np.float64(0.02384930735860374),\n",
       " np.float64(0.01676736929212065),\n",
       " np.float64(0.016093092225267613),\n",
       " np.float64(0.014495954273386838),\n",
       " np.float64(0.013326630426614854),\n",
       " np.float64(0.012526841455930469),\n",
       " np.float64(0.011161233923583671),\n",
       " np.float64(0.010096646778486533),\n",
       " np.float64(0.00890550641841962),\n",
       " np.float64(0.008277574761214867),\n",
       " np.float64(0.006260057321548742),\n",
       " np.float64(0.005507273705791113),\n",
       " np.float64(0.005315670974619076),\n",
       " np.float64(0.004624643464919636),\n",
       " np.float64(0.004312123029053231),\n",
       " np.float64(0.0032171794704325203),\n",
       " np.float64(0.0026476761235643045),\n",
       " np.float64(0.002524370052032303),\n",
       " np.float64(0.0024223465162242215),\n",
       " np.float64(0.0021776042494012523),\n",
       " np.float64(0.0019948661125979354),\n",
       " np.float64(0.0018101651848108594),\n",
       " np.float64(0.0011053480506726713),\n",
       " np.float64(0.0010152742234157519),\n",
       " np.float64(0.0009933688101844051),\n",
       " np.float64(0.0009453083475527154),\n",
       " np.float64(0.0008294342832400344),\n",
       " np.float64(0.000750790086920719),\n",
       " np.float64(0.0007301590359808713),\n",
       " np.float64(0.0006909980860408043),\n",
       " np.float64(0.0005644855151259249),\n",
       " np.float64(0.0005257975663575936),\n",
       " np.float64(0.0004883904323419649),\n",
       " np.float64(0.0004344475448335156),\n",
       " np.float64(0.00029145850188832975),\n",
       " np.float64(0.00028299172871464013),\n",
       " np.float64(0.00026905149156631133),\n",
       " np.float64(0.00022333861442716915),\n",
       " np.float64(0.0001926731317645542),\n",
       " np.float64(0.00017055178252955246),\n",
       " np.float64(0.00012515539473803946),\n",
       " np.float64(0.00011941327098375658),\n",
       " np.float64(0.00011046747285354305),\n",
       " np.float64(7.861726402774396e-05),\n",
       " np.float64(7.001191863837943e-05),\n",
       " np.float64(5.307487981929278e-05),\n",
       " np.float64(5.0801225325117814e-05),\n",
       " np.float64(3.88438054433115e-05),\n",
       " np.float64(3.4799173743846116e-05),\n",
       " np.float64(3.254927468635887e-05),\n",
       " np.float64(2.6749077789799783e-05),\n",
       " np.float64(2.5402125236519558e-05),\n",
       " np.float64(2.1500618786679368e-05),\n",
       " np.float64(1.680803553633434e-05),\n",
       " np.float64(1.3782668943491882e-05),\n",
       " np.float64(1.0877158354655705e-05),\n",
       " np.float64(9.326192314255915e-06),\n",
       " np.float64(8.467014946346514e-06),\n",
       " np.float64(6.890957500442061e-06),\n",
       " np.float64(6.015193903265141e-06),\n",
       " np.float64(5.0713888851239985e-06),\n",
       " np.float64(3.90589930854868e-06),\n",
       " np.float64(3.1716836270210175e-06),\n",
       " np.float64(2.8630892363530256e-06),\n",
       " np.float64(2.7483017383601925e-06),\n",
       " np.float64(2.1057976170269093e-06),\n",
       " np.float64(1.7396937767822975e-06),\n",
       " np.float64(1.5556425339728275e-06),\n",
       " np.float64(1.512804859928973e-06),\n",
       " np.float64(1.4673839569986793e-06),\n",
       " np.float64(1.3571250694747523e-06),\n",
       " np.float64(1.2861226010984252e-06),\n",
       " np.float64(1.121123754085876e-06),\n",
       " np.float64(1.0998894962545519e-06),\n",
       " np.float64(1.050773431632265e-06),\n",
       " np.float64(8.251955376339909e-07),\n",
       " np.float64(6.511781863917869e-07),\n",
       " np.float64(5.782948509287871e-07),\n",
       " np.float64(5.079950575013334e-07),\n",
       " np.float64(4.683371873271776e-07),\n",
       " np.float64(4.646211727474851e-07),\n",
       " np.float64(4.1678910677651433e-07),\n",
       " np.float64(4.0619863601151647e-07),\n",
       " np.float64(3.9916674443522113e-07),\n",
       " np.float64(3.7309137291421215e-07),\n",
       " np.float64(3.632197894243001e-07),\n",
       " np.float64(3.195609585108802e-07),\n",
       " np.float64(2.889922026253517e-07),\n",
       " np.float64(2.7286342137572e-07),\n",
       " np.float64(2.653669785079493e-07),\n",
       " np.float64(2.3749516645089402e-07),\n",
       " np.float64(2.2668405956472827e-07),\n",
       " np.float64(2.074994608742445e-07),\n",
       " np.float64(2.043006345291696e-07),\n",
       " np.float64(2.0312473777872698e-07),\n",
       " np.float64(2.0098077059756835e-07),\n",
       " np.float64(1.7169781221702926e-07),\n",
       " np.float64(1.7044530573206732e-07),\n",
       " np.float64(1.6707387909460415e-07),\n",
       " np.float64(1.641786276313572e-07),\n",
       " np.float64(1.585011714209957e-07),\n",
       " np.float64(1.5156283140012586e-07),\n",
       " np.float64(1.358522990535291e-07),\n",
       " np.float64(1.2977228012985324e-07),\n",
       " np.float64(1.1279212077026568e-07),\n",
       " np.float64(1.0994057480931368e-07),\n",
       " np.float64(1.0402355970781392e-07),\n",
       " np.float64(1.0144075410777522e-07),\n",
       " np.float64(9.492250246693942e-08),\n",
       " np.float64(8.026551464930942e-08),\n",
       " np.float64(7.794130059828883e-08),\n",
       " np.float64(7.420260519041533e-08),\n",
       " np.float64(6.800175464061762e-08),\n",
       " np.float64(6.709980929778896e-08),\n",
       " np.float64(6.510374839437637e-08),\n",
       " np.float64(5.897109017685002e-08),\n",
       " np.float64(5.710190896345706e-08),\n",
       " np.float64(5.5359916565056805e-08),\n",
       " np.float64(5.223743669687465e-08),\n",
       " np.float64(4.6316332184287194e-08),\n",
       " np.float64(4.543455075279216e-08),\n",
       " np.float64(4.201870732098144e-08),\n",
       " np.float64(4.018145648978316e-08),\n",
       " np.float64(3.620534733162773e-08),\n",
       " np.float64(3.4637674574607356e-08),\n",
       " np.float64(3.4373002526243644e-08),\n",
       " np.float64(3.3714389078784614e-08),\n",
       " np.float64(3.1857145139913354e-08),\n",
       " np.float64(3.113463480105347e-08),\n",
       " np.float64(2.9747540487594276e-08),\n",
       " np.float64(2.8533034974262083e-08),\n",
       " np.float64(2.7024805250633872e-08),\n",
       " np.float64(2.6343125644020643e-08),\n",
       " np.float64(2.4247600449077812e-08),\n",
       " np.float64(2.34493500321669e-08),\n",
       " np.float64(2.3228469773513798e-08),\n",
       " np.float64(2.177447873143648e-08),\n",
       " np.float64(2.0765186225348944e-08),\n",
       " np.float64(1.8904482174513986e-08),\n",
       " np.float64(1.8698484082398937e-08),\n",
       " np.float64(1.7635830366560217e-08),\n",
       " np.float64(1.7062010345952698e-08),\n",
       " np.float64(1.5365452832220492e-08),\n",
       " np.float64(1.4043583274209206e-08),\n",
       " np.float64(1.3703269116700482e-08),\n",
       " np.float64(1.3234181641586596e-08),\n",
       " np.float64(1.2458413883170762e-08),\n",
       " np.float64(1.0916887505404039e-08),\n",
       " np.float64(9.653658750584408e-09),\n",
       " np.float64(9.195489236836923e-09),\n",
       " np.float64(8.620554315494367e-09),\n",
       " np.float64(8.319657505600914e-09),\n",
       " np.float64(8.219101391051113e-09),\n",
       " np.float64(7.387471606189292e-09),\n",
       " np.float64(7.1025821599027134e-09),\n",
       " np.float64(6.875797244651111e-09),\n",
       " np.float64(6.52970441643844e-09),\n",
       " np.float64(6.261764051992198e-09),\n",
       " np.float64(5.828178760752164e-09),\n",
       " np.float64(5.284858533070885e-09),\n",
       " np.float64(4.404465071258965e-09),\n",
       " np.float64(3.966402989139896e-09),\n",
       " np.float64(3.5765264715689363e-09),\n",
       " np.float64(3.4538380542987877e-09),\n",
       " np.float64(3.1112334978122807e-09),\n",
       " np.float64(2.81486698260974e-09),\n",
       " np.float64(2.3169157366358527e-09),\n",
       " np.float64(1.3927634367789294e-09),\n",
       " np.float64(9.33737145032902e-10),\n",
       " np.float64(7.119061301097758e-10),\n",
       " np.float64(5.712774424266824e-10),\n",
       " np.float64(3.5472579043029076e-10),\n",
       " np.float64(5.571557711188073e-11)]"
      ]
     },
     "execution_count": 10,
     "metadata": {},
     "output_type": "execute_result"
    }
   ],
   "source": [
    "scaler = StandardScaler()\n",
    "X_scaled = scaler.fit_transform(df_train_cleaned)\n",
    "\n",
    "# Compute the covariance matrix\n",
    "cov_matrix = np.cov(X_scaled.T)  # Transpose to match the correct shape\n",
    "\n",
    "# Calculate eigenvalues and eigenvectors\n",
    "eig_vals, eig_vecs = np.linalg.eig(cov_matrix)\n",
    "\n",
    "# Sort the eigenvalues and their corresponding eigenvectors\n",
    "eig_pairs = [(np.abs(eig_vals[i]), eig_vecs[:, i]) for i in range(len(eig_vals))]\n",
    "eig_pairs.sort(key=lambda x: x[0], reverse=True)\n",
    "\n",
    "# Total variance\n",
    "tot = sum(eig_vals)\n",
    "\n",
    "# Explained variance per component\n",
    "var_exp = [(i / tot) * 100 for i in sorted(eig_vals, reverse=True)]\n",
    "\n",
    "# Cumulative explained variance\n",
    "cum_var_exp = np.cumsum(var_exp)\n",
    "\n",
    "plt.figure(figsize=(8, 6))\n",
    "plt.plot(cum_var_exp, marker='o', linestyle='--', color='b')\n",
    "plt.title('Cumulative Explained Variance vs Number of Components')\n",
    "plt.xlabel('Number of Components')\n",
    "plt.ylabel('Cumulative Explained Variance (%)')\n",
    "plt.grid(True)\n",
    "plt.show()\n",
    "\n",
    "# Optionally, decide how many components you want to retain, for example, you might choose 95% explained variance\n",
    "n_components = np.argmax(cum_var_exp >= 98) + 1  # +1 because of 0-indexing\n",
    "print(f\"Number of components to retain for 95% explained variance: {n_components}\")\n",
    "\n",
    "var_exp\n"
   ]
  },
  {
   "cell_type": "code",
   "execution_count": 13,
   "metadata": {},
   "outputs": [],
   "source": [
    "# Select only numerical columns\n",
    "X_train = df_train_cleaned.drop(columns=['isFraud'], errors='ignore')\n",
    "y_train = df_train_cleaned['isFraud']\n",
    "\n",
    "# Train-test split (80% train, 20% validation)\n",
    "X_train_final, X_val, y_train_final, y_val = train_test_split(X_train, y_train, test_size=0.2, random_state=42, stratify=y_train)"
   ]
  },
  {
   "cell_type": "code",
   "execution_count": 16,
   "metadata": {},
   "outputs": [
    {
     "name": "stdout",
     "output_type": "stream",
     "text": [
      "\n",
      "Classification Report:\n",
      "               precision    recall  f1-score   support\n",
      "\n",
      "           0       0.98      1.00      0.99    113975\n",
      "           1       0.88      0.47      0.62      4133\n",
      "\n",
      "    accuracy                           0.98    118108\n",
      "   macro avg       0.93      0.74      0.80    118108\n",
      "weighted avg       0.98      0.98      0.98    118108\n",
      "\n"
     ]
    },
    {
     "data": {
      "image/png": "[encoded data removed]",
      "text/plain": [
       "<Figure size 640x480 with 2 Axes>"
      ]
     },
     "metadata": {},
     "output_type": "display_data"
    }
   ],
   "source": [
    "# Apply StandardScaler (fit only on train, transform on both)\n",
    "scaler = StandardScaler()\n",
    "X_train_scaled = scaler.fit_transform(X_train_final)\n",
    "X_val_scaled = scaler.transform(X_val)\n",
    "\n",
    "# Initialize PCA and specify number of components (optional)\n",
    "pca = PCA(n_components=200)\n",
    "X_train_pca = pca.fit_transform(X_train_scaled)\n",
    "X_val_pca = pca.transform(X_val_scaled)\n",
    "\n",
    "model = xgb.XGBClassifier(\n",
    "    objective='binary:logistic',\n",
    "    eval_metric='auc',\n",
    "    n_estimators=300,\n",
    "    random_state=42\n",
    ")\n",
    "# Train the model on PCA-transformed data\n",
    "model.fit(X_train_pca, y_train_final)\n",
    "\n",
    "# Make predictions\n",
    "y_val_pred = model.predict(X_val_pca)\n",
    "\n",
    "# Show classification report\n",
    "print(\"\\nClassification Report:\\n\", classification_report(y_val, y_val_pred))\n",
    "\n",
    "# Confusion Matrix\n",
    "cm = confusion_matrix(y_val, y_val_pred)\n",
    "disp = ConfusionMatrixDisplay(confusion_matrix=cm, display_labels=model.classes_)\n",
    "disp.plot(cmap='Blues')\n",
    "plt.title('Confusion Matrix')\n",
    "plt.show()"
   ]
  }
 ],
 "metadata": {
  "kernelspec": {
   "display_name": "Python 3",
   "language": "python",
   "name": "python3"
  },
  "language_info": {
   "codemirror_mode": {
    "name": "ipython",
    "version": 3
   },
   "file_extension": ".py",
   "mimetype": "text/x-python",
   "name": "python",
   "nbconvert_exporter": "python",
   "pygments_lexer": "ipython3",
   "version": "3.13.2"
  },
  "orig_nbformat": 4
 },
 "nbformat": 4,
 "nbformat_minor": 2
}
