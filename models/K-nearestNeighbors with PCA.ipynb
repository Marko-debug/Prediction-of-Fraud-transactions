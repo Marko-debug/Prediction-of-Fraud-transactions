{
 "cells": [
  {
   "cell_type": "code",
   "execution_count": null,
   "metadata": {},
   "outputs": [],
   "source": [
    "import pandas as pd\n",
    "import numpy as np\n",
    "import matplotlib.pyplot as plt\n",
    "from sklearn.model_selection import train_test_split\n",
    "from sklearn.neighbors import KNeighborsClassifier\n",
    "from sklearn.metrics import accuracy_score, classification_report, confusion_matrix, ConfusionMatrixDisplay\n",
    "from sklearn.decomposition import PCA\n",
    "from sklearn.preprocessing import StandardScaler, LabelEncoder"
   ]
  },
  {
   "cell_type": "code",
   "execution_count": 3,
   "metadata": {},
   "outputs": [],
   "source": [
    "## Function to reduce the DF size\n",
    "def reduce_mem_usage(df, verbose=True):\n",
    "    numerics = ['int16', 'int32', 'int64', 'float16', 'float32', 'float64']\n",
    "    start_mem = df.memory_usage(deep=True).sum() / (1024 ** 2) \n",
    "    for col in df.columns:\n",
    "        col_type = df[col].dtypes\n",
    "        if col_type in numerics:\n",
    "            c_min = df[col].min()\n",
    "            c_max = df[col].max()\n",
    "            if str(col_type)[:3] == 'int':\n",
    "                if c_min > np.iinfo(np.int8).min and c_max < np.iinfo(np.int8).max:\n",
    "                    df[col] = df[col].astype(np.int8)\n",
    "                elif c_min > np.iinfo(np.int16).min and c_max < np.iinfo(np.int16).max:\n",
    "                    df[col] = df[col].astype(np.int16)\n",
    "                elif c_min > np.iinfo(np.int32).min and c_max < np.iinfo(np.int32).max:\n",
    "                    df[col] = df[col].astype(np.int32)\n",
    "                elif c_min > np.iinfo(np.int64).min and c_max < np.iinfo(np.int64).max:\n",
    "                    df[col] = df[col].astype(np.int64)  \n",
    "            else:\n",
    "                if c_min > np.finfo(np.float16).min and c_max < np.finfo(np.float16).max:\n",
    "                    df[col] = df[col].astype(np.float16)\n",
    "                elif c_min > np.finfo(np.float32).min and c_max < np.finfo(np.float32).max:\n",
    "                    df[col] = df[col].astype(np.float32)\n",
    "                else:\n",
    "                    df[col] = df[col].astype(np.float64)    \n",
    "    end_mem = df.memory_usage(deep=True).sum() / (1024 ** 2)\n",
    "    print(f\"start_mem Memory usage of df_train: {start_mem:.2f} MB\")\n",
    "    if verbose: print('Mem. usage decreased to {:5.2f} Mb ({:.1f}% reduction)'.format(end_mem, 100 * (start_mem - end_mem) / start_mem))\n",
    "    return df"
   ]
  },
  {
   "cell_type": "code",
   "execution_count": 4,
   "metadata": {},
   "outputs": [],
   "source": [
    "# Load data\n",
    "train_transaction = pd.read_csv('../input/train_transaction.csv', index_col='TransactionID')\n",
    "# test_transaction = pd.read_csv('../input/test_transaction.csv', index_col='TransactionID')\n",
    "train_identity = pd.read_csv('../input/train_identity.csv', index_col='TransactionID')\n",
    "# test_identity = pd.read_csv('../input/test_identity.csv', index_col='TransactionID')\n",
    "\n",
    "# Merge datasets\n",
    "df_train = pd.merge(train_transaction, train_identity, on='TransactionID', how='left')\n",
    "# df_test = pd.merge(test_transaction, test_identity, on='TransactionID', how='left')\n",
    "\n",
    "# Standardizing column names\n",
    "df_train.columns = df_train.columns.str.replace('-', '_')\n",
    "# df_test.columns = df_test.columns.str.replace('-', '_')\n",
    "\n",
    "# 1. Select only numerical columns\n",
    "X_train = df_train.select_dtypes(include=['number'])\n",
    "# X_test = df_test.select_dtypes(include=['number'])\n",
    "\n",
    "# 2. Handle the target variable (assuming 'isFraud' is the target)\n",
    "y_train = df_train['isFraud']  # Target variable\n"
   ]
  },
  {
   "cell_type": "code",
   "execution_count": 7,
   "metadata": {},
   "outputs": [
    {
     "name": "stdout",
     "output_type": "stream",
     "text": [
      "               isFraud  V257  V246  V244  V242  V201  V200  V189  V188  V258  \\\n",
      "TransactionID                                                                  \n",
      "2987000              0   NaN   NaN   NaN   NaN   NaN   NaN   NaN   NaN   NaN   \n",
      "2987001              0   NaN   NaN   NaN   NaN   NaN   NaN   NaN   NaN   NaN   \n",
      "2987002              0   NaN   NaN   NaN   NaN   NaN   NaN   NaN   NaN   NaN   \n",
      "2987003              0   NaN   NaN   NaN   NaN   NaN   NaN   NaN   NaN   NaN   \n",
      "2987004              0   1.0   1.0   1.0   1.0   1.0   1.0   1.0   1.0   1.0   \n",
      "...                ...   ...   ...   ...   ...   ...   ...   ...   ...   ...   \n",
      "3577535              0   NaN   NaN   NaN   NaN   NaN   NaN   NaN   NaN   NaN   \n",
      "3577536              0   NaN   NaN   NaN   NaN   NaN   NaN   NaN   NaN   NaN   \n",
      "3577537              0   NaN   NaN   NaN   NaN   NaN   NaN   NaN   NaN   NaN   \n",
      "3577538              0   NaN   NaN   NaN   NaN   NaN   NaN   NaN   NaN   NaN   \n",
      "3577539              0   NaN   NaN   NaN   NaN   NaN   NaN   NaN   NaN   NaN   \n",
      "\n",
      "               ...  id_38  id_16  id_15  D8  V239  V198  id_31  id_36  V123  \\\n",
      "TransactionID  ...                                                            \n",
      "2987000        ...      2      2      3 NaN   NaN   NaN    130      2   1.0   \n",
      "2987001        ...      2      2      3 NaN   NaN   NaN    130      2   1.0   \n",
      "2987002        ...      2      2      3 NaN   NaN   NaN    130      2   1.0   \n",
      "2987003        ...      2      2      3 NaN   NaN   NaN    130      2   1.0   \n",
      "2987004        ...      1      1      1 NaN   0.0   1.0    123      0   1.0   \n",
      "...            ...    ...    ...    ...  ..   ...   ...    ...    ...   ...   \n",
      "3577535        ...      2      2      3 NaN   NaN   NaN    130      2   1.0   \n",
      "3577536        ...      2      2      3 NaN   NaN   NaN    130      2   1.0   \n",
      "3577537        ...      2      2      3 NaN   NaN   NaN    130      2   1.0   \n",
      "3577538        ...      2      2      3 NaN   NaN   NaN    130      2   1.0   \n",
      "3577539        ...      2      2      3 NaN   NaN   NaN    130      2   1.0   \n",
      "\n",
      "               V229  \n",
      "TransactionID        \n",
      "2987000         NaN  \n",
      "2987001         NaN  \n",
      "2987002         NaN  \n",
      "2987003         NaN  \n",
      "2987004         1.0  \n",
      "...             ...  \n",
      "3577535         NaN  \n",
      "3577536         NaN  \n",
      "3577537         NaN  \n",
      "3577538         NaN  \n",
      "3577539         NaN  \n",
      "\n",
      "[590540 rows x 100 columns]\n"
     ]
    }
   ],
   "source": [
    "correlation_matrix = df_train.corr()\n",
    "\n",
    "# Step 2: Get the correlation of all features with the target variable ('isFraud' in this example)\n",
    "target_correlation = correlation_matrix['isFraud']\n",
    "\n",
    "top_100_features = target_correlation.abs().sort_values(ascending=False).head(100)\n",
    "top_100_feature_names = top_100_features.index\n",
    "\n",
    "# Step 5: Select the corresponding columns from the original DataFrame\n",
    "df_top_100 = df_train[top_100_feature_names]\n",
    "\n",
    "# Show the resulting DataFrame with the top 100 correlated features\n",
    "print(df_top_100)"
   ]
  },
  {
   "cell_type": "code",
   "execution_count": 9,
   "metadata": {},
   "outputs": [
    {
     "name": "stdout",
     "output_type": "stream",
     "text": [
      "start_mem Memory usage of df_train: 1955.37 MB\n",
      "Mem. usage decreased to 527.70 Mb (73.0% reduction)\n"
     ]
    }
   ],
   "source": [
    "# Reduce memory usage\n",
    "df_train = reduce_mem_usage(df_train)"
   ]
  },
  {
   "cell_type": "code",
   "execution_count": 10,
   "metadata": {},
   "outputs": [],
   "source": [
    "for f in df_train.drop('isFraud', axis=1).columns:\n",
    "     if df_train[f].dtype=='object': \n",
    "         lbl = LabelEncoder()\n",
    "         lbl.fit(df_train[f].values)\n",
    "         df_train[f] = lbl.transform(list(df_train[f].values))\n",
    "\n",
    "df_train.fillna(-999, inplace=True)\n",
    "\n",
    "X_train = df_train.select_dtypes(include=['number']).drop(columns=['isFraud'])\n",
    "y_train = df_train['isFraud']  # This is the target variable\n",
    "\n",
    "X_train_final, X_val, y_train_final, y_val = train_test_split(X_train, y_train, test_size=0.2, random_state=42, stratify=y_train)\n",
    "\n",
    "# Apply StandardScaler (fit only on train, transform on both)\n",
    "scaler = StandardScaler()\n",
    "X_train_scaled = scaler.fit_transform(X_train_final)\n",
    "X_val_scaled = scaler.transform(X_val)\n",
    "\n",
    "# Initialize PCA and specify number of components (optional)\n",
    "pca = PCA(n_components=30)\n",
    "X_train_pca = pca.fit_transform(X_train_scaled)\n",
    "X_val_pca = pca.transform(X_val_scaled)\n"
   ]
  },
  {
   "cell_type": "code",
   "execution_count": 12,
   "metadata": {},
   "outputs": [
    {
     "name": "stdout",
     "output_type": "stream",
     "text": [
      "Accuracy with k=5: 0.9715\n",
      "Classification Report:\n",
      "              precision    recall  f1-score   support\n",
      "\n",
      "           0       0.98      1.00      0.99    113975\n",
      "           1       0.72      0.31      0.43      4133\n",
      "\n",
      "    accuracy                           0.97    118108\n",
      "   macro avg       0.85      0.65      0.71    118108\n",
      "weighted avg       0.97      0.97      0.97    118108\n",
      "\n"
     ]
    },
    {
     "data": {
      "image/png": "[encoded data removed]",
      "text/plain": [
       "<Figure size 640x480 with 2 Axes>"
      ]
     },
     "metadata": {},
     "output_type": "display_data"
    }
   ],
   "source": [
    "knn = KNeighborsClassifier(n_neighbors=5)\n",
    "\n",
    "knn.fit(X_train_pca, y_train_final)\n",
    "y_val_pred = knn.predict(X_val_pca)\n",
    "\n",
    "accuracy = accuracy_score(y_val, y_val_pred)\n",
    "print(f\"Accuracy with k={5}: {accuracy:.4f}\")\n",
    "print(\"Classification Report:\")\n",
    "print(classification_report(y_val, y_val_pred))\n",
    "\n",
    "# Confusion Matrix (useful for imbalanced classes like fraud detection)\n",
    "cm = confusion_matrix(y_val, y_val_pred)\n",
    "\n",
    "disp = ConfusionMatrixDisplay(confusion_matrix=cm, display_labels=knn.classes_)\n",
    "disp.plot(cmap='Blues')  # 'Blues' colormap for better readability\n",
    "plt.title('Confusion Matrix')\n",
    "plt.show()"
   ]
  }
 ],
 "metadata": {
  "kernelspec": {
   "display_name": "Python 3",
   "language": "python",
   "name": "python3"
  },
  "language_info": {
   "codemirror_mode": {
    "name": "ipython",
    "version": 3
   },
   "file_extension": ".py",
   "mimetype": "text/x-python",
   "name": "python",
   "nbconvert_exporter": "python",
   "pygments_lexer": "ipython3",
   "version": "3.13.2"
  },
  "orig_nbformat": 4
 },
 "nbformat": 4,
 "nbformat_minor": 2
}
