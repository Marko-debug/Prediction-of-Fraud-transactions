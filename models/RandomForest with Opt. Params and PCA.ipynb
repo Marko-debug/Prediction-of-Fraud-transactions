{
 "cells": [
  {
   "cell_type": "code",
   "execution_count": 1,
   "metadata": {},
   "outputs": [],
   "source": [
    "import numpy as np # linear algebra\n",
    "import pandas as pd # data processing, CSV file I/O (e.g. pd.read_csv)\n",
    "import matplotlib.pyplot as plt\n",
    "import xgboost as xgb\n",
    "import time\n",
    "\n",
    "# Preprocessing, modelling and evaluating\n",
    "from sklearn.model_selection import train_test_split, GridSearchCV\n",
    "from sklearn.preprocessing import StandardScaler, LabelEncoder\n",
    "from sklearn.metrics import confusion_matrix, roc_auc_score, accuracy_score, precision_score, recall_score, ConfusionMatrixDisplay\n",
    "\n",
    "from sklearn.decomposition import PCA\n",
    "from sklearn.ensemble import RandomForestClassifier\n",
    "from tqdm import tqdm\n",
    "from sklearn.metrics import classification_report\n"
   ]
  },
  {
   "cell_type": "code",
   "execution_count": 2,
   "metadata": {},
   "outputs": [],
   "source": [
    "## Function to reduce the DF size\n",
    "def reduce_mem_usage(df, verbose=True):\n",
    "    numerics = ['int16', 'int32', 'int64', 'float16', 'float32', 'float64']\n",
    "    start_mem = df.memory_usage(deep=True).sum() / (1024 ** 2) \n",
    "    for col in df.columns:\n",
    "        col_type = df[col].dtypes\n",
    "        if col_type in numerics:\n",
    "            c_min = df[col].min()\n",
    "            c_max = df[col].max()\n",
    "            if str(col_type)[:3] == 'int':\n",
    "                if c_min > np.iinfo(np.int8).min and c_max < np.iinfo(np.int8).max:\n",
    "                    df[col] = df[col].astype(np.int8)\n",
    "                elif c_min > np.iinfo(np.int16).min and c_max < np.iinfo(np.int16).max:\n",
    "                    df[col] = df[col].astype(np.int16)\n",
    "                elif c_min > np.iinfo(np.int32).min and c_max < np.iinfo(np.int32).max:\n",
    "                    df[col] = df[col].astype(np.int32)\n",
    "                elif c_min > np.iinfo(np.int64).min and c_max < np.iinfo(np.int64).max:\n",
    "                    df[col] = df[col].astype(np.int64)  \n",
    "            else:\n",
    "                if c_min > np.finfo(np.float16).min and c_max < np.finfo(np.float16).max:\n",
    "                    df[col] = df[col].astype(np.float16)\n",
    "                elif c_min > np.finfo(np.float32).min and c_max < np.finfo(np.float32).max:\n",
    "                    df[col] = df[col].astype(np.float32)\n",
    "                else:\n",
    "                    df[col] = df[col].astype(np.float64)    \n",
    "    end_mem = df.memory_usage(deep=True).sum() / (1024 ** 2)\n",
    "    print(f\"start_mem Memory usage of df_train: {start_mem:.2f} MB\")\n",
    "    if verbose: print('Mem. usage decreased to {:5.2f} Mb ({:.1f}% reduction)'.format(end_mem, 100 * (start_mem - end_mem) / start_mem))\n",
    "    return df"
   ]
  },
  {
   "cell_type": "code",
   "execution_count": 6,
   "metadata": {},
   "outputs": [
    {
     "name": "stdout",
     "output_type": "stream",
     "text": [
      "(590540, 434)\n"
     ]
    }
   ],
   "source": [
    "df_trans = pd.read_csv('../input/train_transaction.csv')\n",
    "df_id = pd.read_csv('../input/train_identity.csv')\n",
    "\n",
    "df_train = df_trans.merge(df_id, how='left', on='TransactionID')\n",
    "print(df_train.shape)\n",
    "\n",
    "del df_trans, df_id"
   ]
  },
  {
   "cell_type": "code",
   "execution_count": 7,
   "metadata": {},
   "outputs": [
    {
     "name": "stdout",
     "output_type": "stream",
     "text": [
      "start_mem Memory usage of df_train: 2513.97 MB\n",
      "Mem. usage decreased to 1204.57 Mb (52.1% reduction)\n"
     ]
    }
   ],
   "source": [
    "df_train = reduce_mem_usage(df_train)"
   ]
  },
  {
   "cell_type": "code",
   "execution_count": 8,
   "metadata": {},
   "outputs": [
    {
     "name": "stdout",
     "output_type": "stream",
     "text": [
      "Columns removed: Index(['M5', 'M7', 'M8', 'M9', 'V138', 'V139', 'V140', 'V141', 'V142', 'V143',\n",
      "       ...\n",
      "       'id_27', 'id_28', 'id_29', 'id_32', 'id_33', 'id_34', 'id_35', 'id_36',\n",
      "       'id_37', 'id_38'],\n",
      "      dtype='object', length=199)\n",
      "Shape of the cleaned dataframe: (590540, 235)\n"
     ]
    }
   ],
   "source": [
    "# Label encoding for categorical features\n",
    "for col in df_train.select_dtypes(include='object').columns:\n",
    "    lbl = LabelEncoder()\n",
    "        \n",
    "    encoded_values = lbl.fit_transform(df_train[col]) \n",
    "        \n",
    "    #Replace the NaN (which becomes -1 after LabelEncoding) with -999\n",
    "    encoded_values[df_train[col].isnull()] = -999\n",
    "        \n",
    "    # Step 5: Assign the encoded values back to the column\n",
    "    df_train[col] = encoded_values\n",
    "\n",
    "df_train.fillna(-999, inplace=True)\n",
    "percent_missing = (df_train == -999).mean() * 100\n",
    "\n",
    "# Identify columns where more than 50% of the values are missing\n",
    "cols_to_drop = percent_missing[percent_missing > 50].index\n",
    "\n",
    "cols_to_keep = ['R_emaildomain', 'DeviceInfo', 'DeviceType', 'D5', 'D6', 'D7', 'D8', 'D9', 'D12', 'D13', 'D14', 'dist1', 'dist2', 'id_31', 'id_30']\n",
    "cols_to_drop = cols_to_drop.drop(cols_to_keep, errors='ignore') # Exclude 'R_emaildomain' from dropping\n",
    "\n",
    "# Drop these columns\n",
    "df_train_cleaned = df_train.drop(columns=cols_to_drop)\n",
    "\n",
    "# Display the cleaned dataframe\n",
    "print(f\"Columns removed: {cols_to_drop}\")\n",
    "print(f\"Shape of the cleaned dataframe: {df_train_cleaned.shape}\")\n"
   ]
  },
  {
   "cell_type": "code",
   "execution_count": 9,
   "metadata": {},
   "outputs": [],
   "source": [
    "df_train_cleaned = df_train_cleaned.drop('TransactionID', axis=1)\n",
    "\n",
    "# Select only numerical columns\n",
    "X_train = df_train_cleaned.drop(columns=['isFraud'])\n",
    "y_train = df_train_cleaned['isFraud']\n",
    "\n",
    "# Train-test split (80% train, 20% validation)\n",
    "X_train_final, X_val, y_train_final, y_val = train_test_split(X_train, y_train, test_size=0.2, random_state=42, stratify=y_train)"
   ]
  },
  {
   "cell_type": "code",
   "execution_count": 10,
   "metadata": {},
   "outputs": [
    {
     "name": "stderr",
     "output_type": "stream",
     "text": [
      "c:\\Users\\Matúš\\AppData\\Local\\Programs\\Python\\Python313\\Lib\\site-packages\\tqdm\\auto.py:21: TqdmWarning: IProgress not found. Please update jupyter and ipywidgets. See https://ipywidgets.readthedocs.io/en/stable/user_install.html\n",
      "  from .autonotebook import tqdm as notebook_tqdm\n"
     ]
    }
   ],
   "source": [
    "from sklearn.metrics import f1_score\n",
    "import optuna\n",
    "\n",
    "def objective(trial):\n",
    "    # Hyperparameter search space\n",
    "    n_estimators = trial.suggest_int('n_estimators', 100, 600)\n",
    "    max_depth = trial.suggest_int('max_depth', 5, 40)   \n",
    "    min_samples_split = trial.suggest_int('min_samples_split', 2, 64)\n",
    "    min_samples_leaf = trial.suggest_int('min_samples_leaf', 1, 64)\n",
    "    max_features = trial.suggest_categorical('max_features', ['sqrt', 'log2', None])\n",
    "    criterion = trial.suggest_categorical('criterion', [\"gini\", \"entropy\", \"log_loss\"])\n",
    "\n",
    "    # RandomForestClassifier\n",
    "    model = RandomForestClassifier(\n",
    "        n_estimators=n_estimators,\n",
    "        max_depth=max_depth,\n",
    "        min_samples_split=min_samples_split,\n",
    "        min_samples_leaf=min_samples_leaf,\n",
    "        max_features=max_features,\n",
    "        criterion=criterion,\n",
    "        random_state=42,\n",
    "        n_jobs=-1,\n",
    "        class_weight='balanced'  # Handle class imbalance\n",
    "    )\n",
    "\n",
    "    model.fit(X_train_final, y_train_final)\n",
    "    y_pred = model.predict(X_val)\n",
    "\n",
    "    # Compute F1 score\n",
    "    score = f1_score(y_val, y_pred)\n",
    "\n",
    "    return score"
   ]
  },
  {
   "cell_type": "code",
   "execution_count": 11,
   "metadata": {},
   "outputs": [
    {
     "name": "stderr",
     "output_type": "stream",
     "text": [
      "[I 2025-04-10 19:09:32,954] A new study created in memory with name: no-name-6f44967d-8a6c-4654-ba53-cfbc8685e2f0\n",
      "[I 2025-04-10 19:21:28,201] Trial 5 finished with value: 0.2934619707755714 and parameters: {'n_estimators': 148, 'max_depth': 11, 'min_samples_split': 55, 'min_samples_leaf': 45, 'max_features': 'sqrt', 'criterion': 'entropy'}. Best is trial 5 with value: 0.2934619707755714.\n",
      "[I 2025-04-10 19:22:08,470] Trial 9 finished with value: 0.5550912241361737 and parameters: {'n_estimators': 142, 'max_depth': 23, 'min_samples_split': 16, 'min_samples_leaf': 9, 'max_features': 'sqrt', 'criterion': 'log_loss'}. Best is trial 9 with value: 0.5550912241361737.\n",
      "[I 2025-04-10 19:26:45,561] Trial 8 finished with value: 0.32212370809506324 and parameters: {'n_estimators': 315, 'max_depth': 14, 'min_samples_split': 22, 'min_samples_leaf': 31, 'max_features': 'log2', 'criterion': 'gini'}. Best is trial 9 with value: 0.5550912241361737.\n",
      "[I 2025-04-10 19:28:21,672] Trial 3 finished with value: 0.3655398292197918 and parameters: {'n_estimators': 250, 'max_depth': 17, 'min_samples_split': 54, 'min_samples_leaf': 53, 'max_features': 'sqrt', 'criterion': 'entropy'}. Best is trial 9 with value: 0.5550912241361737.\n",
      "[I 2025-04-10 19:29:03,709] Trial 11 finished with value: 0.3287211740041929 and parameters: {'n_estimators': 373, 'max_depth': 31, 'min_samples_split': 50, 'min_samples_leaf': 57, 'max_features': 'log2', 'criterion': 'log_loss'}. Best is trial 9 with value: 0.5550912241361737.\n",
      "[I 2025-04-10 19:33:02,177] Trial 0 finished with value: 0.3070510593956235 and parameters: {'n_estimators': 507, 'max_depth': 14, 'min_samples_split': 10, 'min_samples_leaf': 44, 'max_features': 'log2', 'criterion': 'entropy'}. Best is trial 9 with value: 0.5550912241361737.\n",
      "[I 2025-04-10 19:39:17,052] Trial 4 finished with value: 0.5450762829403606 and parameters: {'n_estimators': 339, 'max_depth': 20, 'min_samples_split': 15, 'min_samples_leaf': 6, 'max_features': 'sqrt', 'criterion': 'log_loss'}. Best is trial 9 with value: 0.5550912241361737.\n",
      "[I 2025-04-10 19:39:50,712] Trial 10 finished with value: 0.23667867821820132 and parameters: {'n_estimators': 115, 'max_depth': 6, 'min_samples_split': 53, 'min_samples_leaf': 37, 'max_features': None, 'criterion': 'gini'}. Best is trial 9 with value: 0.5550912241361737.\n",
      "[I 2025-04-10 19:41:31,431] Trial 16 finished with value: 0.24041490587783326 and parameters: {'n_estimators': 489, 'max_depth': 9, 'min_samples_split': 31, 'min_samples_leaf': 29, 'max_features': 'log2', 'criterion': 'entropy'}. Best is trial 9 with value: 0.5550912241361737.\n",
      "[I 2025-04-10 19:42:24,451] Trial 1 finished with value: 0.3665963925977981 and parameters: {'n_estimators': 479, 'max_depth': 21, 'min_samples_split': 14, 'min_samples_leaf': 62, 'max_features': 'sqrt', 'criterion': 'entropy'}. Best is trial 9 with value: 0.5550912241361737.\n",
      "[I 2025-04-10 19:45:15,598] Trial 14 finished with value: 0.35327989161115503 and parameters: {'n_estimators': 545, 'max_depth': 15, 'min_samples_split': 50, 'min_samples_leaf': 50, 'max_features': 'sqrt', 'criterion': 'entropy'}. Best is trial 9 with value: 0.5550912241361737.\n",
      "[I 2025-04-10 19:46:31,848] Trial 7 finished with value: 0.3642919453329456 and parameters: {'n_estimators': 532, 'max_depth': 17, 'min_samples_split': 9, 'min_samples_leaf': 54, 'max_features': 'sqrt', 'criterion': 'log_loss'}. Best is trial 9 with value: 0.5550912241361737.\n",
      "[I 2025-04-10 19:47:42,232] Trial 13 finished with value: 0.3631628787878788 and parameters: {'n_estimators': 599, 'max_depth': 13, 'min_samples_split': 9, 'min_samples_leaf': 12, 'max_features': 'sqrt', 'criterion': 'entropy'}. Best is trial 9 with value: 0.5550912241361737.\n",
      "[I 2025-04-10 19:49:06,070] Trial 18 finished with value: 0.5182654900844482 and parameters: {'n_estimators': 394, 'max_depth': 34, 'min_samples_split': 40, 'min_samples_leaf': 5, 'max_features': 'log2', 'criterion': 'log_loss'}. Best is trial 9 with value: 0.5550912241361737.\n",
      "[I 2025-04-10 19:50:53,426] Trial 17 finished with value: 0.5043478260869565 and parameters: {'n_estimators': 539, 'max_depth': 29, 'min_samples_split': 47, 'min_samples_leaf': 5, 'max_features': 'log2', 'criterion': 'log_loss'}. Best is trial 9 with value: 0.5550912241361737.\n",
      "[I 2025-04-10 19:51:57,259] Trial 23 finished with value: 0.31855450956574555 and parameters: {'n_estimators': 218, 'max_depth': 32, 'min_samples_split': 8, 'min_samples_leaf': 63, 'max_features': 'log2', 'criterion': 'log_loss'}. Best is trial 9 with value: 0.5550912241361737.\n",
      "[I 2025-04-10 19:52:41,040] Trial 20 finished with value: 0.32347862487572604 and parameters: {'n_estimators': 507, 'max_depth': 15, 'min_samples_split': 48, 'min_samples_leaf': 38, 'max_features': 'log2', 'criterion': 'entropy'}. Best is trial 9 with value: 0.5550912241361737.\n",
      "[I 2025-04-10 19:59:26,687] Trial 24 finished with value: 0.3521070841132097 and parameters: {'n_estimators': 270, 'max_depth': 35, 'min_samples_split': 35, 'min_samples_leaf': 41, 'max_features': 'log2', 'criterion': 'gini'}. Best is trial 9 with value: 0.5550912241361737.\n",
      "[I 2025-04-10 20:02:14,833] Trial 22 finished with value: 0.21410493193788904 and parameters: {'n_estimators': 559, 'max_depth': 6, 'min_samples_split': 9, 'min_samples_leaf': 10, 'max_features': 'sqrt', 'criterion': 'entropy'}. Best is trial 9 with value: 0.5550912241361737.\n",
      "[I 2025-04-10 20:07:08,105] Trial 19 finished with value: 0.41488422625110344 and parameters: {'n_estimators': 600, 'max_depth': 16, 'min_samples_split': 9, 'min_samples_leaf': 24, 'max_features': 'sqrt', 'criterion': 'gini'}. Best is trial 9 with value: 0.5550912241361737.\n",
      "[I 2025-04-10 20:07:34,951] Trial 26 finished with value: 0.6078804003547447 and parameters: {'n_estimators': 225, 'max_depth': 29, 'min_samples_split': 3, 'min_samples_leaf': 4, 'max_features': 'sqrt', 'criterion': 'log_loss'}. Best is trial 26 with value: 0.6078804003547447.\n",
      "[I 2025-04-10 20:08:05,172] Trial 21 finished with value: 0.3838906336597081 and parameters: {'n_estimators': 457, 'max_depth': 30, 'min_samples_split': 21, 'min_samples_leaf': 55, 'max_features': 'sqrt', 'criterion': 'entropy'}. Best is trial 26 with value: 0.6078804003547447.\n",
      "[I 2025-04-10 21:25:37,920] Trial 12 finished with value: 0.5397804590401887 and parameters: {'n_estimators': 178, 'max_depth': 40, 'min_samples_split': 50, 'min_samples_leaf': 34, 'max_features': None, 'criterion': 'gini'}. Best is trial 26 with value: 0.6078804003547447.\n",
      "[I 2025-04-10 22:02:42,677] Trial 38 finished with value: 0.5018264045921029 and parameters: {'n_estimators': 193, 'max_depth': 25, 'min_samples_split': 2, 'min_samples_leaf': 19, 'max_features': 'sqrt', 'criterion': 'log_loss'}. Best is trial 26 with value: 0.6078804003547447.\n",
      "[I 2025-04-10 22:04:58,178] Trial 6 finished with value: 0.30718568760444315 and parameters: {'n_estimators': 412, 'max_depth': 9, 'min_samples_split': 32, 'min_samples_leaf': 2, 'max_features': None, 'criterion': 'log_loss'}. Best is trial 26 with value: 0.6078804003547447.\n",
      "[I 2025-04-10 22:06:42,044] Trial 15 finished with value: 0.5175779562926492 and parameters: {'n_estimators': 282, 'max_depth': 17, 'min_samples_split': 9, 'min_samples_leaf': 25, 'max_features': None, 'criterion': 'gini'}. Best is trial 26 with value: 0.6078804003547447.\n",
      "[I 2025-04-10 22:25:16,122] Trial 33 finished with value: 0.6317067785383087 and parameters: {'n_estimators': 183, 'max_depth': 25, 'min_samples_split': 21, 'min_samples_leaf': 20, 'max_features': None, 'criterion': 'log_loss'}. Best is trial 33 with value: 0.6317067785383087.\n",
      "[I 2025-04-10 22:26:12,061] Trial 32 finished with value: 0.6345426218562208 and parameters: {'n_estimators': 198, 'max_depth': 26, 'min_samples_split': 22, 'min_samples_leaf': 20, 'max_features': None, 'criterion': 'log_loss'}. Best is trial 32 with value: 0.6345426218562208.\n",
      "[I 2025-04-10 22:26:57,498] Trial 31 finished with value: 0.6427114033099071 and parameters: {'n_estimators': 199, 'max_depth': 25, 'min_samples_split': 22, 'min_samples_leaf': 18, 'max_features': None, 'criterion': 'log_loss'}. Best is trial 31 with value: 0.6427114033099071.\n",
      "[I 2025-04-10 22:27:14,832] Trial 37 finished with value: 0.6433265352368004 and parameters: {'n_estimators': 176, 'max_depth': 25, 'min_samples_split': 2, 'min_samples_leaf': 18, 'max_features': None, 'criterion': 'log_loss'}. Best is trial 37 with value: 0.6433265352368004.\n",
      "[I 2025-04-10 22:29:54,427] Trial 34 finished with value: 0.6234694983205115 and parameters: {'n_estimators': 190, 'max_depth': 26, 'min_samples_split': 20, 'min_samples_leaf': 22, 'max_features': None, 'criterion': 'log_loss'}. Best is trial 37 with value: 0.6433265352368004.\n",
      "[I 2025-04-10 22:30:11,044] Trial 30 finished with value: 0.6454483230663929 and parameters: {'n_estimators': 207, 'max_depth': 26, 'min_samples_split': 22, 'min_samples_leaf': 18, 'max_features': None, 'criterion': 'log_loss'}. Best is trial 30 with value: 0.6454483230663929.\n",
      "[I 2025-04-10 22:30:19,812] Trial 28 finished with value: 0.6959597333696096 and parameters: {'n_estimators': 209, 'max_depth': 29, 'min_samples_split': 24, 'min_samples_leaf': 3, 'max_features': None, 'criterion': 'log_loss'}. Best is trial 28 with value: 0.6959597333696096.\n",
      "[I 2025-04-10 22:32:24,718] Trial 36 finished with value: 0.6537164127021053 and parameters: {'n_estimators': 183, 'max_depth': 25, 'min_samples_split': 2, 'min_samples_leaf': 16, 'max_features': None, 'criterion': 'log_loss'}. Best is trial 28 with value: 0.6959597333696096.\n",
      "[I 2025-04-10 22:32:45,926] Trial 40 finished with value: 0.5162879824801533 and parameters: {'n_estimators': 319, 'max_depth': 23, 'min_samples_split': 20, 'min_samples_leaf': 15, 'max_features': 'sqrt', 'criterion': 'log_loss'}. Best is trial 28 with value: 0.6959597333696096.\n",
      "[I 2025-04-10 22:32:54,322] Trial 41 finished with value: 0.4893226559893227 and parameters: {'n_estimators': 323, 'max_depth': 23, 'min_samples_split': 62, 'min_samples_leaf': 15, 'max_features': 'sqrt', 'criterion': 'log_loss'}. Best is trial 28 with value: 0.6959597333696096.\n",
      "[I 2025-04-10 22:37:07,233] Trial 29 finished with value: 0.6454700854700854 and parameters: {'n_estimators': 220, 'max_depth': 26, 'min_samples_split': 24, 'min_samples_leaf': 18, 'max_features': None, 'criterion': 'log_loss'}. Best is trial 28 with value: 0.6959597333696096.\n",
      "[I 2025-04-10 22:54:39,194] Trial 27 finished with value: 0.6939047112057493 and parameters: {'n_estimators': 245, 'max_depth': 30, 'min_samples_split': 25, 'min_samples_leaf': 5, 'max_features': None, 'criterion': 'log_loss'}. Best is trial 28 with value: 0.6959597333696096.\n",
      "[I 2025-04-10 23:49:43,176] Trial 42 finished with value: 0.6535021489139273 and parameters: {'n_estimators': 108, 'max_depth': 25, 'min_samples_split': 25, 'min_samples_leaf': 16, 'max_features': None, 'criterion': 'log_loss'}. Best is trial 28 with value: 0.6959597333696096.\n",
      "[I 2025-04-10 23:49:50,199] Trial 45 finished with value: 0.6193878639223632 and parameters: {'n_estimators': 110, 'max_depth': 26, 'min_samples_split': 62, 'min_samples_leaf': 15, 'max_features': None, 'criterion': 'log_loss'}. Best is trial 28 with value: 0.6959597333696096.\n",
      "[I 2025-04-10 23:49:53,422] Trial 44 finished with value: 0.6488663827828288 and parameters: {'n_estimators': 106, 'max_depth': 26, 'min_samples_split': 22, 'min_samples_leaf': 17, 'max_features': None, 'criterion': 'log_loss'}. Best is trial 28 with value: 0.6959597333696096.\n",
      "[I 2025-04-10 23:51:32,061] Trial 48 finished with value: 0.5892498997192138 and parameters: {'n_estimators': 100, 'max_depth': 21, 'min_samples_split': 63, 'min_samples_leaf': 15, 'max_features': None, 'criterion': 'log_loss'}. Best is trial 28 with value: 0.6959597333696096.\n",
      "[I 2025-04-10 23:51:50,677] Trial 47 finished with value: 0.6244799649660608 and parameters: {'n_estimators': 101, 'max_depth': 20, 'min_samples_split': 28, 'min_samples_leaf': 13, 'max_features': None, 'criterion': 'log_loss'}. Best is trial 28 with value: 0.6959597333696096.\n",
      "[I 2025-04-10 23:59:05,555] Trial 49 finished with value: 0.5916482634009235 and parameters: {'n_estimators': 107, 'max_depth': 21, 'min_samples_split': 63, 'min_samples_leaf': 15, 'max_features': None, 'criterion': 'log_loss'}. Best is trial 28 with value: 0.6959597333696096.\n",
      "[I 2025-04-11 00:01:23,391] Trial 52 finished with value: 0.5700066992056656 and parameters: {'n_estimators': 103, 'max_depth': 20, 'min_samples_split': 27, 'min_samples_leaf': 27, 'max_features': None, 'criterion': 'log_loss'}. Best is trial 28 with value: 0.6959597333696096.\n",
      "[I 2025-04-11 00:06:27,300] Trial 50 finished with value: 0.6364653243847874 and parameters: {'n_estimators': 112, 'max_depth': 21, 'min_samples_split': 5, 'min_samples_leaf': 14, 'max_features': None, 'criterion': 'log_loss'}. Best is trial 28 with value: 0.6959597333696096.\n",
      "[I 2025-04-11 00:34:16,614] Trial 51 finished with value: 0.64965483234714 and parameters: {'n_estimators': 154, 'max_depth': 20, 'min_samples_split': 14, 'min_samples_leaf': 1, 'max_features': None, 'criterion': 'log_loss'}. Best is trial 28 with value: 0.6959597333696096.\n",
      "[I 2025-04-11 00:34:28,670] Trial 46 finished with value: 0.6572065204644072 and parameters: {'n_estimators': 151, 'max_depth': 26, 'min_samples_split': 26, 'min_samples_leaf': 16, 'max_features': None, 'criterion': 'log_loss'}. Best is trial 28 with value: 0.6959597333696096.\n",
      "[I 2025-04-11 01:13:00,483] Trial 43 finished with value: 0.6105683370101902 and parameters: {'n_estimators': 226, 'max_depth': 26, 'min_samples_split': 63, 'min_samples_leaf': 18, 'max_features': None, 'criterion': 'log_loss'}. Best is trial 28 with value: 0.6959597333696096.\n",
      "[I 2025-04-11 01:18:09,094] Trial 54 finished with value: 0.6442937324602432 and parameters: {'n_estimators': 109, 'max_depth': 20, 'min_samples_split': 27, 'min_samples_leaf': 2, 'max_features': None, 'criterion': 'log_loss'}. Best is trial 28 with value: 0.6959597333696096.\n",
      "[I 2025-04-11 01:19:40,180] Trial 35 finished with value: 0.6114327823981471 and parameters: {'n_estimators': 419, 'max_depth': 27, 'min_samples_split': 64, 'min_samples_leaf': 19, 'max_features': None, 'criterion': 'log_loss'}. Best is trial 28 with value: 0.6959597333696096.\n",
      "[I 2025-04-11 01:30:06,663] Trial 2 finished with value: 0.4731909663542787 and parameters: {'n_estimators': 552, 'max_depth': 26, 'min_samples_split': 61, 'min_samples_leaf': 55, 'max_features': None, 'criterion': 'gini'}. Best is trial 28 with value: 0.6959597333696096.\n",
      "[I 2025-04-11 01:35:39,409] Trial 55 finished with value: 0.6322420969737879 and parameters: {'n_estimators': 136, 'max_depth': 20, 'min_samples_split': 28, 'min_samples_leaf': 8, 'max_features': None, 'criterion': 'log_loss'}. Best is trial 28 with value: 0.6959597333696096.\n",
      "[I 2025-04-11 01:37:03,900] Trial 58 finished with value: 0.69690486378548 and parameters: {'n_estimators': 138, 'max_depth': 28, 'min_samples_split': 16, 'min_samples_leaf': 1, 'max_features': None, 'criterion': 'log_loss'}. Best is trial 58 with value: 0.69690486378548.\n",
      "[I 2025-04-11 01:37:12,131] Trial 57 finished with value: 0.615735214324471 and parameters: {'n_estimators': 143, 'max_depth': 19, 'min_samples_split': 27, 'min_samples_leaf': 8, 'max_features': None, 'criterion': 'log_loss'}. Best is trial 58 with value: 0.69690486378548.\n",
      "[I 2025-04-11 01:38:16,984] Trial 56 finished with value: 0.6470861388437428 and parameters: {'n_estimators': 144, 'max_depth': 21, 'min_samples_split': 27, 'min_samples_leaf': 9, 'max_features': None, 'criterion': 'log_loss'}. Best is trial 58 with value: 0.69690486378548.\n",
      "[I 2025-04-11 01:52:36,389] Trial 39 finished with value: 0.6620508535275158 and parameters: {'n_estimators': 325, 'max_depth': 23, 'min_samples_split': 18, 'min_samples_leaf': 13, 'max_features': None, 'criterion': 'log_loss'}. Best is trial 58 with value: 0.69690486378548.\n",
      "[I 2025-04-11 02:01:11,365] Trial 59 finished with value: 0.6936681517483462 and parameters: {'n_estimators': 146, 'max_depth': 28, 'min_samples_split': 27, 'min_samples_leaf': 1, 'max_features': None, 'criterion': 'log_loss'}. Best is trial 58 with value: 0.69690486378548.\n",
      "[I 2025-04-11 02:01:18,684] Trial 60 finished with value: 0.6941500943533169 and parameters: {'n_estimators': 143, 'max_depth': 28, 'min_samples_split': 13, 'min_samples_leaf': 1, 'max_features': None, 'criterion': 'log_loss'}. Best is trial 58 with value: 0.69690486378548.\n",
      "[I 2025-04-11 02:07:25,648] Trial 53 finished with value: 0.6490128856838869 and parameters: {'n_estimators': 253, 'max_depth': 20, 'min_samples_split': 26, 'min_samples_leaf': 2, 'max_features': None, 'criterion': 'log_loss'}. Best is trial 58 with value: 0.69690486378548.\n",
      "[I 2025-04-11 02:16:29,745] Trial 61 finished with value: 0.6983270372369131 and parameters: {'n_estimators': 145, 'max_depth': 33, 'min_samples_split': 14, 'min_samples_leaf': 8, 'max_features': None, 'criterion': 'log_loss'}. Best is trial 61 with value: 0.6983270372369131.\n",
      "[I 2025-04-11 02:23:29,244] Trial 63 finished with value: 0.6755753526354863 and parameters: {'n_estimators': 140, 'max_depth': 28, 'min_samples_split': 36, 'min_samples_leaf': 8, 'max_features': None, 'criterion': 'log_loss'}. Best is trial 61 with value: 0.6983270372369131.\n",
      "[I 2025-04-11 02:36:06,766] Trial 62 finished with value: 0.6948981066628126 and parameters: {'n_estimators': 147, 'max_depth': 28, 'min_samples_split': 14, 'min_samples_leaf': 1, 'max_features': None, 'criterion': 'log_loss'}. Best is trial 61 with value: 0.6983270372369131.\n",
      "[I 2025-04-11 03:08:58,260] Trial 64 finished with value: 0.694292206924208 and parameters: {'n_estimators': 152, 'max_depth': 28, 'min_samples_split': 17, 'min_samples_leaf': 8, 'max_features': None, 'criterion': 'log_loss'}. Best is trial 61 with value: 0.6983270372369131.\n",
      "[I 2025-04-11 03:12:59,665] Trial 66 finished with value: 0.6999865283578068 and parameters: {'n_estimators': 142, 'max_depth': 32, 'min_samples_split': 15, 'min_samples_leaf': 8, 'max_features': None, 'criterion': 'log_loss'}. Best is trial 66 with value: 0.6999865283578068.\n",
      "[I 2025-04-11 03:13:51,386] Trial 65 finished with value: 0.676213407679635 and parameters: {'n_estimators': 137, 'max_depth': 28, 'min_samples_split': 17, 'min_samples_leaf': 9, 'max_features': None, 'criterion': 'gini'}. Best is trial 66 with value: 0.6999865283578068.\n",
      "[I 2025-04-11 03:18:11,286] Trial 25 finished with value: 0.6852976913730255 and parameters: {'n_estimators': 599, 'max_depth': 30, 'min_samples_split': 3, 'min_samples_leaf': 2, 'max_features': None, 'criterion': 'log_loss'}. Best is trial 66 with value: 0.6999865283578068.\n",
      "[I 2025-04-11 03:25:03,787] Trial 67 finished with value: 0.6912054686472986 and parameters: {'n_estimators': 145, 'max_depth': 28, 'min_samples_split': 14, 'min_samples_leaf': 9, 'max_features': None, 'criterion': 'log_loss'}. Best is trial 66 with value: 0.6999865283578068.\n",
      "[I 2025-04-11 03:34:24,394] Trial 82 finished with value: 0.5481301172825847 and parameters: {'n_estimators': 161, 'max_depth': 33, 'min_samples_split': 11, 'min_samples_leaf': 4, 'max_features': 'log2', 'criterion': 'entropy'}. Best is trial 66 with value: 0.6999865283578068.\n",
      "[I 2025-04-11 03:41:49,860] Trial 83 finished with value: 0.5468287873808741 and parameters: {'n_estimators': 168, 'max_depth': 34, 'min_samples_split': 13, 'min_samples_leaf': 4, 'max_features': 'log2', 'criterion': 'entropy'}. Best is trial 66 with value: 0.6999865283578068.\n",
      "[I 2025-04-11 03:42:20,752] Trial 68 finished with value: 0.698567335243553 and parameters: {'n_estimators': 158, 'max_depth': 32, 'min_samples_split': 18, 'min_samples_leaf': 1, 'max_features': None, 'criterion': 'log_loss'}. Best is trial 66 with value: 0.6999865283578068.\n",
      "[I 2025-04-11 03:46:28,380] Trial 69 finished with value: 0.675779253960143 and parameters: {'n_estimators': 156, 'max_depth': 28, 'min_samples_split': 18, 'min_samples_leaf': 8, 'max_features': None, 'criterion': 'gini'}. Best is trial 66 with value: 0.6999865283578068.\n",
      "[I 2025-04-11 03:49:39,752] Trial 70 finished with value: 0.6737249838605552 and parameters: {'n_estimators': 163, 'max_depth': 28, 'min_samples_split': 17, 'min_samples_leaf': 7, 'max_features': None, 'criterion': 'gini'}. Best is trial 66 with value: 0.6999865283578068.\n",
      "[I 2025-04-11 03:56:46,406] Trial 71 finished with value: 0.6670752635449865 and parameters: {'n_estimators': 169, 'max_depth': 28, 'min_samples_split': 17, 'min_samples_leaf': 11, 'max_features': None, 'criterion': 'gini'}. Best is trial 66 with value: 0.6999865283578068.\n",
      "[I 2025-04-11 04:39:21,261] Trial 76 finished with value: 0.6832264957264957 and parameters: {'n_estimators': 163, 'max_depth': 33, 'min_samples_split': 16, 'min_samples_leaf': 6, 'max_features': None, 'criterion': 'gini'}. Best is trial 66 with value: 0.6999865283578068.\n",
      "[I 2025-04-11 04:42:51,541] Trial 77 finished with value: 0.6553304389773276 and parameters: {'n_estimators': 166, 'max_depth': 33, 'min_samples_split': 39, 'min_samples_leaf': 6, 'max_features': None, 'criterion': 'gini'}. Best is trial 66 with value: 0.6999865283578068.\n",
      "[I 2025-04-11 05:02:24,616] Trial 78 finished with value: 0.6827199343275414 and parameters: {'n_estimators': 162, 'max_depth': 33, 'min_samples_split': 13, 'min_samples_leaf': 4, 'max_features': None, 'criterion': 'gini'}. Best is trial 66 with value: 0.6999865283578068.\n",
      "[I 2025-04-11 05:04:02,128] Trial 80 finished with value: 0.6679895820414238 and parameters: {'n_estimators': 126, 'max_depth': 33, 'min_samples_split': 12, 'min_samples_leaf': 11, 'max_features': None, 'criterion': 'gini'}. Best is trial 66 with value: 0.6999865283578068.\n",
      "[I 2025-04-11 05:17:44,534] Trial 72 finished with value: 0.6704785581106277 and parameters: {'n_estimators': 252, 'max_depth': 33, 'min_samples_split': 17, 'min_samples_leaf': 11, 'max_features': None, 'criterion': 'gini'}. Best is trial 66 with value: 0.6999865283578068.\n",
      "[I 2025-04-11 05:23:45,269] Trial 81 finished with value: 0.6849385245901639 and parameters: {'n_estimators': 161, 'max_depth': 33, 'min_samples_split': 12, 'min_samples_leaf': 11, 'max_features': None, 'criterion': 'entropy'}. Best is trial 66 with value: 0.6999865283578068.\n",
      "[I 2025-04-11 05:27:10,005] Trial 79 finished with value: 0.6832264957264957 and parameters: {'n_estimators': 163, 'max_depth': 33, 'min_samples_split': 16, 'min_samples_leaf': 6, 'max_features': None, 'criterion': 'gini'}. Best is trial 66 with value: 0.6999865283578068.\n",
      "[I 2025-04-11 05:28:04,425] Trial 87 finished with value: 0.6996886498726295 and parameters: {'n_estimators': 124, 'max_depth': 36, 'min_samples_split': 12, 'min_samples_leaf': 5, 'max_features': None, 'criterion': 'log_loss'}. Best is trial 66 with value: 0.6999865283578068.\n",
      "[I 2025-04-11 05:31:29,386] Trial 85 finished with value: 0.6679890900074387 and parameters: {'n_estimators': 126, 'max_depth': 36, 'min_samples_split': 12, 'min_samples_leaf': 11, 'max_features': None, 'criterion': 'gini'}. Best is trial 66 with value: 0.6999865283578068.\n",
      "[I 2025-04-11 05:32:17,553] Trial 88 finished with value: 0.683182224492402 and parameters: {'n_estimators': 126, 'max_depth': 32, 'min_samples_split': 11, 'min_samples_leaf': 11, 'max_features': None, 'criterion': 'log_loss'}. Best is trial 66 with value: 0.6999865283578068.\n",
      "[I 2025-04-11 05:36:04,609] Trial 86 finished with value: 0.6855740387237523 and parameters: {'n_estimators': 129, 'max_depth': 37, 'min_samples_split': 11, 'min_samples_leaf': 6, 'max_features': None, 'criterion': 'gini'}. Best is trial 66 with value: 0.6999865283578068.\n",
      "[I 2025-04-11 05:37:55,870] Trial 73 finished with value: 0.6766612641815235 and parameters: {'n_estimators': 265, 'max_depth': 33, 'min_samples_split': 17, 'min_samples_leaf': 3, 'max_features': None, 'criterion': 'gini'}. Best is trial 66 with value: 0.6999865283578068.\n",
      "[I 2025-04-11 05:41:46,919] Trial 89 finished with value: 0.6994260114797705 and parameters: {'n_estimators': 124, 'max_depth': 36, 'min_samples_split': 7, 'min_samples_leaf': 6, 'max_features': None, 'criterion': 'log_loss'}. Best is trial 66 with value: 0.6999865283578068.\n",
      "[I 2025-04-11 05:47:18,750] Trial 84 finished with value: 0.6695576756287944 and parameters: {'n_estimators': 163, 'max_depth': 36, 'min_samples_split': 14, 'min_samples_leaf': 11, 'max_features': None, 'criterion': 'gini'}. Best is trial 66 with value: 0.6999865283578068.\n",
      "[I 2025-04-11 06:00:24,496] Trial 75 finished with value: 0.6843302555867791 and parameters: {'n_estimators': 294, 'max_depth': 34, 'min_samples_split': 16, 'min_samples_leaf': 6, 'max_features': None, 'criterion': 'gini'}. Best is trial 66 with value: 0.6999865283578068.\n",
      "[I 2025-04-11 06:09:45,622] Trial 90 finished with value: 0.6972002871500359 and parameters: {'n_estimators': 125, 'max_depth': 37, 'min_samples_split': 12, 'min_samples_leaf': 4, 'max_features': None, 'criterion': 'log_loss'}. Best is trial 66 with value: 0.6999865283578068.\n",
      "[I 2025-04-11 06:12:47,610] Trial 91 finished with value: 0.6969610091743119 and parameters: {'n_estimators': 129, 'max_depth': 37, 'min_samples_split': 12, 'min_samples_leaf': 4, 'max_features': None, 'criterion': 'log_loss'}. Best is trial 66 with value: 0.6999865283578068.\n",
      "[I 2025-04-11 06:24:31,714] Trial 74 finished with value: 0.6762084796111261 and parameters: {'n_estimators': 346, 'max_depth': 33, 'min_samples_split': 17, 'min_samples_leaf': 3, 'max_features': None, 'criterion': 'gini'}. Best is trial 66 with value: 0.6999865283578068.\n",
      "[I 2025-04-11 06:25:04,531] Trial 92 finished with value: 0.6918500892325996 and parameters: {'n_estimators': 128, 'max_depth': 36, 'min_samples_split': 7, 'min_samples_leaf': 3, 'max_features': None, 'criterion': 'log_loss'}. Best is trial 66 with value: 0.6999865283578068.\n",
      "[I 2025-04-11 06:27:48,755] Trial 94 finished with value: 0.6911479325272428 and parameters: {'n_estimators': 123, 'max_depth': 36, 'min_samples_split': 6, 'min_samples_leaf': 3, 'max_features': None, 'criterion': 'log_loss'}. Best is trial 66 with value: 0.6999865283578068.\n",
      "[I 2025-04-11 06:30:01,795] Trial 95 finished with value: 0.6925826630920465 and parameters: {'n_estimators': 122, 'max_depth': 37, 'min_samples_split': 6, 'min_samples_leaf': 3, 'max_features': None, 'criterion': 'log_loss'}. Best is trial 66 with value: 0.6999865283578068.\n",
      "[I 2025-04-11 06:31:16,999] Trial 97 finished with value: 0.6965436438195665 and parameters: {'n_estimators': 127, 'max_depth': 38, 'min_samples_split': 10, 'min_samples_leaf': 3, 'max_features': None, 'criterion': 'log_loss'}. Best is trial 66 with value: 0.6999865283578068.\n",
      "[I 2025-04-11 06:32:32,320] Trial 98 finished with value: 0.6916443651501636 and parameters: {'n_estimators': 123, 'max_depth': 38, 'min_samples_split': 7, 'min_samples_leaf': 3, 'max_features': None, 'criterion': 'log_loss'}. Best is trial 66 with value: 0.6999865283578068.\n",
      "[I 2025-04-11 06:36:40,939] Trial 93 finished with value: 0.5164956322618947 and parameters: {'n_estimators': 210, 'max_depth': 37, 'min_samples_split': 19, 'min_samples_leaf': 48, 'max_features': None, 'criterion': 'log_loss'}. Best is trial 66 with value: 0.6999865283578068.\n",
      "[I 2025-04-11 06:40:29,840] Trial 96 finished with value: 0.6902230872885162 and parameters: {'n_estimators': 210, 'max_depth': 37, 'min_samples_split': 6, 'min_samples_leaf': 3, 'max_features': None, 'criterion': 'log_loss'}. Best is trial 66 with value: 0.6999865283578068.\n",
      "[I 2025-04-11 06:40:40,760] Trial 99 finished with value: 0.6973953760608721 and parameters: {'n_estimators': 209, 'max_depth': 38, 'min_samples_split': 7, 'min_samples_leaf': 4, 'max_features': None, 'criterion': 'log_loss'}. Best is trial 66 with value: 0.6999865283578068.\n"
     ]
    }
   ],
   "source": [
    "study = optuna.create_study(direction='maximize', sampler=optuna.samplers.TPESampler(seed=42))\n",
    "study.optimize(objective, n_trials=100, n_jobs=-1)"
   ]
  },
  {
   "cell_type": "code",
   "execution_count": 12,
   "metadata": {},
   "outputs": [
    {
     "data": {
      "application/vnd.plotly.v1+json": {
       "config": {
        "plotlyServerURL": "https://plot.ly"
       },
       "data": [
        {
         "cliponaxis": false,
         "hovertemplate": [
          "criterion (CategoricalDistribution): 0.0034504603219397256<extra></extra>",
          "min_samples_split (IntDistribution): 0.005540707618798773<extra></extra>",
          "n_estimators (IntDistribution): 0.026766539085464936<extra></extra>",
          "max_features (CategoricalDistribution): 0.24670511500822184<extra></extra>",
          "min_samples_leaf (IntDistribution): 0.3060602354456185<extra></extra>",
          "max_depth (IntDistribution): 0.41147694251995637<extra></extra>"
         ],
         "name": "Objective Value",
         "orientation": "h",
         "text": [
          "<0.01",
          "<0.01",
          "0.03",
          "0.25",
          "0.31",
          "0.41"
         ],
         "textposition": "outside",
         "type": "bar",
         "x": [
          0.0034504603219397256,
          0.005540707618798773,
          0.026766539085464936,
          0.24670511500822184,
          0.3060602354456185,
          0.41147694251995637
         ],
         "y": [
          "criterion",
          "min_samples_split",
          "n_estimators",
          "max_features",
          "min_samples_leaf",
          "max_depth"
         ]
        }
       ],
       "layout": {
        "template": {
         "data": {
          "bar": [
           {
            "error_x": {
             "color": "#2a3f5f"
            },
            "error_y": {
             "color": "#2a3f5f"
            },
            "marker": {
             "line": {
              "color": "#E5ECF6",
              "width": 0.5
             },
             "pattern": {
              "fillmode": "overlay",
              "size": 10,
              "solidity": 0.2
             }
            },
            "type": "bar"
           }
          ],
          "barpolar": [
           {
            "marker": {
             "line": {
              "color": "#E5ECF6",
              "width": 0.5
             },
             "pattern": {
              "fillmode": "overlay",
              "size": 10,
              "solidity": 0.2
             }
            },
            "type": "barpolar"
           }
          ],
          "carpet": [
           {
            "aaxis": {
             "endlinecolor": "#2a3f5f",
             "gridcolor": "white",
             "linecolor": "white",
             "minorgridcolor": "white",
             "startlinecolor": "#2a3f5f"
            },
            "baxis": {
             "endlinecolor": "#2a3f5f",
             "gridcolor": "white",
             "linecolor": "white",
             "minorgridcolor": "white",
             "startlinecolor": "#2a3f5f"
            },
            "type": "carpet"
           }
          ],
          "choropleth": [
           {
            "colorbar": {
             "outlinewidth": 0,
             "ticks": ""
            },
            "type": "choropleth"
           }
          ],
          "contour": [
           {
            "colorbar": {
             "outlinewidth": 0,
             "ticks": ""
            },
            "colorscale": [
             [
              0,
              "#0d0887"
             ],
             [
              0.1111111111111111,
              "#46039f"
             ],
             [
              0.2222222222222222,
              "#7201a8"
             ],
             [
              0.3333333333333333,
              "#9c179e"
             ],
             [
              0.4444444444444444,
              "#bd3786"
             ],
             [
              0.5555555555555556,
              "#d8576b"
             ],
             [
              0.6666666666666666,
              "#ed7953"
             ],
             [
              0.7777777777777778,
              "#fb9f3a"
             ],
             [
              0.8888888888888888,
              "#fdca26"
             ],
             [
              1,
              "#f0f921"
             ]
            ],
            "type": "contour"
           }
          ],
          "contourcarpet": [
           {
            "colorbar": {
             "outlinewidth": 0,
             "ticks": ""
            },
            "type": "contourcarpet"
           }
          ],
          "heatmap": [
           {
            "colorbar": {
             "outlinewidth": 0,
             "ticks": ""
            },
            "colorscale": [
             [
              0,
              "#0d0887"
             ],
             [
              0.1111111111111111,
              "#46039f"
             ],
             [
              0.2222222222222222,
              "#7201a8"
             ],
             [
              0.3333333333333333,
              "#9c179e"
             ],
             [
              0.4444444444444444,
              "#bd3786"
             ],
             [
              0.5555555555555556,
              "#d8576b"
             ],
             [
              0.6666666666666666,
              "#ed7953"
             ],
             [
              0.7777777777777778,
              "#fb9f3a"
             ],
             [
              0.8888888888888888,
              "#fdca26"
             ],
             [
              1,
              "#f0f921"
             ]
            ],
            "type": "heatmap"
           }
          ],
          "histogram": [
           {
            "marker": {
             "pattern": {
              "fillmode": "overlay",
              "size": 10,
              "solidity": 0.2
             }
            },
            "type": "histogram"
           }
          ],
          "histogram2d": [
           {
            "colorbar": {
             "outlinewidth": 0,
             "ticks": ""
            },
            "colorscale": [
             [
              0,
              "#0d0887"
             ],
             [
              0.1111111111111111,
              "#46039f"
             ],
             [
              0.2222222222222222,
              "#7201a8"
             ],
             [
              0.3333333333333333,
              "#9c179e"
             ],
             [
              0.4444444444444444,
              "#bd3786"
             ],
             [
              0.5555555555555556,
              "#d8576b"
             ],
             [
              0.6666666666666666,
              "#ed7953"
             ],
             [
              0.7777777777777778,
              "#fb9f3a"
             ],
             [
              0.8888888888888888,
              "#fdca26"
             ],
             [
              1,
              "#f0f921"
             ]
            ],
            "type": "histogram2d"
           }
          ],
          "histogram2dcontour": [
           {
            "colorbar": {
             "outlinewidth": 0,
             "ticks": ""
            },
            "colorscale": [
             [
              0,
              "#0d0887"
             ],
             [
              0.1111111111111111,
              "#46039f"
             ],
             [
              0.2222222222222222,
              "#7201a8"
             ],
             [
              0.3333333333333333,
              "#9c179e"
             ],
             [
              0.4444444444444444,
              "#bd3786"
             ],
             [
              0.5555555555555556,
              "#d8576b"
             ],
             [
              0.6666666666666666,
              "#ed7953"
             ],
             [
              0.7777777777777778,
              "#fb9f3a"
             ],
             [
              0.8888888888888888,
              "#fdca26"
             ],
             [
              1,
              "#f0f921"
             ]
            ],
            "type": "histogram2dcontour"
           }
          ],
          "mesh3d": [
           {
            "colorbar": {
             "outlinewidth": 0,
             "ticks": ""
            },
            "type": "mesh3d"
           }
          ],
          "parcoords": [
           {
            "line": {
             "colorbar": {
              "outlinewidth": 0,
              "ticks": ""
             }
            },
            "type": "parcoords"
           }
          ],
          "pie": [
           {
            "automargin": true,
            "type": "pie"
           }
          ],
          "scatter": [
           {
            "fillpattern": {
             "fillmode": "overlay",
             "size": 10,
             "solidity": 0.2
            },
            "type": "scatter"
           }
          ],
          "scatter3d": [
           {
            "line": {
             "colorbar": {
              "outlinewidth": 0,
              "ticks": ""
             }
            },
            "marker": {
             "colorbar": {
              "outlinewidth": 0,
              "ticks": ""
             }
            },
            "type": "scatter3d"
           }
          ],
          "scattercarpet": [
           {
            "marker": {
             "colorbar": {
              "outlinewidth": 0,
              "ticks": ""
             }
            },
            "type": "scattercarpet"
           }
          ],
          "scattergeo": [
           {
            "marker": {
             "colorbar": {
              "outlinewidth": 0,
              "ticks": ""
             }
            },
            "type": "scattergeo"
           }
          ],
          "scattergl": [
           {
            "marker": {
             "colorbar": {
              "outlinewidth": 0,
              "ticks": ""
             }
            },
            "type": "scattergl"
           }
          ],
          "scattermap": [
           {
            "marker": {
             "colorbar": {
              "outlinewidth": 0,
              "ticks": ""
             }
            },
            "type": "scattermap"
           }
          ],
          "scattermapbox": [
           {
            "marker": {
             "colorbar": {
              "outlinewidth": 0,
              "ticks": ""
             }
            },
            "type": "scattermapbox"
           }
          ],
          "scatterpolar": [
           {
            "marker": {
             "colorbar": {
              "outlinewidth": 0,
              "ticks": ""
             }
            },
            "type": "scatterpolar"
           }
          ],
          "scatterpolargl": [
           {
            "marker": {
             "colorbar": {
              "outlinewidth": 0,
              "ticks": ""
             }
            },
            "type": "scatterpolargl"
           }
          ],
          "scatterternary": [
           {
            "marker": {
             "colorbar": {
              "outlinewidth": 0,
              "ticks": ""
             }
            },
            "type": "scatterternary"
           }
          ],
          "surface": [
           {
            "colorbar": {
             "outlinewidth": 0,
             "ticks": ""
            },
            "colorscale": [
             [
              0,
              "#0d0887"
             ],
             [
              0.1111111111111111,
              "#46039f"
             ],
             [
              0.2222222222222222,
              "#7201a8"
             ],
             [
              0.3333333333333333,
              "#9c179e"
             ],
             [
              0.4444444444444444,
              "#bd3786"
             ],
             [
              0.5555555555555556,
              "#d8576b"
             ],
             [
              0.6666666666666666,
              "#ed7953"
             ],
             [
              0.7777777777777778,
              "#fb9f3a"
             ],
             [
              0.8888888888888888,
              "#fdca26"
             ],
             [
              1,
              "#f0f921"
             ]
            ],
            "type": "surface"
           }
          ],
          "table": [
           {
            "cells": {
             "fill": {
              "color": "#EBF0F8"
             },
             "line": {
              "color": "white"
             }
            },
            "header": {
             "fill": {
              "color": "#C8D4E3"
             },
             "line": {
              "color": "white"
             }
            },
            "type": "table"
           }
          ]
         },
         "layout": {
          "annotationdefaults": {
           "arrowcolor": "#2a3f5f",
           "arrowhead": 0,
           "arrowwidth": 1
          },
          "autotypenumbers": "strict",
          "coloraxis": {
           "colorbar": {
            "outlinewidth": 0,
            "ticks": ""
           }
          },
          "colorscale": {
           "diverging": [
            [
             0,
             "#8e0152"
            ],
            [
             0.1,
             "#c51b7d"
            ],
            [
             0.2,
             "#de77ae"
            ],
            [
             0.3,
             "#f1b6da"
            ],
            [
             0.4,
             "#fde0ef"
            ],
            [
             0.5,
             "#f7f7f7"
            ],
            [
             0.6,
             "#e6f5d0"
            ],
            [
             0.7,
             "#b8e186"
            ],
            [
             0.8,
             "#7fbc41"
            ],
            [
             0.9,
             "#4d9221"
            ],
            [
             1,
             "#276419"
            ]
           ],
           "sequential": [
            [
             0,
             "#0d0887"
            ],
            [
             0.1111111111111111,
             "#46039f"
            ],
            [
             0.2222222222222222,
             "#7201a8"
            ],
            [
             0.3333333333333333,
             "#9c179e"
            ],
            [
             0.4444444444444444,
             "#bd3786"
            ],
            [
             0.5555555555555556,
             "#d8576b"
            ],
            [
             0.6666666666666666,
             "#ed7953"
            ],
            [
             0.7777777777777778,
             "#fb9f3a"
            ],
            [
             0.8888888888888888,
             "#fdca26"
            ],
            [
             1,
             "#f0f921"
            ]
           ],
           "sequentialminus": [
            [
             0,
             "#0d0887"
            ],
            [
             0.1111111111111111,
             "#46039f"
            ],
            [
             0.2222222222222222,
             "#7201a8"
            ],
            [
             0.3333333333333333,
             "#9c179e"
            ],
            [
             0.4444444444444444,
             "#bd3786"
            ],
            [
             0.5555555555555556,
             "#d8576b"
            ],
            [
             0.6666666666666666,
             "#ed7953"
            ],
            [
             0.7777777777777778,
             "#fb9f3a"
            ],
            [
             0.8888888888888888,
             "#fdca26"
            ],
            [
             1,
             "#f0f921"
            ]
           ]
          },
          "colorway": [
           "#636efa",
           "#EF553B",
           "#00cc96",
           "#ab63fa",
           "#FFA15A",
           "#19d3f3",
           "#FF6692",
           "#B6E880",
           "#FF97FF",
           "#FECB52"
          ],
          "font": {
           "color": "#2a3f5f"
          },
          "geo": {
           "bgcolor": "white",
           "lakecolor": "white",
           "landcolor": "#E5ECF6",
           "showlakes": true,
           "showland": true,
           "subunitcolor": "white"
          },
          "hoverlabel": {
           "align": "left"
          },
          "hovermode": "closest",
          "mapbox": {
           "style": "light"
          },
          "paper_bgcolor": "white",
          "plot_bgcolor": "#E5ECF6",
          "polar": {
           "angularaxis": {
            "gridcolor": "white",
            "linecolor": "white",
            "ticks": ""
           },
           "bgcolor": "#E5ECF6",
           "radialaxis": {
            "gridcolor": "white",
            "linecolor": "white",
            "ticks": ""
           }
          },
          "scene": {
           "xaxis": {
            "backgroundcolor": "#E5ECF6",
            "gridcolor": "white",
            "gridwidth": 2,
            "linecolor": "white",
            "showbackground": true,
            "ticks": "",
            "zerolinecolor": "white"
           },
           "yaxis": {
            "backgroundcolor": "#E5ECF6",
            "gridcolor": "white",
            "gridwidth": 2,
            "linecolor": "white",
            "showbackground": true,
            "ticks": "",
            "zerolinecolor": "white"
           },
           "zaxis": {
            "backgroundcolor": "#E5ECF6",
            "gridcolor": "white",
            "gridwidth": 2,
            "linecolor": "white",
            "showbackground": true,
            "ticks": "",
            "zerolinecolor": "white"
           }
          },
          "shapedefaults": {
           "line": {
            "color": "#2a3f5f"
           }
          },
          "ternary": {
           "aaxis": {
            "gridcolor": "white",
            "linecolor": "white",
            "ticks": ""
           },
           "baxis": {
            "gridcolor": "white",
            "linecolor": "white",
            "ticks": ""
           },
           "bgcolor": "#E5ECF6",
           "caxis": {
            "gridcolor": "white",
            "linecolor": "white",
            "ticks": ""
           }
          },
          "title": {
           "x": 0.05
          },
          "xaxis": {
           "automargin": true,
           "gridcolor": "white",
           "linecolor": "white",
           "ticks": "",
           "title": {
            "standoff": 15
           },
           "zerolinecolor": "white",
           "zerolinewidth": 2
          },
          "yaxis": {
           "automargin": true,
           "gridcolor": "white",
           "linecolor": "white",
           "ticks": "",
           "title": {
            "standoff": 15
           },
           "zerolinecolor": "white",
           "zerolinewidth": 2
          }
         }
        },
        "title": {
         "text": "Hyperparameter Importances"
        },
        "xaxis": {
         "title": {
          "text": "Hyperparameter Importance"
         }
        },
        "yaxis": {
         "title": {
          "text": "Hyperparameter"
         }
        }
       }
      }
     },
     "metadata": {},
     "output_type": "display_data"
    },
    {
     "data": {
      "application/vnd.plotly.v1+json": {
       "config": {
        "plotlyServerURL": "https://plot.ly"
       },
       "data": [
        {
         "mode": "markers",
         "name": "Objective Value",
         "type": "scatter",
         "x": [
          0,
          1,
          2,
          3,
          4,
          5,
          6,
          7,
          8,
          9,
          10,
          11,
          12,
          13,
          14,
          15,
          16,
          17,
          18,
          19,
          20,
          21,
          22,
          23,
          24,
          25,
          26,
          27,
          28,
          29,
          30,
          31,
          32,
          33,
          34,
          35,
          36,
          37,
          38,
          39,
          40,
          41,
          42,
          43,
          44,
          45,
          46,
          47,
          48,
          49,
          50,
          51,
          52,
          53,
          54,
          55,
          56,
          57,
          58,
          59,
          60,
          61,
          62,
          63,
          64,
          65,
          66,
          67,
          68,
          69,
          70,
          71,
          72,
          73,
          74,
          75,
          76,
          77,
          78,
          79,
          80,
          81,
          82,
          83,
          84,
          85,
          86,
          87,
          88,
          89,
          90,
          91,
          92,
          93,
          94,
          95,
          96,
          97,
          98,
          99
         ],
         "y": [
          0.3070510593956235,
          0.3665963925977981,
          0.4731909663542787,
          0.3655398292197918,
          0.5450762829403606,
          0.2934619707755714,
          0.30718568760444315,
          0.3642919453329456,
          0.32212370809506324,
          0.5550912241361737,
          0.23667867821820132,
          0.3287211740041929,
          0.5397804590401887,
          0.3631628787878788,
          0.35327989161115503,
          0.5175779562926492,
          0.24041490587783326,
          0.5043478260869565,
          0.5182654900844482,
          0.41488422625110344,
          0.32347862487572604,
          0.3838906336597081,
          0.21410493193788904,
          0.31855450956574555,
          0.3521070841132097,
          0.6852976913730255,
          0.6078804003547447,
          0.6939047112057493,
          0.6959597333696096,
          0.6454700854700854,
          0.6454483230663929,
          0.6427114033099071,
          0.6345426218562208,
          0.6317067785383087,
          0.6234694983205115,
          0.6114327823981471,
          0.6537164127021053,
          0.6433265352368004,
          0.5018264045921029,
          0.6620508535275158,
          0.5162879824801533,
          0.4893226559893227,
          0.6535021489139273,
          0.6105683370101902,
          0.6488663827828288,
          0.6193878639223632,
          0.6572065204644072,
          0.6244799649660608,
          0.5892498997192138,
          0.5916482634009235,
          0.6364653243847874,
          0.64965483234714,
          0.5700066992056656,
          0.6490128856838869,
          0.6442937324602432,
          0.6322420969737879,
          0.6470861388437428,
          0.615735214324471,
          0.69690486378548,
          0.6936681517483462,
          0.6941500943533169,
          0.6983270372369131,
          0.6948981066628126,
          0.6755753526354863,
          0.694292206924208,
          0.676213407679635,
          0.6999865283578068,
          0.6912054686472986,
          0.698567335243553,
          0.675779253960143,
          0.6737249838605552,
          0.6670752635449865,
          0.6704785581106277,
          0.6766612641815235,
          0.6762084796111261,
          0.6843302555867791,
          0.6832264957264957,
          0.6553304389773276,
          0.6827199343275414,
          0.6832264957264957,
          0.6679895820414238,
          0.6849385245901639,
          0.5481301172825847,
          0.5468287873808741,
          0.6695576756287944,
          0.6679890900074387,
          0.6855740387237523,
          0.6996886498726295,
          0.683182224492402,
          0.6994260114797705,
          0.6972002871500359,
          0.6969610091743119,
          0.6918500892325996,
          0.5164956322618947,
          0.6911479325272428,
          0.6925826630920465,
          0.6902230872885162,
          0.6965436438195665,
          0.6916443651501636,
          0.6973953760608721
         ]
        },
        {
         "mode": "lines",
         "name": "Best Value",
         "type": "scatter",
         "x": [
          0,
          1,
          2,
          3,
          4,
          5,
          6,
          7,
          8,
          9,
          10,
          11,
          12,
          13,
          14,
          15,
          16,
          17,
          18,
          19,
          20,
          21,
          22,
          23,
          24,
          25,
          26,
          27,
          28,
          29,
          30,
          31,
          32,
          33,
          34,
          35,
          36,
          37,
          38,
          39,
          40,
          41,
          42,
          43,
          44,
          45,
          46,
          47,
          48,
          49,
          50,
          51,
          52,
          53,
          54,
          55,
          56,
          57,
          58,
          59,
          60,
          61,
          62,
          63,
          64,
          65,
          66,
          67,
          68,
          69,
          70,
          71,
          72,
          73,
          74,
          75,
          76,
          77,
          78,
          79,
          80,
          81,
          82,
          83,
          84,
          85,
          86,
          87,
          88,
          89,
          90,
          91,
          92,
          93,
          94,
          95,
          96,
          97,
          98,
          99
         ],
         "y": [
          0.3070510593956235,
          0.3665963925977981,
          0.4731909663542787,
          0.4731909663542787,
          0.5450762829403606,
          0.5450762829403606,
          0.5450762829403606,
          0.5450762829403606,
          0.5450762829403606,
          0.5550912241361737,
          0.5550912241361737,
          0.5550912241361737,
          0.5550912241361737,
          0.5550912241361737,
          0.5550912241361737,
          0.5550912241361737,
          0.5550912241361737,
          0.5550912241361737,
          0.5550912241361737,
          0.5550912241361737,
          0.5550912241361737,
          0.5550912241361737,
          0.5550912241361737,
          0.5550912241361737,
          0.5550912241361737,
          0.6852976913730255,
          0.6852976913730255,
          0.6939047112057493,
          0.6959597333696096,
          0.6959597333696096,
          0.6959597333696096,
          0.6959597333696096,
          0.6959597333696096,
          0.6959597333696096,
          0.6959597333696096,
          0.6959597333696096,
          0.6959597333696096,
          0.6959597333696096,
          0.6959597333696096,
          0.6959597333696096,
          0.6959597333696096,
          0.6959597333696096,
          0.6959597333696096,
          0.6959597333696096,
          0.6959597333696096,
          0.6959597333696096,
          0.6959597333696096,
          0.6959597333696096,
          0.6959597333696096,
          0.6959597333696096,
          0.6959597333696096,
          0.6959597333696096,
          0.6959597333696096,
          0.6959597333696096,
          0.6959597333696096,
          0.6959597333696096,
          0.6959597333696096,
          0.6959597333696096,
          0.69690486378548,
          0.69690486378548,
          0.69690486378548,
          0.6983270372369131,
          0.6983270372369131,
          0.6983270372369131,
          0.6983270372369131,
          0.6983270372369131,
          0.6999865283578068,
          0.6999865283578068,
          0.6999865283578068,
          0.6999865283578068,
          0.6999865283578068,
          0.6999865283578068,
          0.6999865283578068,
          0.6999865283578068,
          0.6999865283578068,
          0.6999865283578068,
          0.6999865283578068,
          0.6999865283578068,
          0.6999865283578068,
          0.6999865283578068,
          0.6999865283578068,
          0.6999865283578068,
          0.6999865283578068,
          0.6999865283578068,
          0.6999865283578068,
          0.6999865283578068,
          0.6999865283578068,
          0.6999865283578068,
          0.6999865283578068,
          0.6999865283578068,
          0.6999865283578068,
          0.6999865283578068,
          0.6999865283578068,
          0.6999865283578068,
          0.6999865283578068,
          0.6999865283578068,
          0.6999865283578068,
          0.6999865283578068,
          0.6999865283578068,
          0.6999865283578068
         ]
        },
        {
         "marker": {
          "color": "#cccccc"
         },
         "mode": "markers",
         "name": "Infeasible Trial",
         "showlegend": false,
         "type": "scatter",
         "x": [],
         "y": []
        }
       ],
       "layout": {
        "template": {
         "data": {
          "bar": [
           {
            "error_x": {
             "color": "#2a3f5f"
            },
            "error_y": {
             "color": "#2a3f5f"
            },
            "marker": {
             "line": {
              "color": "#E5ECF6",
              "width": 0.5
             },
             "pattern": {
              "fillmode": "overlay",
              "size": 10,
              "solidity": 0.2
             }
            },
            "type": "bar"
           }
          ],
          "barpolar": [
           {
            "marker": {
             "line": {
              "color": "#E5ECF6",
              "width": 0.5
             },
             "pattern": {
              "fillmode": "overlay",
              "size": 10,
              "solidity": 0.2
             }
            },
            "type": "barpolar"
           }
          ],
          "carpet": [
           {
            "aaxis": {
             "endlinecolor": "#2a3f5f",
             "gridcolor": "white",
             "linecolor": "white",
             "minorgridcolor": "white",
             "startlinecolor": "#2a3f5f"
            },
            "baxis": {
             "endlinecolor": "#2a3f5f",
             "gridcolor": "white",
             "linecolor": "white",
             "minorgridcolor": "white",
             "startlinecolor": "#2a3f5f"
            },
            "type": "carpet"
           }
          ],
          "choropleth": [
           {
            "colorbar": {
             "outlinewidth": 0,
             "ticks": ""
            },
            "type": "choropleth"
           }
          ],
          "contour": [
           {
            "colorbar": {
             "outlinewidth": 0,
             "ticks": ""
            },
            "colorscale": [
             [
              0,
              "#0d0887"
             ],
             [
              0.1111111111111111,
              "#46039f"
             ],
             [
              0.2222222222222222,
              "#7201a8"
             ],
             [
              0.3333333333333333,
              "#9c179e"
             ],
             [
              0.4444444444444444,
              "#bd3786"
             ],
             [
              0.5555555555555556,
              "#d8576b"
             ],
             [
              0.6666666666666666,
              "#ed7953"
             ],
             [
              0.7777777777777778,
              "#fb9f3a"
             ],
             [
              0.8888888888888888,
              "#fdca26"
             ],
             [
              1,
              "#f0f921"
             ]
            ],
            "type": "contour"
           }
          ],
          "contourcarpet": [
           {
            "colorbar": {
             "outlinewidth": 0,
             "ticks": ""
            },
            "type": "contourcarpet"
           }
          ],
          "heatmap": [
           {
            "colorbar": {
             "outlinewidth": 0,
             "ticks": ""
            },
            "colorscale": [
             [
              0,
              "#0d0887"
             ],
             [
              0.1111111111111111,
              "#46039f"
             ],
             [
              0.2222222222222222,
              "#7201a8"
             ],
             [
              0.3333333333333333,
              "#9c179e"
             ],
             [
              0.4444444444444444,
              "#bd3786"
             ],
             [
              0.5555555555555556,
              "#d8576b"
             ],
             [
              0.6666666666666666,
              "#ed7953"
             ],
             [
              0.7777777777777778,
              "#fb9f3a"
             ],
             [
              0.8888888888888888,
              "#fdca26"
             ],
             [
              1,
              "#f0f921"
             ]
            ],
            "type": "heatmap"
           }
          ],
          "histogram": [
           {
            "marker": {
             "pattern": {
              "fillmode": "overlay",
              "size": 10,
              "solidity": 0.2
             }
            },
            "type": "histogram"
           }
          ],
          "histogram2d": [
           {
            "colorbar": {
             "outlinewidth": 0,
             "ticks": ""
            },
            "colorscale": [
             [
              0,
              "#0d0887"
             ],
             [
              0.1111111111111111,
              "#46039f"
             ],
             [
              0.2222222222222222,
              "#7201a8"
             ],
             [
              0.3333333333333333,
              "#9c179e"
             ],
             [
              0.4444444444444444,
              "#bd3786"
             ],
             [
              0.5555555555555556,
              "#d8576b"
             ],
             [
              0.6666666666666666,
              "#ed7953"
             ],
             [
              0.7777777777777778,
              "#fb9f3a"
             ],
             [
              0.8888888888888888,
              "#fdca26"
             ],
             [
              1,
              "#f0f921"
             ]
            ],
            "type": "histogram2d"
           }
          ],
          "histogram2dcontour": [
           {
            "colorbar": {
             "outlinewidth": 0,
             "ticks": ""
            },
            "colorscale": [
             [
              0,
              "#0d0887"
             ],
             [
              0.1111111111111111,
              "#46039f"
             ],
             [
              0.2222222222222222,
              "#7201a8"
             ],
             [
              0.3333333333333333,
              "#9c179e"
             ],
             [
              0.4444444444444444,
              "#bd3786"
             ],
             [
              0.5555555555555556,
              "#d8576b"
             ],
             [
              0.6666666666666666,
              "#ed7953"
             ],
             [
              0.7777777777777778,
              "#fb9f3a"
             ],
             [
              0.8888888888888888,
              "#fdca26"
             ],
             [
              1,
              "#f0f921"
             ]
            ],
            "type": "histogram2dcontour"
           }
          ],
          "mesh3d": [
           {
            "colorbar": {
             "outlinewidth": 0,
             "ticks": ""
            },
            "type": "mesh3d"
           }
          ],
          "parcoords": [
           {
            "line": {
             "colorbar": {
              "outlinewidth": 0,
              "ticks": ""
             }
            },
            "type": "parcoords"
           }
          ],
          "pie": [
           {
            "automargin": true,
            "type": "pie"
           }
          ],
          "scatter": [
           {
            "fillpattern": {
             "fillmode": "overlay",
             "size": 10,
             "solidity": 0.2
            },
            "type": "scatter"
           }
          ],
          "scatter3d": [
           {
            "line": {
             "colorbar": {
              "outlinewidth": 0,
              "ticks": ""
             }
            },
            "marker": {
             "colorbar": {
              "outlinewidth": 0,
              "ticks": ""
             }
            },
            "type": "scatter3d"
           }
          ],
          "scattercarpet": [
           {
            "marker": {
             "colorbar": {
              "outlinewidth": 0,
              "ticks": ""
             }
            },
            "type": "scattercarpet"
           }
          ],
          "scattergeo": [
           {
            "marker": {
             "colorbar": {
              "outlinewidth": 0,
              "ticks": ""
             }
            },
            "type": "scattergeo"
           }
          ],
          "scattergl": [
           {
            "marker": {
             "colorbar": {
              "outlinewidth": 0,
              "ticks": ""
             }
            },
            "type": "scattergl"
           }
          ],
          "scattermap": [
           {
            "marker": {
             "colorbar": {
              "outlinewidth": 0,
              "ticks": ""
             }
            },
            "type": "scattermap"
           }
          ],
          "scattermapbox": [
           {
            "marker": {
             "colorbar": {
              "outlinewidth": 0,
              "ticks": ""
             }
            },
            "type": "scattermapbox"
           }
          ],
          "scatterpolar": [
           {
            "marker": {
             "colorbar": {
              "outlinewidth": 0,
              "ticks": ""
             }
            },
            "type": "scatterpolar"
           }
          ],
          "scatterpolargl": [
           {
            "marker": {
             "colorbar": {
              "outlinewidth": 0,
              "ticks": ""
             }
            },
            "type": "scatterpolargl"
           }
          ],
          "scatterternary": [
           {
            "marker": {
             "colorbar": {
              "outlinewidth": 0,
              "ticks": ""
             }
            },
            "type": "scatterternary"
           }
          ],
          "surface": [
           {
            "colorbar": {
             "outlinewidth": 0,
             "ticks": ""
            },
            "colorscale": [
             [
              0,
              "#0d0887"
             ],
             [
              0.1111111111111111,
              "#46039f"
             ],
             [
              0.2222222222222222,
              "#7201a8"
             ],
             [
              0.3333333333333333,
              "#9c179e"
             ],
             [
              0.4444444444444444,
              "#bd3786"
             ],
             [
              0.5555555555555556,
              "#d8576b"
             ],
             [
              0.6666666666666666,
              "#ed7953"
             ],
             [
              0.7777777777777778,
              "#fb9f3a"
             ],
             [
              0.8888888888888888,
              "#fdca26"
             ],
             [
              1,
              "#f0f921"
             ]
            ],
            "type": "surface"
           }
          ],
          "table": [
           {
            "cells": {
             "fill": {
              "color": "#EBF0F8"
             },
             "line": {
              "color": "white"
             }
            },
            "header": {
             "fill": {
              "color": "#C8D4E3"
             },
             "line": {
              "color": "white"
             }
            },
            "type": "table"
           }
          ]
         },
         "layout": {
          "annotationdefaults": {
           "arrowcolor": "#2a3f5f",
           "arrowhead": 0,
           "arrowwidth": 1
          },
          "autotypenumbers": "strict",
          "coloraxis": {
           "colorbar": {
            "outlinewidth": 0,
            "ticks": ""
           }
          },
          "colorscale": {
           "diverging": [
            [
             0,
             "#8e0152"
            ],
            [
             0.1,
             "#c51b7d"
            ],
            [
             0.2,
             "#de77ae"
            ],
            [
             0.3,
             "#f1b6da"
            ],
            [
             0.4,
             "#fde0ef"
            ],
            [
             0.5,
             "#f7f7f7"
            ],
            [
             0.6,
             "#e6f5d0"
            ],
            [
             0.7,
             "#b8e186"
            ],
            [
             0.8,
             "#7fbc41"
            ],
            [
             0.9,
             "#4d9221"
            ],
            [
             1,
             "#276419"
            ]
           ],
           "sequential": [
            [
             0,
             "#0d0887"
            ],
            [
             0.1111111111111111,
             "#46039f"
            ],
            [
             0.2222222222222222,
             "#7201a8"
            ],
            [
             0.3333333333333333,
             "#9c179e"
            ],
            [
             0.4444444444444444,
             "#bd3786"
            ],
            [
             0.5555555555555556,
             "#d8576b"
            ],
            [
             0.6666666666666666,
             "#ed7953"
            ],
            [
             0.7777777777777778,
             "#fb9f3a"
            ],
            [
             0.8888888888888888,
             "#fdca26"
            ],
            [
             1,
             "#f0f921"
            ]
           ],
           "sequentialminus": [
            [
             0,
             "#0d0887"
            ],
            [
             0.1111111111111111,
             "#46039f"
            ],
            [
             0.2222222222222222,
             "#7201a8"
            ],
            [
             0.3333333333333333,
             "#9c179e"
            ],
            [
             0.4444444444444444,
             "#bd3786"
            ],
            [
             0.5555555555555556,
             "#d8576b"
            ],
            [
             0.6666666666666666,
             "#ed7953"
            ],
            [
             0.7777777777777778,
             "#fb9f3a"
            ],
            [
             0.8888888888888888,
             "#fdca26"
            ],
            [
             1,
             "#f0f921"
            ]
           ]
          },
          "colorway": [
           "#636efa",
           "#EF553B",
           "#00cc96",
           "#ab63fa",
           "#FFA15A",
           "#19d3f3",
           "#FF6692",
           "#B6E880",
           "#FF97FF",
           "#FECB52"
          ],
          "font": {
           "color": "#2a3f5f"
          },
          "geo": {
           "bgcolor": "white",
           "lakecolor": "white",
           "landcolor": "#E5ECF6",
           "showlakes": true,
           "showland": true,
           "subunitcolor": "white"
          },
          "hoverlabel": {
           "align": "left"
          },
          "hovermode": "closest",
          "mapbox": {
           "style": "light"
          },
          "paper_bgcolor": "white",
          "plot_bgcolor": "#E5ECF6",
          "polar": {
           "angularaxis": {
            "gridcolor": "white",
            "linecolor": "white",
            "ticks": ""
           },
           "bgcolor": "#E5ECF6",
           "radialaxis": {
            "gridcolor": "white",
            "linecolor": "white",
            "ticks": ""
           }
          },
          "scene": {
           "xaxis": {
            "backgroundcolor": "#E5ECF6",
            "gridcolor": "white",
            "gridwidth": 2,
            "linecolor": "white",
            "showbackground": true,
            "ticks": "",
            "zerolinecolor": "white"
           },
           "yaxis": {
            "backgroundcolor": "#E5ECF6",
            "gridcolor": "white",
            "gridwidth": 2,
            "linecolor": "white",
            "showbackground": true,
            "ticks": "",
            "zerolinecolor": "white"
           },
           "zaxis": {
            "backgroundcolor": "#E5ECF6",
            "gridcolor": "white",
            "gridwidth": 2,
            "linecolor": "white",
            "showbackground": true,
            "ticks": "",
            "zerolinecolor": "white"
           }
          },
          "shapedefaults": {
           "line": {
            "color": "#2a3f5f"
           }
          },
          "ternary": {
           "aaxis": {
            "gridcolor": "white",
            "linecolor": "white",
            "ticks": ""
           },
           "baxis": {
            "gridcolor": "white",
            "linecolor": "white",
            "ticks": ""
           },
           "bgcolor": "#E5ECF6",
           "caxis": {
            "gridcolor": "white",
            "linecolor": "white",
            "ticks": ""
           }
          },
          "title": {
           "x": 0.05
          },
          "xaxis": {
           "automargin": true,
           "gridcolor": "white",
           "linecolor": "white",
           "ticks": "",
           "title": {
            "standoff": 15
           },
           "zerolinecolor": "white",
           "zerolinewidth": 2
          },
          "yaxis": {
           "automargin": true,
           "gridcolor": "white",
           "linecolor": "white",
           "ticks": "",
           "title": {
            "standoff": 15
           },
           "zerolinecolor": "white",
           "zerolinewidth": 2
          }
         }
        },
        "title": {
         "text": "Optimization History Plot"
        },
        "xaxis": {
         "title": {
          "text": "Trial"
         }
        },
        "yaxis": {
         "title": {
          "text": "Objective Value"
         }
        }
       }
      }
     },
     "metadata": {},
     "output_type": "display_data"
    }
   ],
   "source": [
    "import optuna.visualization as vis\n",
    "\n",
    "display(vis.plot_param_importances(study))\n",
    "display(vis.plot_optimization_history(study))"
   ]
  },
  {
   "cell_type": "code",
   "execution_count": 13,
   "metadata": {},
   "outputs": [
    {
     "data": {
      "text/html": [
       "<style>#sk-container-id-1 {\n",
       "  /* Definition of color scheme common for light and dark mode */\n",
       "  --sklearn-color-text: #000;\n",
       "  --sklearn-color-text-muted: #666;\n",
       "  --sklearn-color-line: gray;\n",
       "  /* Definition of color scheme for unfitted estimators */\n",
       "  --sklearn-color-unfitted-level-0: #fff5e6;\n",
       "  --sklearn-color-unfitted-level-1: #f6e4d2;\n",
       "  --sklearn-color-unfitted-level-2: #ffe0b3;\n",
       "  --sklearn-color-unfitted-level-3: chocolate;\n",
       "  /* Definition of color scheme for fitted estimators */\n",
       "  --sklearn-color-fitted-level-0: #f0f8ff;\n",
       "  --sklearn-color-fitted-level-1: #d4ebff;\n",
       "  --sklearn-color-fitted-level-2: #b3dbfd;\n",
       "  --sklearn-color-fitted-level-3: cornflowerblue;\n",
       "\n",
       "  /* Specific color for light theme */\n",
       "  --sklearn-color-text-on-default-background: var(--sg-text-color, var(--theme-code-foreground, var(--jp-content-font-color1, black)));\n",
       "  --sklearn-color-background: var(--sg-background-color, var(--theme-background, var(--jp-layout-color0, white)));\n",
       "  --sklearn-color-border-box: var(--sg-text-color, var(--theme-code-foreground, var(--jp-content-font-color1, black)));\n",
       "  --sklearn-color-icon: #696969;\n",
       "\n",
       "  @media (prefers-color-scheme: dark) {\n",
       "    /* Redefinition of color scheme for dark theme */\n",
       "    --sklearn-color-text-on-default-background: var(--sg-text-color, var(--theme-code-foreground, var(--jp-content-font-color1, white)));\n",
       "    --sklearn-color-background: var(--sg-background-color, var(--theme-background, var(--jp-layout-color0, #111)));\n",
       "    --sklearn-color-border-box: var(--sg-text-color, var(--theme-code-foreground, var(--jp-content-font-color1, white)));\n",
       "    --sklearn-color-icon: #878787;\n",
       "  }\n",
       "}\n",
       "\n",
       "#sk-container-id-1 {\n",
       "  color: var(--sklearn-color-text);\n",
       "}\n",
       "\n",
       "#sk-container-id-1 pre {\n",
       "  padding: 0;\n",
       "}\n",
       "\n",
       "#sk-container-id-1 input.sk-hidden--visually {\n",
       "  border: 0;\n",
       "  clip: rect(1px 1px 1px 1px);\n",
       "  clip: rect(1px, 1px, 1px, 1px);\n",
       "  height: 1px;\n",
       "  margin: -1px;\n",
       "  overflow: hidden;\n",
       "  padding: 0;\n",
       "  position: absolute;\n",
       "  width: 1px;\n",
       "}\n",
       "\n",
       "#sk-container-id-1 div.sk-dashed-wrapped {\n",
       "  border: 1px dashed var(--sklearn-color-line);\n",
       "  margin: 0 0.4em 0.5em 0.4em;\n",
       "  box-sizing: border-box;\n",
       "  padding-bottom: 0.4em;\n",
       "  background-color: var(--sklearn-color-background);\n",
       "}\n",
       "\n",
       "#sk-container-id-1 div.sk-container {\n",
       "  /* jupyter's `normalize.less` sets `[hidden] { display: none; }`\n",
       "     but bootstrap.min.css set `[hidden] { display: none !important; }`\n",
       "     so we also need the `!important` here to be able to override the\n",
       "     default hidden behavior on the sphinx rendered scikit-learn.org.\n",
       "     See: https://github.com/scikit-learn/scikit-learn/issues/21755 */\n",
       "  display: inline-block !important;\n",
       "  position: relative;\n",
       "}\n",
       "\n",
       "#sk-container-id-1 div.sk-text-repr-fallback {\n",
       "  display: none;\n",
       "}\n",
       "\n",
       "div.sk-parallel-item,\n",
       "div.sk-serial,\n",
       "div.sk-item {\n",
       "  /* draw centered vertical line to link estimators */\n",
       "  background-image: linear-gradient(var(--sklearn-color-text-on-default-background), var(--sklearn-color-text-on-default-background));\n",
       "  background-size: 2px 100%;\n",
       "  background-repeat: no-repeat;\n",
       "  background-position: center center;\n",
       "}\n",
       "\n",
       "/* Parallel-specific style estimator block */\n",
       "\n",
       "#sk-container-id-1 div.sk-parallel-item::after {\n",
       "  content: \"\";\n",
       "  width: 100%;\n",
       "  border-bottom: 2px solid var(--sklearn-color-text-on-default-background);\n",
       "  flex-grow: 1;\n",
       "}\n",
       "\n",
       "#sk-container-id-1 div.sk-parallel {\n",
       "  display: flex;\n",
       "  align-items: stretch;\n",
       "  justify-content: center;\n",
       "  background-color: var(--sklearn-color-background);\n",
       "  position: relative;\n",
       "}\n",
       "\n",
       "#sk-container-id-1 div.sk-parallel-item {\n",
       "  display: flex;\n",
       "  flex-direction: column;\n",
       "}\n",
       "\n",
       "#sk-container-id-1 div.sk-parallel-item:first-child::after {\n",
       "  align-self: flex-end;\n",
       "  width: 50%;\n",
       "}\n",
       "\n",
       "#sk-container-id-1 div.sk-parallel-item:last-child::after {\n",
       "  align-self: flex-start;\n",
       "  width: 50%;\n",
       "}\n",
       "\n",
       "#sk-container-id-1 div.sk-parallel-item:only-child::after {\n",
       "  width: 0;\n",
       "}\n",
       "\n",
       "/* Serial-specific style estimator block */\n",
       "\n",
       "#sk-container-id-1 div.sk-serial {\n",
       "  display: flex;\n",
       "  flex-direction: column;\n",
       "  align-items: center;\n",
       "  background-color: var(--sklearn-color-background);\n",
       "  padding-right: 1em;\n",
       "  padding-left: 1em;\n",
       "}\n",
       "\n",
       "\n",
       "/* Toggleable style: style used for estimator/Pipeline/ColumnTransformer box that is\n",
       "clickable and can be expanded/collapsed.\n",
       "- Pipeline and ColumnTransformer use this feature and define the default style\n",
       "- Estimators will overwrite some part of the style using the `sk-estimator` class\n",
       "*/\n",
       "\n",
       "/* Pipeline and ColumnTransformer style (default) */\n",
       "\n",
       "#sk-container-id-1 div.sk-toggleable {\n",
       "  /* Default theme specific background. It is overwritten whether we have a\n",
       "  specific estimator or a Pipeline/ColumnTransformer */\n",
       "  background-color: var(--sklearn-color-background);\n",
       "}\n",
       "\n",
       "/* Toggleable label */\n",
       "#sk-container-id-1 label.sk-toggleable__label {\n",
       "  cursor: pointer;\n",
       "  display: flex;\n",
       "  width: 100%;\n",
       "  margin-bottom: 0;\n",
       "  padding: 0.5em;\n",
       "  box-sizing: border-box;\n",
       "  text-align: center;\n",
       "  align-items: start;\n",
       "  justify-content: space-between;\n",
       "  gap: 0.5em;\n",
       "}\n",
       "\n",
       "#sk-container-id-1 label.sk-toggleable__label .caption {\n",
       "  font-size: 0.6rem;\n",
       "  font-weight: lighter;\n",
       "  color: var(--sklearn-color-text-muted);\n",
       "}\n",
       "\n",
       "#sk-container-id-1 label.sk-toggleable__label-arrow:before {\n",
       "  /* Arrow on the left of the label */\n",
       "  content: \"▸\";\n",
       "  float: left;\n",
       "  margin-right: 0.25em;\n",
       "  color: var(--sklearn-color-icon);\n",
       "}\n",
       "\n",
       "#sk-container-id-1 label.sk-toggleable__label-arrow:hover:before {\n",
       "  color: var(--sklearn-color-text);\n",
       "}\n",
       "\n",
       "/* Toggleable content - dropdown */\n",
       "\n",
       "#sk-container-id-1 div.sk-toggleable__content {\n",
       "  max-height: 0;\n",
       "  max-width: 0;\n",
       "  overflow: hidden;\n",
       "  text-align: left;\n",
       "  /* unfitted */\n",
       "  background-color: var(--sklearn-color-unfitted-level-0);\n",
       "}\n",
       "\n",
       "#sk-container-id-1 div.sk-toggleable__content.fitted {\n",
       "  /* fitted */\n",
       "  background-color: var(--sklearn-color-fitted-level-0);\n",
       "}\n",
       "\n",
       "#sk-container-id-1 div.sk-toggleable__content pre {\n",
       "  margin: 0.2em;\n",
       "  border-radius: 0.25em;\n",
       "  color: var(--sklearn-color-text);\n",
       "  /* unfitted */\n",
       "  background-color: var(--sklearn-color-unfitted-level-0);\n",
       "}\n",
       "\n",
       "#sk-container-id-1 div.sk-toggleable__content.fitted pre {\n",
       "  /* unfitted */\n",
       "  background-color: var(--sklearn-color-fitted-level-0);\n",
       "}\n",
       "\n",
       "#sk-container-id-1 input.sk-toggleable__control:checked~div.sk-toggleable__content {\n",
       "  /* Expand drop-down */\n",
       "  max-height: 200px;\n",
       "  max-width: 100%;\n",
       "  overflow: auto;\n",
       "}\n",
       "\n",
       "#sk-container-id-1 input.sk-toggleable__control:checked~label.sk-toggleable__label-arrow:before {\n",
       "  content: \"▾\";\n",
       "}\n",
       "\n",
       "/* Pipeline/ColumnTransformer-specific style */\n",
       "\n",
       "#sk-container-id-1 div.sk-label input.sk-toggleable__control:checked~label.sk-toggleable__label {\n",
       "  color: var(--sklearn-color-text);\n",
       "  background-color: var(--sklearn-color-unfitted-level-2);\n",
       "}\n",
       "\n",
       "#sk-container-id-1 div.sk-label.fitted input.sk-toggleable__control:checked~label.sk-toggleable__label {\n",
       "  background-color: var(--sklearn-color-fitted-level-2);\n",
       "}\n",
       "\n",
       "/* Estimator-specific style */\n",
       "\n",
       "/* Colorize estimator box */\n",
       "#sk-container-id-1 div.sk-estimator input.sk-toggleable__control:checked~label.sk-toggleable__label {\n",
       "  /* unfitted */\n",
       "  background-color: var(--sklearn-color-unfitted-level-2);\n",
       "}\n",
       "\n",
       "#sk-container-id-1 div.sk-estimator.fitted input.sk-toggleable__control:checked~label.sk-toggleable__label {\n",
       "  /* fitted */\n",
       "  background-color: var(--sklearn-color-fitted-level-2);\n",
       "}\n",
       "\n",
       "#sk-container-id-1 div.sk-label label.sk-toggleable__label,\n",
       "#sk-container-id-1 div.sk-label label {\n",
       "  /* The background is the default theme color */\n",
       "  color: var(--sklearn-color-text-on-default-background);\n",
       "}\n",
       "\n",
       "/* On hover, darken the color of the background */\n",
       "#sk-container-id-1 div.sk-label:hover label.sk-toggleable__label {\n",
       "  color: var(--sklearn-color-text);\n",
       "  background-color: var(--sklearn-color-unfitted-level-2);\n",
       "}\n",
       "\n",
       "/* Label box, darken color on hover, fitted */\n",
       "#sk-container-id-1 div.sk-label.fitted:hover label.sk-toggleable__label.fitted {\n",
       "  color: var(--sklearn-color-text);\n",
       "  background-color: var(--sklearn-color-fitted-level-2);\n",
       "}\n",
       "\n",
       "/* Estimator label */\n",
       "\n",
       "#sk-container-id-1 div.sk-label label {\n",
       "  font-family: monospace;\n",
       "  font-weight: bold;\n",
       "  display: inline-block;\n",
       "  line-height: 1.2em;\n",
       "}\n",
       "\n",
       "#sk-container-id-1 div.sk-label-container {\n",
       "  text-align: center;\n",
       "}\n",
       "\n",
       "/* Estimator-specific */\n",
       "#sk-container-id-1 div.sk-estimator {\n",
       "  font-family: monospace;\n",
       "  border: 1px dotted var(--sklearn-color-border-box);\n",
       "  border-radius: 0.25em;\n",
       "  box-sizing: border-box;\n",
       "  margin-bottom: 0.5em;\n",
       "  /* unfitted */\n",
       "  background-color: var(--sklearn-color-unfitted-level-0);\n",
       "}\n",
       "\n",
       "#sk-container-id-1 div.sk-estimator.fitted {\n",
       "  /* fitted */\n",
       "  background-color: var(--sklearn-color-fitted-level-0);\n",
       "}\n",
       "\n",
       "/* on hover */\n",
       "#sk-container-id-1 div.sk-estimator:hover {\n",
       "  /* unfitted */\n",
       "  background-color: var(--sklearn-color-unfitted-level-2);\n",
       "}\n",
       "\n",
       "#sk-container-id-1 div.sk-estimator.fitted:hover {\n",
       "  /* fitted */\n",
       "  background-color: var(--sklearn-color-fitted-level-2);\n",
       "}\n",
       "\n",
       "/* Specification for estimator info (e.g. \"i\" and \"?\") */\n",
       "\n",
       "/* Common style for \"i\" and \"?\" */\n",
       "\n",
       ".sk-estimator-doc-link,\n",
       "a:link.sk-estimator-doc-link,\n",
       "a:visited.sk-estimator-doc-link {\n",
       "  float: right;\n",
       "  font-size: smaller;\n",
       "  line-height: 1em;\n",
       "  font-family: monospace;\n",
       "  background-color: var(--sklearn-color-background);\n",
       "  border-radius: 1em;\n",
       "  height: 1em;\n",
       "  width: 1em;\n",
       "  text-decoration: none !important;\n",
       "  margin-left: 0.5em;\n",
       "  text-align: center;\n",
       "  /* unfitted */\n",
       "  border: var(--sklearn-color-unfitted-level-1) 1pt solid;\n",
       "  color: var(--sklearn-color-unfitted-level-1);\n",
       "}\n",
       "\n",
       ".sk-estimator-doc-link.fitted,\n",
       "a:link.sk-estimator-doc-link.fitted,\n",
       "a:visited.sk-estimator-doc-link.fitted {\n",
       "  /* fitted */\n",
       "  border: var(--sklearn-color-fitted-level-1) 1pt solid;\n",
       "  color: var(--sklearn-color-fitted-level-1);\n",
       "}\n",
       "\n",
       "/* On hover */\n",
       "div.sk-estimator:hover .sk-estimator-doc-link:hover,\n",
       ".sk-estimator-doc-link:hover,\n",
       "div.sk-label-container:hover .sk-estimator-doc-link:hover,\n",
       ".sk-estimator-doc-link:hover {\n",
       "  /* unfitted */\n",
       "  background-color: var(--sklearn-color-unfitted-level-3);\n",
       "  color: var(--sklearn-color-background);\n",
       "  text-decoration: none;\n",
       "}\n",
       "\n",
       "div.sk-estimator.fitted:hover .sk-estimator-doc-link.fitted:hover,\n",
       ".sk-estimator-doc-link.fitted:hover,\n",
       "div.sk-label-container:hover .sk-estimator-doc-link.fitted:hover,\n",
       ".sk-estimator-doc-link.fitted:hover {\n",
       "  /* fitted */\n",
       "  background-color: var(--sklearn-color-fitted-level-3);\n",
       "  color: var(--sklearn-color-background);\n",
       "  text-decoration: none;\n",
       "}\n",
       "\n",
       "/* Span, style for the box shown on hovering the info icon */\n",
       ".sk-estimator-doc-link span {\n",
       "  display: none;\n",
       "  z-index: 9999;\n",
       "  position: relative;\n",
       "  font-weight: normal;\n",
       "  right: .2ex;\n",
       "  padding: .5ex;\n",
       "  margin: .5ex;\n",
       "  width: min-content;\n",
       "  min-width: 20ex;\n",
       "  max-width: 50ex;\n",
       "  color: var(--sklearn-color-text);\n",
       "  box-shadow: 2pt 2pt 4pt #999;\n",
       "  /* unfitted */\n",
       "  background: var(--sklearn-color-unfitted-level-0);\n",
       "  border: .5pt solid var(--sklearn-color-unfitted-level-3);\n",
       "}\n",
       "\n",
       ".sk-estimator-doc-link.fitted span {\n",
       "  /* fitted */\n",
       "  background: var(--sklearn-color-fitted-level-0);\n",
       "  border: var(--sklearn-color-fitted-level-3);\n",
       "}\n",
       "\n",
       ".sk-estimator-doc-link:hover span {\n",
       "  display: block;\n",
       "}\n",
       "\n",
       "/* \"?\"-specific style due to the `<a>` HTML tag */\n",
       "\n",
       "#sk-container-id-1 a.estimator_doc_link {\n",
       "  float: right;\n",
       "  font-size: 1rem;\n",
       "  line-height: 1em;\n",
       "  font-family: monospace;\n",
       "  background-color: var(--sklearn-color-background);\n",
       "  border-radius: 1rem;\n",
       "  height: 1rem;\n",
       "  width: 1rem;\n",
       "  text-decoration: none;\n",
       "  /* unfitted */\n",
       "  color: var(--sklearn-color-unfitted-level-1);\n",
       "  border: var(--sklearn-color-unfitted-level-1) 1pt solid;\n",
       "}\n",
       "\n",
       "#sk-container-id-1 a.estimator_doc_link.fitted {\n",
       "  /* fitted */\n",
       "  border: var(--sklearn-color-fitted-level-1) 1pt solid;\n",
       "  color: var(--sklearn-color-fitted-level-1);\n",
       "}\n",
       "\n",
       "/* On hover */\n",
       "#sk-container-id-1 a.estimator_doc_link:hover {\n",
       "  /* unfitted */\n",
       "  background-color: var(--sklearn-color-unfitted-level-3);\n",
       "  color: var(--sklearn-color-background);\n",
       "  text-decoration: none;\n",
       "}\n",
       "\n",
       "#sk-container-id-1 a.estimator_doc_link.fitted:hover {\n",
       "  /* fitted */\n",
       "  background-color: var(--sklearn-color-fitted-level-3);\n",
       "}\n",
       "</style><div id=\"sk-container-id-1\" class=\"sk-top-container\"><div class=\"sk-text-repr-fallback\"><pre>RandomForestClassifier(class_weight=&#x27;balanced&#x27;, criterion=&#x27;log_loss&#x27;,\n",
       "                       max_depth=32, max_features=None, min_samples_leaf=8,\n",
       "                       min_samples_split=15, n_estimators=142, n_jobs=-1,\n",
       "                       random_state=42)</pre><b>In a Jupyter environment, please rerun this cell to show the HTML representation or trust the notebook. <br />On GitHub, the HTML representation is unable to render, please try loading this page with nbviewer.org.</b></div><div class=\"sk-container\" hidden><div class=\"sk-item\"><div class=\"sk-estimator fitted sk-toggleable\"><input class=\"sk-toggleable__control sk-hidden--visually\" id=\"sk-estimator-id-1\" type=\"checkbox\" checked><label for=\"sk-estimator-id-1\" class=\"sk-toggleable__label fitted sk-toggleable__label-arrow\"><div><div>RandomForestClassifier</div></div><div><a class=\"sk-estimator-doc-link fitted\" rel=\"noreferrer\" target=\"_blank\" href=\"https://scikit-learn.org/1.6/modules/generated/sklearn.ensemble.RandomForestClassifier.html\">?<span>Documentation for RandomForestClassifier</span></a><span class=\"sk-estimator-doc-link fitted\">i<span>Fitted</span></span></div></label><div class=\"sk-toggleable__content fitted\"><pre>RandomForestClassifier(class_weight=&#x27;balanced&#x27;, criterion=&#x27;log_loss&#x27;,\n",
       "                       max_depth=32, max_features=None, min_samples_leaf=8,\n",
       "                       min_samples_split=15, n_estimators=142, n_jobs=-1,\n",
       "                       random_state=42)</pre></div> </div></div></div></div>"
      ],
      "text/plain": [
       "RandomForestClassifier(class_weight='balanced', criterion='log_loss',\n",
       "                       max_depth=32, max_features=None, min_samples_leaf=8,\n",
       "                       min_samples_split=15, n_estimators=142, n_jobs=-1,\n",
       "                       random_state=42)"
      ]
     },
     "execution_count": 13,
     "metadata": {},
     "output_type": "execute_result"
    }
   ],
   "source": [
    "final_model = RandomForestClassifier(\n",
    "    **study.best_params,\n",
    "    random_state=42,\n",
    "    n_jobs=-1,\n",
    "    class_weight='balanced'  # Still important for imbalanced data\n",
    ")\n",
    "final_model.fit(X_train_final, y_train_final)"
   ]
  },
  {
   "cell_type": "code",
   "execution_count": 14,
   "metadata": {},
   "outputs": [
    {
     "name": "stdout",
     "output_type": "stream",
     "text": [
      "Training Performance:\n",
      "               precision    recall  f1-score   support\n",
      "\n",
      "           0       1.00      1.00      1.00    455902\n",
      "           1       0.89      0.98      0.94     16530\n",
      "\n",
      "    accuracy                           1.00    472432\n",
      "   macro avg       0.95      0.99      0.97    472432\n",
      "weighted avg       1.00      1.00      1.00    472432\n",
      "\n",
      "Validation Performance:\n",
      "               precision    recall  f1-score   support\n",
      "\n",
      "           0       0.99      0.99      0.99    113975\n",
      "           1       0.79      0.63      0.70      4133\n",
      "\n",
      "    accuracy                           0.98    118108\n",
      "   macro avg       0.89      0.81      0.85    118108\n",
      "weighted avg       0.98      0.98      0.98    118108\n",
      "\n"
     ]
    },
    {
     "data": {
      "image/png": "[encoded data removed]",
      "text/plain": [
       "<Figure size 640x480 with 2 Axes>"
      ]
     },
     "metadata": {},
     "output_type": "display_data"
    }
   ],
   "source": [
    "y_train_pred = final_model.predict(X_train_final)\n",
    "print(\"Training Performance:\\n\", classification_report(y_train_final, y_train_pred))\n",
    "\n",
    "# Predict on validation data\n",
    "y_val_pred = final_model.predict(X_val)\n",
    "print(\"Validation Performance:\\n\", classification_report(y_val, y_val_pred))\n",
    "\n",
    "# Confusion matrix\n",
    "cm = confusion_matrix(y_val, y_val_pred)\n",
    "disp = ConfusionMatrixDisplay(confusion_matrix=cm, display_labels=final_model.classes_)\n",
    "disp.plot(cmap='Blues')\n",
    "plt.title('Confusion Matrix')\n",
    "plt.show()"
   ]
  },
  {
   "cell_type": "markdown",
   "metadata": {},
   "source": [
    "Tu som pouzil GridSearch"
   ]
  },
  {
   "cell_type": "code",
   "execution_count": null,
   "metadata": {},
   "outputs": [],
   "source": [
    "X_train = df_train.select_dtypes(include=['number']).drop(columns=['isFraud'])\n",
    "y_train = df_train['isFraud']  # This is the target variable\n",
    "\n",
    "X_train_final, X_val, y_train_final, y_val = train_test_split(X_train, y_train, test_size=0.2, random_state=42, stratify=y_train)\n",
    "\n",
    "# Apply StandardScaler (fit only on train, transform on both)\n",
    "scaler = StandardScaler()\n",
    "X_train_scaled = scaler.fit_transform(X_train_final)\n",
    "X_val_scaled = scaler.transform(X_val)\n",
    "\n",
    "# Initialize PCA and specify number of components (optional)\n",
    "pca = PCA(n_components=30)\n",
    "X_train_pca = pca.fit_transform(X_train_scaled)\n",
    "X_val_pca = pca.transform(X_val_scaled)"
   ]
  },
  {
   "cell_type": "code",
   "execution_count": null,
   "metadata": {},
   "outputs": [
    {
     "name": "stderr",
     "output_type": "stream",
     "text": [
      "  0%|          | 0/162 [00:00<?, ?it/s]"
     ]
    },
    {
     "name": "stdout",
     "output_type": "stream",
     "text": [
      "Fitting 2 folds for each of 162 candidates, totalling 324 fits\n",
      "[CV 1/2] END max_depth=10, max_features=sqrt, min_samples_leaf=1, min_samples_split=2, n_estimators=100;, score=0.844 total time=  15.6s\n",
      "[CV 2/2] END max_depth=10, max_features=sqrt, min_samples_leaf=1, min_samples_split=2, n_estimators=100;, score=0.836 total time=  14.9s\n",
      "[CV 1/2] END max_depth=10, max_features=sqrt, min_samples_leaf=1, min_samples_split=2, n_estimators=300;, score=0.845 total time=  43.5s\n",
      "[CV 2/2] END max_depth=10, max_features=sqrt, min_samples_leaf=1, min_samples_split=2, n_estimators=300;, score=0.837 total time=  41.9s\n",
      "[CV 1/2] END max_depth=10, max_features=sqrt, min_samples_leaf=1, min_samples_split=2, n_estimators=500;, score=0.845 total time= 1.2min\n",
      "[CV 2/2] END max_depth=10, max_features=sqrt, min_samples_leaf=1, min_samples_split=2, n_estimators=500;, score=0.837 total time= 1.2min\n",
      "[CV 1/2] END max_depth=10, max_features=sqrt, min_samples_leaf=1, min_samples_split=5, n_estimators=100;, score=0.843 total time=  15.2s\n",
      "[CV 2/2] END max_depth=10, max_features=sqrt, min_samples_leaf=1, min_samples_split=5, n_estimators=100;, score=0.836 total time=  17.8s\n",
      "[CV 1/2] END max_depth=10, max_features=sqrt, min_samples_leaf=1, min_samples_split=5, n_estimators=300;, score=0.844 total time=  51.6s\n",
      "[CV 2/2] END max_depth=10, max_features=sqrt, min_samples_leaf=1, min_samples_split=5, n_estimators=300;, score=0.836 total time=  52.5s\n",
      "[CV 1/2] END max_depth=10, max_features=sqrt, min_samples_leaf=1, min_samples_split=5, n_estimators=500;, score=0.844 total time= 1.1min\n",
      "[CV 2/2] END max_depth=10, max_features=sqrt, min_samples_leaf=1, min_samples_split=5, n_estimators=500;, score=0.836 total time= 1.1min\n",
      "[CV 1/2] END max_depth=10, max_features=sqrt, min_samples_leaf=1, min_samples_split=10, n_estimators=100;, score=0.844 total time=  14.8s\n",
      "[CV 2/2] END max_depth=10, max_features=sqrt, min_samples_leaf=1, min_samples_split=10, n_estimators=100;, score=0.836 total time=  14.5s\n",
      "[CV 1/2] END max_depth=10, max_features=sqrt, min_samples_leaf=1, min_samples_split=10, n_estimators=300;, score=0.844 total time=  41.0s\n",
      "[CV 2/2] END max_depth=10, max_features=sqrt, min_samples_leaf=1, min_samples_split=10, n_estimators=300;, score=0.836 total time=  41.4s\n",
      "[CV 1/2] END max_depth=10, max_features=sqrt, min_samples_leaf=1, min_samples_split=10, n_estimators=500;, score=0.844 total time= 1.2min\n",
      "[CV 2/2] END max_depth=10, max_features=sqrt, min_samples_leaf=1, min_samples_split=10, n_estimators=500;, score=0.836 total time= 1.1min\n",
      "[CV 1/2] END max_depth=10, max_features=sqrt, min_samples_leaf=2, min_samples_split=2, n_estimators=100;, score=0.844 total time=  14.5s\n",
      "[CV 2/2] END max_depth=10, max_features=sqrt, min_samples_leaf=2, min_samples_split=2, n_estimators=100;, score=0.838 total time=  14.5s\n",
      "[CV 1/2] END max_depth=10, max_features=sqrt, min_samples_leaf=2, min_samples_split=2, n_estimators=300;, score=0.845 total time=  41.2s\n",
      "[CV 2/2] END max_depth=10, max_features=sqrt, min_samples_leaf=2, min_samples_split=2, n_estimators=300;, score=0.838 total time=  40.7s\n",
      "[CV 1/2] END max_depth=10, max_features=sqrt, min_samples_leaf=2, min_samples_split=2, n_estimators=500;, score=0.845 total time= 1.1min\n",
      "[CV 2/2] END max_depth=10, max_features=sqrt, min_samples_leaf=2, min_samples_split=2, n_estimators=500;, score=0.838 total time= 1.1min\n",
      "[CV 1/2] END max_depth=10, max_features=sqrt, min_samples_leaf=2, min_samples_split=5, n_estimators=100;, score=0.845 total time=  14.4s\n",
      "[CV 2/2] END max_depth=10, max_features=sqrt, min_samples_leaf=2, min_samples_split=5, n_estimators=100;, score=0.837 total time=  14.5s\n",
      "[CV 1/2] END max_depth=10, max_features=sqrt, min_samples_leaf=2, min_samples_split=5, n_estimators=300;, score=0.845 total time=  41.3s\n",
      "[CV 2/2] END max_depth=10, max_features=sqrt, min_samples_leaf=2, min_samples_split=5, n_estimators=300;, score=0.837 total time=  41.2s\n",
      "[CV 1/2] END max_depth=10, max_features=sqrt, min_samples_leaf=2, min_samples_split=5, n_estimators=500;, score=0.845 total time= 1.1min\n",
      "[CV 2/2] END max_depth=10, max_features=sqrt, min_samples_leaf=2, min_samples_split=5, n_estimators=500;, score=0.837 total time= 1.1min\n",
      "[CV 1/2] END max_depth=10, max_features=sqrt, min_samples_leaf=2, min_samples_split=10, n_estimators=100;, score=0.845 total time=  14.5s\n",
      "[CV 2/2] END max_depth=10, max_features=sqrt, min_samples_leaf=2, min_samples_split=10, n_estimators=100;, score=0.837 total time=  14.7s\n",
      "[CV 1/2] END max_depth=10, max_features=sqrt, min_samples_leaf=2, min_samples_split=10, n_estimators=300;, score=0.845 total time=  41.1s\n",
      "[CV 2/2] END max_depth=10, max_features=sqrt, min_samples_leaf=2, min_samples_split=10, n_estimators=300;, score=0.837 total time=  41.6s\n",
      "[CV 1/2] END max_depth=10, max_features=sqrt, min_samples_leaf=2, min_samples_split=10, n_estimators=500;, score=0.845 total time= 1.1min\n",
      "[CV 2/2] END max_depth=10, max_features=sqrt, min_samples_leaf=2, min_samples_split=10, n_estimators=500;, score=0.837 total time= 1.1min\n",
      "[CV 1/2] END max_depth=10, max_features=sqrt, min_samples_leaf=4, min_samples_split=2, n_estimators=100;, score=0.847 total time=  14.4s\n",
      "[CV 2/2] END max_depth=10, max_features=sqrt, min_samples_leaf=4, min_samples_split=2, n_estimators=100;, score=0.837 total time=  14.5s\n",
      "[CV 1/2] END max_depth=10, max_features=sqrt, min_samples_leaf=4, min_samples_split=2, n_estimators=300;, score=0.846 total time=  40.9s\n",
      "[CV 2/2] END max_depth=10, max_features=sqrt, min_samples_leaf=4, min_samples_split=2, n_estimators=300;, score=0.838 total time=  41.2s\n",
      "[CV 1/2] END max_depth=10, max_features=sqrt, min_samples_leaf=4, min_samples_split=2, n_estimators=500;, score=0.846 total time= 1.1min\n",
      "[CV 2/2] END max_depth=10, max_features=sqrt, min_samples_leaf=4, min_samples_split=2, n_estimators=500;, score=0.838 total time= 1.1min\n",
      "[CV 1/2] END max_depth=10, max_features=sqrt, min_samples_leaf=4, min_samples_split=5, n_estimators=100;, score=0.847 total time=  14.4s\n",
      "[CV 2/2] END max_depth=10, max_features=sqrt, min_samples_leaf=4, min_samples_split=5, n_estimators=100;, score=0.837 total time=  14.4s\n",
      "[CV 1/2] END max_depth=10, max_features=sqrt, min_samples_leaf=4, min_samples_split=5, n_estimators=300;, score=0.846 total time=  41.2s\n",
      "[CV 2/2] END max_depth=10, max_features=sqrt, min_samples_leaf=4, min_samples_split=5, n_estimators=300;, score=0.838 total time=  41.0s\n",
      "[CV 1/2] END max_depth=10, max_features=sqrt, min_samples_leaf=4, min_samples_split=5, n_estimators=500;, score=0.846 total time= 1.1min\n",
      "[CV 2/2] END max_depth=10, max_features=sqrt, min_samples_leaf=4, min_samples_split=5, n_estimators=500;, score=0.838 total time= 1.1min\n",
      "[CV 1/2] END max_depth=10, max_features=sqrt, min_samples_leaf=4, min_samples_split=10, n_estimators=100;, score=0.846 total time=  14.4s\n",
      "[CV 2/2] END max_depth=10, max_features=sqrt, min_samples_leaf=4, min_samples_split=10, n_estimators=100;, score=0.837 total time=  14.5s\n",
      "[CV 1/2] END max_depth=10, max_features=sqrt, min_samples_leaf=4, min_samples_split=10, n_estimators=300;, score=0.846 total time=  41.0s\n",
      "[CV 2/2] END max_depth=10, max_features=sqrt, min_samples_leaf=4, min_samples_split=10, n_estimators=300;, score=0.838 total time=  41.5s\n",
      "[CV 1/2] END max_depth=10, max_features=sqrt, min_samples_leaf=4, min_samples_split=10, n_estimators=500;, score=0.846 total time= 1.1min\n",
      "[CV 2/2] END max_depth=10, max_features=sqrt, min_samples_leaf=4, min_samples_split=10, n_estimators=500;, score=0.838 total time= 1.1min\n",
      "[CV 1/2] END max_depth=10, max_features=log2, min_samples_leaf=1, min_samples_split=2, n_estimators=100;, score=0.842 total time=  12.0s\n",
      "[CV 2/2] END max_depth=10, max_features=log2, min_samples_leaf=1, min_samples_split=2, n_estimators=100;, score=0.835 total time=  11.9s\n",
      "[CV 1/2] END max_depth=10, max_features=log2, min_samples_leaf=1, min_samples_split=2, n_estimators=300;, score=0.843 total time=  33.9s\n",
      "[CV 2/2] END max_depth=10, max_features=log2, min_samples_leaf=1, min_samples_split=2, n_estimators=300;, score=0.835 total time=  33.9s\n",
      "[CV 1/2] END max_depth=10, max_features=log2, min_samples_leaf=1, min_samples_split=2, n_estimators=500;, score=0.844 total time=  56.2s\n",
      "[CV 2/2] END max_depth=10, max_features=log2, min_samples_leaf=1, min_samples_split=2, n_estimators=500;, score=0.836 total time=  59.6s\n",
      "[CV 1/2] END max_depth=10, max_features=log2, min_samples_leaf=1, min_samples_split=5, n_estimators=100;, score=0.842 total time=  11.8s\n",
      "[CV 2/2] END max_depth=10, max_features=log2, min_samples_leaf=1, min_samples_split=5, n_estimators=100;, score=0.835 total time=  11.7s\n",
      "[CV 1/2] END max_depth=10, max_features=log2, min_samples_leaf=1, min_samples_split=5, n_estimators=300;, score=0.843 total time=  33.2s\n",
      "[CV 2/2] END max_depth=10, max_features=log2, min_samples_leaf=1, min_samples_split=5, n_estimators=300;, score=0.835 total time=  33.1s\n",
      "[CV 1/2] END max_depth=10, max_features=log2, min_samples_leaf=1, min_samples_split=5, n_estimators=500;, score=0.843 total time=  55.2s\n",
      "[CV 2/2] END max_depth=10, max_features=log2, min_samples_leaf=1, min_samples_split=5, n_estimators=500;, score=0.835 total time=  55.4s\n",
      "[CV 1/2] END max_depth=10, max_features=log2, min_samples_leaf=1, min_samples_split=10, n_estimators=100;, score=0.843 total time=  11.8s\n",
      "[CV 2/2] END max_depth=10, max_features=log2, min_samples_leaf=1, min_samples_split=10, n_estimators=100;, score=0.834 total time=  11.7s\n",
      "[CV 1/2] END max_depth=10, max_features=log2, min_samples_leaf=1, min_samples_split=10, n_estimators=300;, score=0.843 total time=  33.1s\n",
      "[CV 2/2] END max_depth=10, max_features=log2, min_samples_leaf=1, min_samples_split=10, n_estimators=300;, score=0.835 total time=  33.3s\n",
      "[CV 1/2] END max_depth=10, max_features=log2, min_samples_leaf=1, min_samples_split=10, n_estimators=500;, score=0.843 total time=  56.5s\n",
      "[CV 2/2] END max_depth=10, max_features=log2, min_samples_leaf=1, min_samples_split=10, n_estimators=500;, score=0.835 total time=  55.0s\n",
      "[CV 1/2] END max_depth=10, max_features=log2, min_samples_leaf=2, min_samples_split=2, n_estimators=100;, score=0.843 total time=  11.6s\n",
      "[CV 2/2] END max_depth=10, max_features=log2, min_samples_leaf=2, min_samples_split=2, n_estimators=100;, score=0.835 total time=  11.7s\n",
      "[CV 1/2] END max_depth=10, max_features=log2, min_samples_leaf=2, min_samples_split=2, n_estimators=300;, score=0.844 total time=  33.1s\n",
      "[CV 2/2] END max_depth=10, max_features=log2, min_samples_leaf=2, min_samples_split=2, n_estimators=300;, score=0.836 total time=  33.0s\n",
      "[CV 1/2] END max_depth=10, max_features=log2, min_samples_leaf=2, min_samples_split=2, n_estimators=500;, score=0.845 total time=  54.7s\n",
      "[CV 2/2] END max_depth=10, max_features=log2, min_samples_leaf=2, min_samples_split=2, n_estimators=500;, score=0.837 total time=  54.9s\n",
      "[CV 1/2] END max_depth=10, max_features=log2, min_samples_leaf=2, min_samples_split=5, n_estimators=100;, score=0.844 total time=  11.8s\n",
      "[CV 2/2] END max_depth=10, max_features=log2, min_samples_leaf=2, min_samples_split=5, n_estimators=100;, score=0.835 total time=  11.8s\n",
      "[CV 1/2] END max_depth=10, max_features=log2, min_samples_leaf=2, min_samples_split=5, n_estimators=300;, score=0.844 total time=  33.1s\n",
      "[CV 2/2] END max_depth=10, max_features=log2, min_samples_leaf=2, min_samples_split=5, n_estimators=300;, score=0.836 total time=  33.0s\n",
      "[CV 1/2] END max_depth=10, max_features=log2, min_samples_leaf=2, min_samples_split=5, n_estimators=500;, score=0.845 total time=  55.0s\n",
      "[CV 2/2] END max_depth=10, max_features=log2, min_samples_leaf=2, min_samples_split=5, n_estimators=500;, score=0.836 total time=  55.1s\n",
      "[CV 1/2] END max_depth=10, max_features=log2, min_samples_leaf=2, min_samples_split=10, n_estimators=100;, score=0.843 total time=  11.8s\n",
      "[CV 2/2] END max_depth=10, max_features=log2, min_samples_leaf=2, min_samples_split=10, n_estimators=100;, score=0.834 total time=  11.7s\n",
      "[CV 1/2] END max_depth=10, max_features=log2, min_samples_leaf=2, min_samples_split=10, n_estimators=300;, score=0.844 total time=  33.0s\n",
      "[CV 2/2] END max_depth=10, max_features=log2, min_samples_leaf=2, min_samples_split=10, n_estimators=300;, score=0.836 total time=  33.0s\n",
      "[CV 1/2] END max_depth=10, max_features=log2, min_samples_leaf=2, min_samples_split=10, n_estimators=500;, score=0.844 total time=  55.1s\n",
      "[CV 2/2] END max_depth=10, max_features=log2, min_samples_leaf=2, min_samples_split=10, n_estimators=500;, score=0.836 total time=  55.1s\n",
      "[CV 1/2] END max_depth=10, max_features=log2, min_samples_leaf=4, min_samples_split=2, n_estimators=100;, score=0.844 total time=  11.6s\n",
      "[CV 2/2] END max_depth=10, max_features=log2, min_samples_leaf=4, min_samples_split=2, n_estimators=100;, score=0.836 total time=  11.7s\n",
      "[CV 1/2] END max_depth=10, max_features=log2, min_samples_leaf=4, min_samples_split=2, n_estimators=300;, score=0.845 total time=  33.0s\n",
      "[CV 2/2] END max_depth=10, max_features=log2, min_samples_leaf=4, min_samples_split=2, n_estimators=300;, score=0.837 total time=  33.0s\n",
      "[CV 1/2] END max_depth=10, max_features=log2, min_samples_leaf=4, min_samples_split=2, n_estimators=500;, score=0.845 total time=  55.0s\n",
      "[CV 2/2] END max_depth=10, max_features=log2, min_samples_leaf=4, min_samples_split=2, n_estimators=500;, score=0.837 total time=  54.7s\n",
      "[CV 1/2] END max_depth=10, max_features=log2, min_samples_leaf=4, min_samples_split=5, n_estimators=100;, score=0.844 total time=  11.8s\n",
      "[CV 2/2] END max_depth=10, max_features=log2, min_samples_leaf=4, min_samples_split=5, n_estimators=100;, score=0.836 total time=  11.8s\n",
      "[CV 1/2] END max_depth=10, max_features=log2, min_samples_leaf=4, min_samples_split=5, n_estimators=300;, score=0.845 total time=  33.0s\n",
      "[CV 2/2] END max_depth=10, max_features=log2, min_samples_leaf=4, min_samples_split=5, n_estimators=300;, score=0.837 total time=  34.8s\n",
      "[CV 1/2] END max_depth=10, max_features=log2, min_samples_leaf=4, min_samples_split=5, n_estimators=500;, score=0.845 total time=  54.7s\n",
      "[CV 2/2] END max_depth=10, max_features=log2, min_samples_leaf=4, min_samples_split=5, n_estimators=500;, score=0.837 total time=  54.8s\n",
      "[CV 1/2] END max_depth=10, max_features=log2, min_samples_leaf=4, min_samples_split=10, n_estimators=100;, score=0.844 total time=  11.8s\n",
      "[CV 2/2] END max_depth=10, max_features=log2, min_samples_leaf=4, min_samples_split=10, n_estimators=100;, score=0.836 total time=  11.7s\n",
      "[CV 1/2] END max_depth=10, max_features=log2, min_samples_leaf=4, min_samples_split=10, n_estimators=300;, score=0.845 total time=  33.0s\n",
      "[CV 2/2] END max_depth=10, max_features=log2, min_samples_leaf=4, min_samples_split=10, n_estimators=300;, score=0.837 total time=  32.9s\n",
      "[CV 1/2] END max_depth=10, max_features=log2, min_samples_leaf=4, min_samples_split=10, n_estimators=500;, score=0.845 total time=  55.3s\n",
      "[CV 2/2] END max_depth=10, max_features=log2, min_samples_leaf=4, min_samples_split=10, n_estimators=500;, score=0.837 total time=  55.3s\n",
      "[CV 1/2] END max_depth=20, max_features=sqrt, min_samples_leaf=1, min_samples_split=2, n_estimators=100;, score=0.868 total time=  22.8s\n",
      "[CV 2/2] END max_depth=20, max_features=sqrt, min_samples_leaf=1, min_samples_split=2, n_estimators=100;, score=0.862 total time=  23.1s\n",
      "[CV 1/2] END max_depth=20, max_features=sqrt, min_samples_leaf=1, min_samples_split=2, n_estimators=300;, score=0.872 total time= 1.1min\n",
      "[CV 2/2] END max_depth=20, max_features=sqrt, min_samples_leaf=1, min_samples_split=2, n_estimators=300;, score=0.866 total time= 1.1min\n",
      "[CV 1/2] END max_depth=20, max_features=sqrt, min_samples_leaf=1, min_samples_split=2, n_estimators=500;, score=0.873 total time= 1.8min\n",
      "[CV 2/2] END max_depth=20, max_features=sqrt, min_samples_leaf=1, min_samples_split=2, n_estimators=500;, score=0.867 total time= 1.8min\n",
      "[CV 1/2] END max_depth=20, max_features=sqrt, min_samples_leaf=1, min_samples_split=5, n_estimators=100;, score=0.868 total time=  22.9s\n",
      "[CV 2/2] END max_depth=20, max_features=sqrt, min_samples_leaf=1, min_samples_split=5, n_estimators=100;, score=0.861 total time=  23.0s\n",
      "[CV 1/2] END max_depth=20, max_features=sqrt, min_samples_leaf=1, min_samples_split=5, n_estimators=300;, score=0.871 total time= 1.1min\n",
      "[CV 2/2] END max_depth=20, max_features=sqrt, min_samples_leaf=1, min_samples_split=5, n_estimators=300;, score=0.865 total time= 1.1min\n",
      "[CV 1/2] END max_depth=20, max_features=sqrt, min_samples_leaf=1, min_samples_split=5, n_estimators=500;, score=0.872 total time= 1.8min\n",
      "[CV 2/2] END max_depth=20, max_features=sqrt, min_samples_leaf=1, min_samples_split=5, n_estimators=500;, score=0.866 total time= 1.8min\n",
      "[CV 1/2] END max_depth=20, max_features=sqrt, min_samples_leaf=1, min_samples_split=10, n_estimators=100;, score=0.866 total time=  22.8s\n",
      "[CV 2/2] END max_depth=20, max_features=sqrt, min_samples_leaf=1, min_samples_split=10, n_estimators=100;, score=0.861 total time=  22.8s\n",
      "[CV 1/2] END max_depth=20, max_features=sqrt, min_samples_leaf=1, min_samples_split=10, n_estimators=300;, score=0.869 total time= 1.1min\n",
      "[CV 2/2] END max_depth=20, max_features=sqrt, min_samples_leaf=1, min_samples_split=10, n_estimators=300;, score=0.863 total time= 1.1min\n",
      "[CV 1/2] END max_depth=20, max_features=sqrt, min_samples_leaf=1, min_samples_split=10, n_estimators=500;, score=0.870 total time= 1.8min\n",
      "[CV 2/2] END max_depth=20, max_features=sqrt, min_samples_leaf=1, min_samples_split=10, n_estimators=500;, score=0.864 total time= 1.8min\n",
      "[CV 1/2] END max_depth=20, max_features=sqrt, min_samples_leaf=2, min_samples_split=2, n_estimators=100;, score=0.869 total time=  22.6s\n",
      "[CV 2/2] END max_depth=20, max_features=sqrt, min_samples_leaf=2, min_samples_split=2, n_estimators=100;, score=0.863 total time=  22.8s\n",
      "[CV 1/2] END max_depth=20, max_features=sqrt, min_samples_leaf=2, min_samples_split=2, n_estimators=300;, score=0.872 total time= 1.1min\n",
      "[CV 2/2] END max_depth=20, max_features=sqrt, min_samples_leaf=2, min_samples_split=2, n_estimators=300;, score=0.867 total time= 1.1min\n",
      "[CV 1/2] END max_depth=20, max_features=sqrt, min_samples_leaf=2, min_samples_split=2, n_estimators=500;, score=0.873 total time= 1.8min\n",
      "[CV 2/2] END max_depth=20, max_features=sqrt, min_samples_leaf=2, min_samples_split=2, n_estimators=500;, score=0.868 total time= 1.8min\n",
      "[CV 1/2] END max_depth=20, max_features=sqrt, min_samples_leaf=2, min_samples_split=5, n_estimators=100;, score=0.869 total time=  22.5s\n",
      "[CV 2/2] END max_depth=20, max_features=sqrt, min_samples_leaf=2, min_samples_split=5, n_estimators=100;, score=0.863 total time=  22.8s\n",
      "[CV 1/2] END max_depth=20, max_features=sqrt, min_samples_leaf=2, min_samples_split=5, n_estimators=300;, score=0.872 total time= 1.1min\n",
      "[CV 2/2] END max_depth=20, max_features=sqrt, min_samples_leaf=2, min_samples_split=5, n_estimators=300;, score=0.867 total time= 1.1min\n",
      "[CV 1/2] END max_depth=20, max_features=sqrt, min_samples_leaf=2, min_samples_split=5, n_estimators=500;, score=0.873 total time= 1.8min\n",
      "[CV 2/2] END max_depth=20, max_features=sqrt, min_samples_leaf=2, min_samples_split=5, n_estimators=500;, score=0.868 total time= 1.8min\n",
      "[CV 1/2] END max_depth=20, max_features=sqrt, min_samples_leaf=2, min_samples_split=10, n_estimators=100;, score=0.867 total time=  22.6s\n",
      "[CV 2/2] END max_depth=20, max_features=sqrt, min_samples_leaf=2, min_samples_split=10, n_estimators=100;, score=0.863 total time=  23.1s\n",
      "[CV 1/2] END max_depth=20, max_features=sqrt, min_samples_leaf=2, min_samples_split=10, n_estimators=300;, score=0.870 total time= 1.1min\n",
      "[CV 2/2] END max_depth=20, max_features=sqrt, min_samples_leaf=2, min_samples_split=10, n_estimators=300;, score=0.865 total time= 1.1min\n",
      "[CV 1/2] END max_depth=20, max_features=sqrt, min_samples_leaf=2, min_samples_split=10, n_estimators=500;, score=0.871 total time= 1.8min\n",
      "[CV 2/2] END max_depth=20, max_features=sqrt, min_samples_leaf=2, min_samples_split=10, n_estimators=500;, score=0.866 total time= 1.8min\n",
      "[CV 1/2] END max_depth=20, max_features=sqrt, min_samples_leaf=4, min_samples_split=2, n_estimators=100;, score=0.869 total time=  22.3s\n",
      "[CV 2/2] END max_depth=20, max_features=sqrt, min_samples_leaf=4, min_samples_split=2, n_estimators=100;, score=0.863 total time=  22.2s\n",
      "[CV 1/2] END max_depth=20, max_features=sqrt, min_samples_leaf=4, min_samples_split=2, n_estimators=300;, score=0.872 total time= 1.1min\n",
      "[CV 2/2] END max_depth=20, max_features=sqrt, min_samples_leaf=4, min_samples_split=2, n_estimators=300;, score=0.866 total time= 1.1min\n",
      "[CV 1/2] END max_depth=20, max_features=sqrt, min_samples_leaf=4, min_samples_split=2, n_estimators=500;, score=0.873 total time= 1.8min\n",
      "[CV 2/2] END max_depth=20, max_features=sqrt, min_samples_leaf=4, min_samples_split=2, n_estimators=500;, score=0.867 total time= 1.8min\n",
      "[CV 1/2] END max_depth=20, max_features=sqrt, min_samples_leaf=4, min_samples_split=5, n_estimators=100;, score=0.869 total time=  22.4s\n",
      "[CV 2/2] END max_depth=20, max_features=sqrt, min_samples_leaf=4, min_samples_split=5, n_estimators=100;, score=0.863 total time=  22.4s\n",
      "[CV 1/2] END max_depth=20, max_features=sqrt, min_samples_leaf=4, min_samples_split=5, n_estimators=300;, score=0.872 total time= 1.1min\n",
      "[CV 2/2] END max_depth=20, max_features=sqrt, min_samples_leaf=4, min_samples_split=5, n_estimators=300;, score=0.866 total time= 1.1min\n",
      "[CV 1/2] END max_depth=20, max_features=sqrt, min_samples_leaf=4, min_samples_split=5, n_estimators=500;, score=0.873 total time= 1.8min\n",
      "[CV 2/2] END max_depth=20, max_features=sqrt, min_samples_leaf=4, min_samples_split=5, n_estimators=500;, score=0.867 total time= 1.8min\n",
      "[CV 1/2] END max_depth=20, max_features=sqrt, min_samples_leaf=4, min_samples_split=10, n_estimators=100;, score=0.869 total time=  22.2s\n",
      "[CV 2/2] END max_depth=20, max_features=sqrt, min_samples_leaf=4, min_samples_split=10, n_estimators=100;, score=0.863 total time=  22.4s\n",
      "[CV 1/2] END max_depth=20, max_features=sqrt, min_samples_leaf=4, min_samples_split=10, n_estimators=300;, score=0.872 total time= 1.2min\n",
      "[CV 2/2] END max_depth=20, max_features=sqrt, min_samples_leaf=4, min_samples_split=10, n_estimators=300;, score=0.866 total time= 1.1min\n",
      "[CV 1/2] END max_depth=20, max_features=sqrt, min_samples_leaf=4, min_samples_split=10, n_estimators=500;, score=0.872 total time= 1.9min\n",
      "[CV 2/2] END max_depth=20, max_features=sqrt, min_samples_leaf=4, min_samples_split=10, n_estimators=500;, score=0.867 total time= 1.9min\n",
      "[CV 1/2] END max_depth=20, max_features=log2, min_samples_leaf=1, min_samples_split=2, n_estimators=100;, score=0.868 total time=  20.1s\n",
      "[CV 2/2] END max_depth=20, max_features=log2, min_samples_leaf=1, min_samples_split=2, n_estimators=100;, score=0.863 total time=  20.2s\n",
      "[CV 1/2] END max_depth=20, max_features=log2, min_samples_leaf=1, min_samples_split=2, n_estimators=300;, score=0.873 total time=  56.7s\n",
      "[CV 2/2] END max_depth=20, max_features=log2, min_samples_leaf=1, min_samples_split=2, n_estimators=300;, score=0.868 total time=  55.1s\n",
      "[CV 1/2] END max_depth=20, max_features=log2, min_samples_leaf=1, min_samples_split=2, n_estimators=500;, score=0.874 total time= 1.5min\n",
      "[CV 2/2] END max_depth=20, max_features=log2, min_samples_leaf=1, min_samples_split=2, n_estimators=500;, score=0.868 total time= 1.5min\n",
      "[CV 1/2] END max_depth=20, max_features=log2, min_samples_leaf=1, min_samples_split=5, n_estimators=100;, score=0.868 total time=  19.4s\n",
      "[CV 2/2] END max_depth=20, max_features=log2, min_samples_leaf=1, min_samples_split=5, n_estimators=100;, score=0.862 total time=  19.7s\n",
      "[CV 1/2] END max_depth=20, max_features=log2, min_samples_leaf=1, min_samples_split=5, n_estimators=300;, score=0.872 total time=  54.7s\n",
      "[CV 2/2] END max_depth=20, max_features=log2, min_samples_leaf=1, min_samples_split=5, n_estimators=300;, score=0.866 total time=  54.8s\n",
      "[CV 1/2] END max_depth=20, max_features=log2, min_samples_leaf=1, min_samples_split=5, n_estimators=500;, score=0.873 total time= 1.5min\n",
      "[CV 2/2] END max_depth=20, max_features=log2, min_samples_leaf=1, min_samples_split=5, n_estimators=500;, score=0.867 total time= 1.6min\n",
      "[CV 1/2] END max_depth=20, max_features=log2, min_samples_leaf=1, min_samples_split=10, n_estimators=100;, score=0.866 total time=  19.4s\n",
      "[CV 2/2] END max_depth=20, max_features=log2, min_samples_leaf=1, min_samples_split=10, n_estimators=100;, score=0.861 total time=  20.3s\n",
      "[CV 1/2] END max_depth=20, max_features=log2, min_samples_leaf=1, min_samples_split=10, n_estimators=300;, score=0.870 total time=  55.8s\n",
      "[CV 2/2] END max_depth=20, max_features=log2, min_samples_leaf=1, min_samples_split=10, n_estimators=300;, score=0.864 total time=  53.1s\n",
      "[CV 1/2] END max_depth=20, max_features=log2, min_samples_leaf=1, min_samples_split=10, n_estimators=500;, score=0.870 total time= 1.5min\n",
      "[CV 2/2] END max_depth=20, max_features=log2, min_samples_leaf=1, min_samples_split=10, n_estimators=500;, score=0.865 total time= 1.5min\n",
      "[CV 1/2] END max_depth=20, max_features=log2, min_samples_leaf=2, min_samples_split=2, n_estimators=100;, score=0.869 total time=  18.8s\n",
      "[CV 2/2] END max_depth=20, max_features=log2, min_samples_leaf=2, min_samples_split=2, n_estimators=100;, score=0.863 total time=  18.6s\n",
      "[CV 1/2] END max_depth=20, max_features=log2, min_samples_leaf=2, min_samples_split=2, n_estimators=300;, score=0.873 total time=  52.6s\n",
      "[CV 2/2] END max_depth=20, max_features=log2, min_samples_leaf=2, min_samples_split=2, n_estimators=300;, score=0.867 total time=  54.8s\n",
      "[CV 1/2] END max_depth=20, max_features=log2, min_samples_leaf=2, min_samples_split=2, n_estimators=500;, score=0.874 total time= 1.5min\n",
      "[CV 2/2] END max_depth=20, max_features=log2, min_samples_leaf=2, min_samples_split=2, n_estimators=500;, score=0.868 total time= 1.5min\n",
      "[CV 1/2] END max_depth=20, max_features=log2, min_samples_leaf=2, min_samples_split=5, n_estimators=100;, score=0.870 total time=  18.3s\n",
      "[CV 2/2] END max_depth=20, max_features=log2, min_samples_leaf=2, min_samples_split=5, n_estimators=100;, score=0.863 total time=  18.5s\n",
      "[CV 1/2] END max_depth=20, max_features=log2, min_samples_leaf=2, min_samples_split=5, n_estimators=300;, score=0.872 total time=  52.0s\n",
      "[CV 2/2] END max_depth=20, max_features=log2, min_samples_leaf=2, min_samples_split=5, n_estimators=300;, score=0.866 total time=  52.5s\n",
      "[CV 1/2] END max_depth=20, max_features=log2, min_samples_leaf=2, min_samples_split=5, n_estimators=500;, score=0.873 total time= 1.4min\n",
      "[CV 2/2] END max_depth=20, max_features=log2, min_samples_leaf=2, min_samples_split=5, n_estimators=500;, score=0.867 total time= 1.5min\n",
      "[CV 1/2] END max_depth=20, max_features=log2, min_samples_leaf=2, min_samples_split=10, n_estimators=100;, score=0.868 total time=  18.3s\n",
      "[CV 2/2] END max_depth=20, max_features=log2, min_samples_leaf=2, min_samples_split=10, n_estimators=100;, score=0.862 total time=  18.4s\n",
      "[CV 1/2] END max_depth=20, max_features=log2, min_samples_leaf=2, min_samples_split=10, n_estimators=300;, score=0.871 total time=  52.2s\n",
      "[CV 2/2] END max_depth=20, max_features=log2, min_samples_leaf=2, min_samples_split=10, n_estimators=300;, score=0.865 total time=  52.2s\n",
      "[CV 1/2] END max_depth=20, max_features=log2, min_samples_leaf=2, min_samples_split=10, n_estimators=500;, score=0.871 total time= 1.4min\n",
      "[CV 2/2] END max_depth=20, max_features=log2, min_samples_leaf=2, min_samples_split=10, n_estimators=500;, score=0.865 total time= 1.5min\n",
      "[CV 1/2] END max_depth=20, max_features=log2, min_samples_leaf=4, min_samples_split=2, n_estimators=100;, score=0.869 total time=  18.0s\n",
      "[CV 2/2] END max_depth=20, max_features=log2, min_samples_leaf=4, min_samples_split=2, n_estimators=100;, score=0.863 total time=  18.2s\n",
      "[CV 1/2] END max_depth=20, max_features=log2, min_samples_leaf=4, min_samples_split=2, n_estimators=300;, score=0.872 total time=  51.3s\n",
      "[CV 2/2] END max_depth=20, max_features=log2, min_samples_leaf=4, min_samples_split=2, n_estimators=300;, score=0.866 total time=  51.6s\n",
      "[CV 1/2] END max_depth=20, max_features=log2, min_samples_leaf=4, min_samples_split=2, n_estimators=500;, score=0.873 total time= 1.4min\n",
      "[CV 2/2] END max_depth=20, max_features=log2, min_samples_leaf=4, min_samples_split=2, n_estimators=500;, score=0.867 total time= 1.4min\n",
      "[CV 1/2] END max_depth=20, max_features=log2, min_samples_leaf=4, min_samples_split=5, n_estimators=100;, score=0.869 total time=  18.0s\n",
      "[CV 2/2] END max_depth=20, max_features=log2, min_samples_leaf=4, min_samples_split=5, n_estimators=100;, score=0.863 total time=  18.2s\n",
      "[CV 1/2] END max_depth=20, max_features=log2, min_samples_leaf=4, min_samples_split=5, n_estimators=300;, score=0.872 total time=  51.4s\n",
      "[CV 2/2] END max_depth=20, max_features=log2, min_samples_leaf=4, min_samples_split=5, n_estimators=300;, score=0.866 total time=  53.2s\n",
      "[CV 1/2] END max_depth=20, max_features=log2, min_samples_leaf=4, min_samples_split=5, n_estimators=500;, score=0.873 total time= 1.4min\n",
      "[CV 2/2] END max_depth=20, max_features=log2, min_samples_leaf=4, min_samples_split=5, n_estimators=500;, score=0.867 total time= 1.4min\n",
      "[CV 1/2] END max_depth=20, max_features=log2, min_samples_leaf=4, min_samples_split=10, n_estimators=100;, score=0.868 total time=  18.0s\n",
      "[CV 2/2] END max_depth=20, max_features=log2, min_samples_leaf=4, min_samples_split=10, n_estimators=100;, score=0.863 total time=  18.3s\n",
      "[CV 1/2] END max_depth=20, max_features=log2, min_samples_leaf=4, min_samples_split=10, n_estimators=300;, score=0.872 total time=  51.7s\n",
      "[CV 2/2] END max_depth=20, max_features=log2, min_samples_leaf=4, min_samples_split=10, n_estimators=300;, score=0.866 total time=  51.9s\n",
      "[CV 1/2] END max_depth=20, max_features=log2, min_samples_leaf=4, min_samples_split=10, n_estimators=500;, score=0.872 total time= 1.4min\n",
      "[CV 2/2] END max_depth=20, max_features=log2, min_samples_leaf=4, min_samples_split=10, n_estimators=500;, score=0.867 total time= 1.4min\n",
      "[CV 1/2] END max_depth=30, max_features=sqrt, min_samples_leaf=1, min_samples_split=2, n_estimators=100;, score=0.867 total time=  26.4s\n",
      "[CV 2/2] END max_depth=30, max_features=sqrt, min_samples_leaf=1, min_samples_split=2, n_estimators=100;, score=0.864 total time=  26.6s\n",
      "[CV 1/2] END max_depth=30, max_features=sqrt, min_samples_leaf=1, min_samples_split=2, n_estimators=300;, score=0.874 total time= 1.3min\n",
      "[CV 2/2] END max_depth=30, max_features=sqrt, min_samples_leaf=1, min_samples_split=2, n_estimators=300;, score=0.869 total time= 1.3min\n",
      "[CV 1/2] END max_depth=30, max_features=sqrt, min_samples_leaf=1, min_samples_split=2, n_estimators=500;, score=0.875 total time= 2.1min\n",
      "[CV 2/2] END max_depth=30, max_features=sqrt, min_samples_leaf=1, min_samples_split=2, n_estimators=500;, score=0.870 total time= 2.1min\n",
      "[CV 1/2] END max_depth=30, max_features=sqrt, min_samples_leaf=1, min_samples_split=5, n_estimators=100;, score=0.868 total time=  26.1s\n",
      "[CV 2/2] END max_depth=30, max_features=sqrt, min_samples_leaf=1, min_samples_split=5, n_estimators=100;, score=0.861 total time=  26.7s\n",
      "[CV 1/2] END max_depth=30, max_features=sqrt, min_samples_leaf=1, min_samples_split=5, n_estimators=300;, score=0.872 total time= 1.3min\n",
      "[CV 2/2] END max_depth=30, max_features=sqrt, min_samples_leaf=1, min_samples_split=5, n_estimators=300;, score=0.867 total time= 1.3min\n",
      "[CV 1/2] END max_depth=30, max_features=sqrt, min_samples_leaf=1, min_samples_split=5, n_estimators=500;, score=0.874 total time= 2.1min\n",
      "[CV 2/2] END max_depth=30, max_features=sqrt, min_samples_leaf=1, min_samples_split=5, n_estimators=500;, score=0.869 total time= 2.1min\n",
      "[CV 1/2] END max_depth=30, max_features=sqrt, min_samples_leaf=1, min_samples_split=10, n_estimators=100;, score=0.866 total time=  25.9s\n",
      "[CV 2/2] END max_depth=30, max_features=sqrt, min_samples_leaf=1, min_samples_split=10, n_estimators=100;, score=0.862 total time=  26.2s\n",
      "[CV 1/2] END max_depth=30, max_features=sqrt, min_samples_leaf=1, min_samples_split=10, n_estimators=300;, score=0.870 total time= 1.3min\n",
      "[CV 2/2] END max_depth=30, max_features=sqrt, min_samples_leaf=1, min_samples_split=10, n_estimators=300;, score=0.866 total time= 1.3min\n",
      "[CV 1/2] END max_depth=30, max_features=sqrt, min_samples_leaf=1, min_samples_split=10, n_estimators=500;, score=0.872 total time= 2.1min\n",
      "[CV 2/2] END max_depth=30, max_features=sqrt, min_samples_leaf=1, min_samples_split=10, n_estimators=500;, score=0.867 total time= 2.1min\n",
      "[CV 1/2] END max_depth=30, max_features=sqrt, min_samples_leaf=2, min_samples_split=2, n_estimators=100;, score=0.869 total time=  25.8s\n",
      "[CV 2/2] END max_depth=30, max_features=sqrt, min_samples_leaf=2, min_samples_split=2, n_estimators=100;, score=0.864 total time=  26.0s\n",
      "[CV 1/2] END max_depth=30, max_features=sqrt, min_samples_leaf=2, min_samples_split=2, n_estimators=300;, score=0.874 total time= 1.2min\n",
      "[CV 2/2] END max_depth=30, max_features=sqrt, min_samples_leaf=2, min_samples_split=2, n_estimators=300;, score=0.868 total time= 1.2min\n",
      "[CV 1/2] END max_depth=30, max_features=sqrt, min_samples_leaf=2, min_samples_split=2, n_estimators=500;, score=0.875 total time= 2.0min\n",
      "[CV 2/2] END max_depth=30, max_features=sqrt, min_samples_leaf=2, min_samples_split=2, n_estimators=500;, score=0.870 total time= 2.2min\n",
      "[CV 1/2] END max_depth=30, max_features=sqrt, min_samples_leaf=2, min_samples_split=5, n_estimators=100;, score=0.868 total time=  25.9s\n",
      "[CV 2/2] END max_depth=30, max_features=sqrt, min_samples_leaf=2, min_samples_split=5, n_estimators=100;, score=0.862 total time=  27.1s\n",
      "[CV 1/2] END max_depth=30, max_features=sqrt, min_samples_leaf=2, min_samples_split=5, n_estimators=300;, score=0.873 total time= 1.2min\n",
      "[CV 2/2] END max_depth=30, max_features=sqrt, min_samples_leaf=2, min_samples_split=5, n_estimators=300;, score=0.867 total time= 1.2min\n",
      "[CV 1/2] END max_depth=30, max_features=sqrt, min_samples_leaf=2, min_samples_split=5, n_estimators=500;, score=0.874 total time= 2.0min\n",
      "[CV 2/2] END max_depth=30, max_features=sqrt, min_samples_leaf=2, min_samples_split=5, n_estimators=500;, score=0.869 total time= 2.2min\n",
      "[CV 1/2] END max_depth=30, max_features=sqrt, min_samples_leaf=2, min_samples_split=10, n_estimators=100;, score=0.867 total time=  25.4s\n",
      "[CV 2/2] END max_depth=30, max_features=sqrt, min_samples_leaf=2, min_samples_split=10, n_estimators=100;, score=0.863 total time=  26.4s\n",
      "[CV 1/2] END max_depth=30, max_features=sqrt, min_samples_leaf=2, min_samples_split=10, n_estimators=300;, score=0.871 total time= 1.2min\n",
      "[CV 2/2] END max_depth=30, max_features=sqrt, min_samples_leaf=2, min_samples_split=10, n_estimators=300;, score=0.867 total time= 1.2min\n",
      "[CV 1/2] END max_depth=30, max_features=sqrt, min_samples_leaf=2, min_samples_split=10, n_estimators=500;, score=0.872 total time= 2.0min\n",
      "[CV 2/2] END max_depth=30, max_features=sqrt, min_samples_leaf=2, min_samples_split=10, n_estimators=500;, score=0.868 total time= 2.1min\n",
      "[CV 1/2] END max_depth=30, max_features=sqrt, min_samples_leaf=4, min_samples_split=2, n_estimators=100;, score=0.869 total time=  25.1s\n",
      "[CV 2/2] END max_depth=30, max_features=sqrt, min_samples_leaf=4, min_samples_split=2, n_estimators=100;, score=0.864 total time=  25.3s\n",
      "[CV 1/2] END max_depth=30, max_features=sqrt, min_samples_leaf=4, min_samples_split=2, n_estimators=300;, score=0.873 total time= 1.2min\n",
      "[CV 2/2] END max_depth=30, max_features=sqrt, min_samples_leaf=4, min_samples_split=2, n_estimators=300;, score=0.868 total time= 1.2min\n",
      "[CV 1/2] END max_depth=30, max_features=sqrt, min_samples_leaf=4, min_samples_split=2, n_estimators=500;, score=0.873 total time= 2.0min\n",
      "[CV 2/2] END max_depth=30, max_features=sqrt, min_samples_leaf=4, min_samples_split=2, n_estimators=500;, score=0.869 total time= 2.0min\n",
      "[CV 1/2] END max_depth=30, max_features=sqrt, min_samples_leaf=4, min_samples_split=5, n_estimators=100;, score=0.869 total time=  25.3s\n",
      "[CV 2/2] END max_depth=30, max_features=sqrt, min_samples_leaf=4, min_samples_split=5, n_estimators=100;, score=0.864 total time=  25.6s\n",
      "[CV 1/2] END max_depth=30, max_features=sqrt, min_samples_leaf=4, min_samples_split=5, n_estimators=300;, score=0.873 total time= 1.2min\n",
      "[CV 2/2] END max_depth=30, max_features=sqrt, min_samples_leaf=4, min_samples_split=5, n_estimators=300;, score=0.868 total time= 1.2min\n",
      "[CV 1/2] END max_depth=30, max_features=sqrt, min_samples_leaf=4, min_samples_split=5, n_estimators=500;, score=0.873 total time= 2.0min\n",
      "[CV 2/2] END max_depth=30, max_features=sqrt, min_samples_leaf=4, min_samples_split=5, n_estimators=500;, score=0.869 total time= 2.0min\n",
      "[CV 1/2] END max_depth=30, max_features=sqrt, min_samples_leaf=4, min_samples_split=10, n_estimators=100;, score=0.869 total time=  24.7s\n",
      "[CV 2/2] END max_depth=30, max_features=sqrt, min_samples_leaf=4, min_samples_split=10, n_estimators=100;, score=0.864 total time=  25.4s\n",
      "[CV 1/2] END max_depth=30, max_features=sqrt, min_samples_leaf=4, min_samples_split=10, n_estimators=300;, score=0.873 total time= 1.2min\n",
      "[CV 2/2] END max_depth=30, max_features=sqrt, min_samples_leaf=4, min_samples_split=10, n_estimators=300;, score=0.867 total time= 1.2min\n",
      "[CV 1/2] END max_depth=30, max_features=sqrt, min_samples_leaf=4, min_samples_split=10, n_estimators=500;, score=0.874 total time= 2.0min\n",
      "[CV 2/2] END max_depth=30, max_features=sqrt, min_samples_leaf=4, min_samples_split=10, n_estimators=500;, score=0.868 total time= 2.0min\n",
      "[CV 1/2] END max_depth=30, max_features=log2, min_samples_leaf=1, min_samples_split=2, n_estimators=100;, score=0.865 total time=  21.0s\n",
      "[CV 2/2] END max_depth=30, max_features=log2, min_samples_leaf=1, min_samples_split=2, n_estimators=100;, score=0.861 total time=  20.9s\n",
      "[CV 1/2] END max_depth=30, max_features=log2, min_samples_leaf=1, min_samples_split=2, n_estimators=300;, score=0.873 total time= 1.0min\n",
      "[CV 2/2] END max_depth=30, max_features=log2, min_samples_leaf=1, min_samples_split=2, n_estimators=300;, score=0.869 total time= 1.0min\n",
      "[CV 1/2] END max_depth=30, max_features=log2, min_samples_leaf=1, min_samples_split=2, n_estimators=500;, score=0.874 total time= 1.7min\n",
      "[CV 2/2] END max_depth=30, max_features=log2, min_samples_leaf=1, min_samples_split=2, n_estimators=500;, score=0.871 total time= 1.7min\n",
      "[CV 1/2] END max_depth=30, max_features=log2, min_samples_leaf=1, min_samples_split=5, n_estimators=100;, score=0.867 total time=  21.1s\n",
      "[CV 2/2] END max_depth=30, max_features=log2, min_samples_leaf=1, min_samples_split=5, n_estimators=100;, score=0.863 total time=  21.1s\n",
      "[CV 1/2] END max_depth=30, max_features=log2, min_samples_leaf=1, min_samples_split=5, n_estimators=300;, score=0.872 total time=  60.0s\n",
      "[CV 2/2] END max_depth=30, max_features=log2, min_samples_leaf=1, min_samples_split=5, n_estimators=300;, score=0.868 total time= 1.0min\n",
      "[CV 1/2] END max_depth=30, max_features=log2, min_samples_leaf=1, min_samples_split=5, n_estimators=500;, score=0.874 total time= 1.7min\n",
      "[CV 2/2] END max_depth=30, max_features=log2, min_samples_leaf=1, min_samples_split=5, n_estimators=500;, score=0.869 total time= 1.7min\n",
      "[CV 1/2] END max_depth=30, max_features=log2, min_samples_leaf=1, min_samples_split=10, n_estimators=100;, score=0.865 total time=  20.8s\n",
      "[CV 2/2] END max_depth=30, max_features=log2, min_samples_leaf=1, min_samples_split=10, n_estimators=100;, score=0.860 total time=  21.2s\n",
      "[CV 1/2] END max_depth=30, max_features=log2, min_samples_leaf=1, min_samples_split=10, n_estimators=300;, score=0.871 total time= 1.0min\n",
      "[CV 2/2] END max_depth=30, max_features=log2, min_samples_leaf=1, min_samples_split=10, n_estimators=300;, score=0.865 total time= 1.0min\n",
      "[CV 1/2] END max_depth=30, max_features=log2, min_samples_leaf=1, min_samples_split=10, n_estimators=500;, score=0.872 total time= 1.6min\n",
      "[CV 2/2] END max_depth=30, max_features=log2, min_samples_leaf=1, min_samples_split=10, n_estimators=500;, score=0.867 total time= 1.7min\n",
      "[CV 1/2] END max_depth=30, max_features=log2, min_samples_leaf=2, min_samples_split=2, n_estimators=100;, score=0.869 total time=  20.7s\n",
      "[CV 2/2] END max_depth=30, max_features=log2, min_samples_leaf=2, min_samples_split=2, n_estimators=100;, score=0.864 total time=  20.7s\n",
      "[CV 1/2] END max_depth=30, max_features=log2, min_samples_leaf=2, min_samples_split=2, n_estimators=300;, score=0.874 total time=  59.1s\n",
      "[CV 2/2] END max_depth=30, max_features=log2, min_samples_leaf=2, min_samples_split=2, n_estimators=300;, score=0.869 total time=  58.9s\n",
      "[CV 1/2] END max_depth=30, max_features=log2, min_samples_leaf=2, min_samples_split=2, n_estimators=500;, score=0.875 total time= 1.6min\n",
      "[CV 2/2] END max_depth=30, max_features=log2, min_samples_leaf=2, min_samples_split=2, n_estimators=500;, score=0.870 total time= 1.6min\n",
      "[CV 1/2] END max_depth=30, max_features=log2, min_samples_leaf=2, min_samples_split=5, n_estimators=100;, score=0.867 total time=  20.7s\n",
      "[CV 2/2] END max_depth=30, max_features=log2, min_samples_leaf=2, min_samples_split=5, n_estimators=100;, score=0.863 total time=  20.9s\n",
      "[CV 1/2] END max_depth=30, max_features=log2, min_samples_leaf=2, min_samples_split=5, n_estimators=300;, score=0.873 total time=  58.7s\n",
      "[CV 2/2] END max_depth=30, max_features=log2, min_samples_leaf=2, min_samples_split=5, n_estimators=300;, score=0.868 total time= 1.0min\n",
      "[CV 1/2] END max_depth=30, max_features=log2, min_samples_leaf=2, min_samples_split=5, n_estimators=500;, score=0.874 total time= 1.6min\n",
      "[CV 2/2] END max_depth=30, max_features=log2, min_samples_leaf=2, min_samples_split=5, n_estimators=500;, score=0.870 total time= 1.6min\n",
      "[CV 1/2] END max_depth=30, max_features=log2, min_samples_leaf=2, min_samples_split=10, n_estimators=100;, score=0.868 total time=  20.6s\n",
      "[CV 2/2] END max_depth=30, max_features=log2, min_samples_leaf=2, min_samples_split=10, n_estimators=100;, score=0.862 total time=  20.6s\n",
      "[CV 1/2] END max_depth=30, max_features=log2, min_samples_leaf=2, min_samples_split=10, n_estimators=300;, score=0.872 total time=  59.6s\n",
      "[CV 2/2] END max_depth=30, max_features=log2, min_samples_leaf=2, min_samples_split=10, n_estimators=300;, score=0.866 total time=  58.9s\n",
      "[CV 1/2] END max_depth=30, max_features=log2, min_samples_leaf=2, min_samples_split=10, n_estimators=500;, score=0.873 total time= 1.6min\n",
      "[CV 2/2] END max_depth=30, max_features=log2, min_samples_leaf=2, min_samples_split=10, n_estimators=500;, score=0.868 total time= 1.6min\n",
      "[CV 1/2] END max_depth=30, max_features=log2, min_samples_leaf=4, min_samples_split=2, n_estimators=100;, score=0.870 total time=  20.3s\n",
      "[CV 2/2] END max_depth=30, max_features=log2, min_samples_leaf=4, min_samples_split=2, n_estimators=100;, score=0.865 total time=  20.5s\n",
      "[CV 1/2] END max_depth=30, max_features=log2, min_samples_leaf=4, min_samples_split=2, n_estimators=300;, score=0.873 total time=  57.4s\n",
      "[CV 2/2] END max_depth=30, max_features=log2, min_samples_leaf=4, min_samples_split=2, n_estimators=300;, score=0.868 total time=  58.7s\n",
      "[CV 1/2] END max_depth=30, max_features=log2, min_samples_leaf=4, min_samples_split=2, n_estimators=500;, score=0.874 total time= 1.6min\n",
      "[CV 2/2] END max_depth=30, max_features=log2, min_samples_leaf=4, min_samples_split=2, n_estimators=500;, score=0.869 total time= 1.7min\n",
      "[CV 1/2] END max_depth=30, max_features=log2, min_samples_leaf=4, min_samples_split=5, n_estimators=100;, score=0.870 total time=  20.3s\n",
      "[CV 2/2] END max_depth=30, max_features=log2, min_samples_leaf=4, min_samples_split=5, n_estimators=100;, score=0.865 total time=  20.5s\n",
      "[CV 1/2] END max_depth=30, max_features=log2, min_samples_leaf=4, min_samples_split=5, n_estimators=300;, score=0.873 total time=  57.4s\n",
      "[CV 2/2] END max_depth=30, max_features=log2, min_samples_leaf=4, min_samples_split=5, n_estimators=300;, score=0.868 total time=  59.4s\n",
      "[CV 1/2] END max_depth=30, max_features=log2, min_samples_leaf=4, min_samples_split=5, n_estimators=500;, score=0.874 total time= 1.6min\n",
      "[CV 2/2] END max_depth=30, max_features=log2, min_samples_leaf=4, min_samples_split=5, n_estimators=500;, score=0.869 total time= 1.6min\n",
      "[CV 1/2] END max_depth=30, max_features=log2, min_samples_leaf=4, min_samples_split=10, n_estimators=100;, score=0.869 total time=  19.9s\n",
      "[CV 2/2] END max_depth=30, max_features=log2, min_samples_leaf=4, min_samples_split=10, n_estimators=100;, score=0.863 total time=  20.4s\n",
      "[CV 1/2] END max_depth=30, max_features=log2, min_samples_leaf=4, min_samples_split=10, n_estimators=300;, score=0.873 total time=  57.3s\n",
      "[CV 2/2] END max_depth=30, max_features=log2, min_samples_leaf=4, min_samples_split=10, n_estimators=300;, score=0.867 total time=  58.8s\n",
      "[CV 1/2] END max_depth=30, max_features=log2, min_samples_leaf=4, min_samples_split=10, n_estimators=500;, score=0.873 total time= 1.6min\n",
      "[CV 2/2] END max_depth=30, max_features=log2, min_samples_leaf=4, min_samples_split=10, n_estimators=500;, score=0.868 total time= 1.6min\n"
     ]
    },
    {
     "name": "stderr",
     "output_type": "stream",
     "text": [
      "100%|██████████| 162/162 [5:01:20<00:00, 111.61s/it]\n"
     ]
    },
    {
     "name": "stdout",
     "output_type": "stream",
     "text": [
      "\n",
      "Time taken for GridSearchCV: 301.34 minutes\n",
      "\n",
      "Best Hyperparameters: {'max_depth': 30, 'max_features': 'sqrt', 'min_samples_leaf': 1, 'min_samples_split': 2, 'n_estimators': 500}\n"
     ]
    },
    {
     "ename": "ValueError",
     "evalue": "Found input variables with inconsistent numbers of samples: [590540, 472432]",
     "output_type": "error",
     "traceback": [
      "\u001b[31m---------------------------------------------------------------------------\u001b[39m",
      "\u001b[31mValueError\u001b[39m                                Traceback (most recent call last)",
      "\u001b[36mCell\u001b[39m\u001b[36m \u001b[39m\u001b[32mIn[22]\u001b[39m\u001b[32m, line 46\u001b[39m\n\u001b[32m     43\u001b[39m y_pred_proba = final_rf.predict_proba(X_train_pca)[:, \u001b[32m1\u001b[39m]\n\u001b[32m     45\u001b[39m \u001b[38;5;66;03m# Evaluate model\u001b[39;00m\n\u001b[32m---> \u001b[39m\u001b[32m46\u001b[39m accuracy = \u001b[43maccuracy_score\u001b[49m\u001b[43m(\u001b[49m\u001b[43my_train\u001b[49m\u001b[43m,\u001b[49m\u001b[43m \u001b[49m\u001b[43my_pred\u001b[49m\u001b[43m)\u001b[49m\n\u001b[32m     47\u001b[39m precision = precision_score(y_train, y_pred)\n\u001b[32m     48\u001b[39m recall = recall_score(y_train, y_pred)\n",
      "\u001b[36mFile \u001b[39m\u001b[32mc:\\Users\\Matúš\\AppData\\Local\\Programs\\Python\\Python313\\Lib\\site-packages\\sklearn\\utils\\_param_validation.py:216\u001b[39m, in \u001b[36mvalidate_params.<locals>.decorator.<locals>.wrapper\u001b[39m\u001b[34m(*args, **kwargs)\u001b[39m\n\u001b[32m    210\u001b[39m \u001b[38;5;28;01mtry\u001b[39;00m:\n\u001b[32m    211\u001b[39m     \u001b[38;5;28;01mwith\u001b[39;00m config_context(\n\u001b[32m    212\u001b[39m         skip_parameter_validation=(\n\u001b[32m    213\u001b[39m             prefer_skip_nested_validation \u001b[38;5;129;01mor\u001b[39;00m global_skip_validation\n\u001b[32m    214\u001b[39m         )\n\u001b[32m    215\u001b[39m     ):\n\u001b[32m--> \u001b[39m\u001b[32m216\u001b[39m         \u001b[38;5;28;01mreturn\u001b[39;00m \u001b[43mfunc\u001b[49m\u001b[43m(\u001b[49m\u001b[43m*\u001b[49m\u001b[43margs\u001b[49m\u001b[43m,\u001b[49m\u001b[43m \u001b[49m\u001b[43m*\u001b[49m\u001b[43m*\u001b[49m\u001b[43mkwargs\u001b[49m\u001b[43m)\u001b[49m\n\u001b[32m    217\u001b[39m \u001b[38;5;28;01mexcept\u001b[39;00m InvalidParameterError \u001b[38;5;28;01mas\u001b[39;00m e:\n\u001b[32m    218\u001b[39m     \u001b[38;5;66;03m# When the function is just a wrapper around an estimator, we allow\u001b[39;00m\n\u001b[32m    219\u001b[39m     \u001b[38;5;66;03m# the function to delegate validation to the estimator, but we replace\u001b[39;00m\n\u001b[32m    220\u001b[39m     \u001b[38;5;66;03m# the name of the estimator by the name of the function in the error\u001b[39;00m\n\u001b[32m    221\u001b[39m     \u001b[38;5;66;03m# message to avoid confusion.\u001b[39;00m\n\u001b[32m    222\u001b[39m     msg = re.sub(\n\u001b[32m    223\u001b[39m         \u001b[33mr\u001b[39m\u001b[33m\"\u001b[39m\u001b[33mparameter of \u001b[39m\u001b[33m\\\u001b[39m\u001b[33mw+ must be\u001b[39m\u001b[33m\"\u001b[39m,\n\u001b[32m    224\u001b[39m         \u001b[33mf\u001b[39m\u001b[33m\"\u001b[39m\u001b[33mparameter of \u001b[39m\u001b[38;5;132;01m{\u001b[39;00mfunc.\u001b[34m__qualname__\u001b[39m\u001b[38;5;132;01m}\u001b[39;00m\u001b[33m must be\u001b[39m\u001b[33m\"\u001b[39m,\n\u001b[32m    225\u001b[39m         \u001b[38;5;28mstr\u001b[39m(e),\n\u001b[32m    226\u001b[39m     )\n",
      "\u001b[36mFile \u001b[39m\u001b[32mc:\\Users\\Matúš\\AppData\\Local\\Programs\\Python\\Python313\\Lib\\site-packages\\sklearn\\metrics\\_classification.py:227\u001b[39m, in \u001b[36maccuracy_score\u001b[39m\u001b[34m(y_true, y_pred, normalize, sample_weight)\u001b[39m\n\u001b[32m    225\u001b[39m \u001b[38;5;66;03m# Compute accuracy for each possible representation\u001b[39;00m\n\u001b[32m    226\u001b[39m y_true, y_pred = attach_unique(y_true, y_pred)\n\u001b[32m--> \u001b[39m\u001b[32m227\u001b[39m y_type, y_true, y_pred = \u001b[43m_check_targets\u001b[49m\u001b[43m(\u001b[49m\u001b[43my_true\u001b[49m\u001b[43m,\u001b[49m\u001b[43m \u001b[49m\u001b[43my_pred\u001b[49m\u001b[43m)\u001b[49m\n\u001b[32m    228\u001b[39m check_consistent_length(y_true, y_pred, sample_weight)\n\u001b[32m    230\u001b[39m \u001b[38;5;28;01mif\u001b[39;00m y_type.startswith(\u001b[33m\"\u001b[39m\u001b[33mmultilabel\u001b[39m\u001b[33m\"\u001b[39m):\n",
      "\u001b[36mFile \u001b[39m\u001b[32mc:\\Users\\Matúš\\AppData\\Local\\Programs\\Python\\Python313\\Lib\\site-packages\\sklearn\\metrics\\_classification.py:98\u001b[39m, in \u001b[36m_check_targets\u001b[39m\u001b[34m(y_true, y_pred)\u001b[39m\n\u001b[32m     71\u001b[39m \u001b[38;5;250m\u001b[39m\u001b[33;03m\"\"\"Check that y_true and y_pred belong to the same classification task.\u001b[39;00m\n\u001b[32m     72\u001b[39m \n\u001b[32m     73\u001b[39m \u001b[33;03mThis converts multiclass or binary types to a common shape, and raises a\u001b[39;00m\n\u001b[32m   (...)\u001b[39m\u001b[32m     95\u001b[39m \u001b[33;03my_pred : array or indicator matrix\u001b[39;00m\n\u001b[32m     96\u001b[39m \u001b[33;03m\"\"\"\u001b[39;00m\n\u001b[32m     97\u001b[39m xp, _ = get_namespace(y_true, y_pred)\n\u001b[32m---> \u001b[39m\u001b[32m98\u001b[39m \u001b[43mcheck_consistent_length\u001b[49m\u001b[43m(\u001b[49m\u001b[43my_true\u001b[49m\u001b[43m,\u001b[49m\u001b[43m \u001b[49m\u001b[43my_pred\u001b[49m\u001b[43m)\u001b[49m\n\u001b[32m     99\u001b[39m type_true = type_of_target(y_true, input_name=\u001b[33m\"\u001b[39m\u001b[33my_true\u001b[39m\u001b[33m\"\u001b[39m)\n\u001b[32m    100\u001b[39m type_pred = type_of_target(y_pred, input_name=\u001b[33m\"\u001b[39m\u001b[33my_pred\u001b[39m\u001b[33m\"\u001b[39m)\n",
      "\u001b[36mFile \u001b[39m\u001b[32mc:\\Users\\Matúš\\AppData\\Local\\Programs\\Python\\Python313\\Lib\\site-packages\\sklearn\\utils\\validation.py:475\u001b[39m, in \u001b[36mcheck_consistent_length\u001b[39m\u001b[34m(*arrays)\u001b[39m\n\u001b[32m    473\u001b[39m uniques = np.unique(lengths)\n\u001b[32m    474\u001b[39m \u001b[38;5;28;01mif\u001b[39;00m \u001b[38;5;28mlen\u001b[39m(uniques) > \u001b[32m1\u001b[39m:\n\u001b[32m--> \u001b[39m\u001b[32m475\u001b[39m     \u001b[38;5;28;01mraise\u001b[39;00m \u001b[38;5;167;01mValueError\u001b[39;00m(\n\u001b[32m    476\u001b[39m         \u001b[33m\"\u001b[39m\u001b[33mFound input variables with inconsistent numbers of samples: \u001b[39m\u001b[38;5;132;01m%r\u001b[39;00m\u001b[33m\"\u001b[39m\n\u001b[32m    477\u001b[39m         % [\u001b[38;5;28mint\u001b[39m(l) \u001b[38;5;28;01mfor\u001b[39;00m l \u001b[38;5;129;01min\u001b[39;00m lengths]\n\u001b[32m    478\u001b[39m     )\n",
      "\u001b[31mValueError\u001b[39m: Found input variables with inconsistent numbers of samples: [590540, 472432]"
     ]
    }
   ],
   "source": [
    "# Define hyperparameter grid\n",
    "param_grid = {\n",
    "    'n_estimators': [100, 300, 500],  # Number of trees\n",
    "    'max_depth': [10, 20, 30],        # Maximum depth of trees\n",
    "    'min_samples_split': [2, 5, 10],  # Minimum samples needed to split a node\n",
    "    'min_samples_leaf': [1, 2, 4],    # Minimum samples per leaf node\n",
    "    'max_features': ['sqrt', 'log2']  # Number of features to consider at each split\n",
    "}\n",
    "\n",
    "# Initialize the model\n",
    "rf = RandomForestClassifier(random_state=42, n_jobs=-1)\n",
    "\n",
    "# Use GridSearchCV\n",
    "grid_search = GridSearchCV(\n",
    "    estimator=rf, param_grid=param_grid, \n",
    "    scoring='roc_auc', cv=2, verbose=3, n_jobs=1\n",
    ")\n",
    "\n",
    "total_combinations = np.prod([len(v) for v in param_grid.values()])\n",
    "\n",
    "# Start measuring time\n",
    "start_time = time.time()\n",
    "\n",
    "# Fit GridSearchCV on training data\n",
    "with tqdm(total=total_combinations) as pbar:\n",
    "    grid_search.fit(X_train_pca, y_train_final)  # Fit on PCA-transformed data\n",
    "    pbar.update(total_combinations)    \n",
    "\n",
    "# Calculate the time taken for GridSearchCV\n",
    "grid_search_time = time.time() - start_time\n",
    "print(f\"\\nTime taken for GridSearchCV: {grid_search_time / 60:.2f} minutes\")\n",
    "\n",
    "# Get the best parameters\n",
    "best_rf_params = grid_search.best_params_\n",
    "print(\"\\nBest Hyperparameters:\", best_rf_params)\n",
    "\n",
    "# Train the optimized Random Forest model\n",
    "final_rf = RandomForestClassifier(**best_rf_params, random_state=42, n_jobs=-1)\n",
    "final_rf.fit(X_train_pca, y_train_final)\n",
    "\n",
    "# Predictions on training data\n",
    "y_pred = final_rf.predict(X_train_pca)\n",
    "y_pred_proba = final_rf.predict_proba(X_train_pca)[:, 1]\n",
    "\n",
    "# Evaluate model\n",
    "accuracy = accuracy_score(y_train, y_pred)\n",
    "precision = precision_score(y_train, y_pred)\n",
    "recall = recall_score(y_train, y_pred)\n",
    "roc_auc = roc_auc_score(y_train, y_pred_proba)\n",
    "conf_matrix = confusion_matrix(y_train, y_pred)\n",
    "\n",
    "# Print Metrics\n",
    "print(\"\\nFinal Model Performance:\")\n",
    "print(f\"Accuracy: {accuracy:.4f}\")\n",
    "print(f\"Precision: {precision:.4f}\")\n",
    "print(f\"Recall: {recall:.4f}\")\n",
    "print(f\"ROC AUC Score: {roc_auc:.4f}\")\n",
    "print(\"\\nConfusion Matrix:\")\n",
    "print(conf_matrix)\n",
    "\n",
    "# Now, you can also evaluate on the validation set if needed\n",
    "y_val_pred = final_rf.predict(X_val_pca)\n",
    "y_val_pred_proba = final_rf.predict_proba(X_val_pca)[:, 1]\n",
    "\n",
    "# Evaluate model on validation data\n",
    "val_accuracy = accuracy_score(y_val, y_val_pred)\n",
    "val_precision = precision_score(y_val, y_val_pred)\n",
    "val_recall = recall_score(y_val, y_val_pred)\n",
    "val_roc_auc = roc_auc_score(y_val, y_val_pred_proba)\n",
    "val_conf_matrix = confusion_matrix(y_val, y_val_pred)\n",
    "\n",
    "# Print validation metrics\n",
    "print(\"\\nFinal Model Performance on Validation Data:\")\n",
    "print(f\"Accuracy: {val_accuracy:.4f}\")\n",
    "print(f\"Precision: {val_precision:.4f}\")\n",
    "print(f\"Recall: {val_recall:.4f}\")\n",
    "print(f\"ROC AUC Score: {val_roc_auc:.4f}\")\n",
    "print(\"\\nConfusion Matrix:\")\n",
    "print(val_conf_matrix)\n",
    "\n",
    "# Print Classification Report\n",
    "print(\"\\nClassification Report:\\n\", classification_report(y_val, y_val_pred))\n",
    "\n",
    "# Confusion Matrix\n",
    "cm = confusion_matrix(y_val, y_val_pred)\n",
    "disp = ConfusionMatrixDisplay(confusion_matrix=cm, display_labels=final_rf.classes_)\n",
    "disp.plot(cmap='Blues')\n",
    "plt.title('Confusion Matrix')\n",
    "plt.show()\n",
    "# Predictions on training data\n",
    "y_pred = final_rf.predict(X_train_pca)\n",
    "y_pred_proba = final_rf.predict_proba(X_train_pca)[:, 1]\n",
    "\n",
    "\n"
   ]
  },
  {
   "cell_type": "code",
   "execution_count": 31,
   "metadata": {},
   "outputs": [
    {
     "name": "stdout",
     "output_type": "stream",
     "text": [
      "\n",
      "Final Model Performance:\n",
      "Accuracy: 0.9952\n",
      "Precision: 1.0000\n",
      "Recall: 0.8620\n",
      "ROC AUC Score: 0.9999\n",
      "\n",
      "Confusion Matrix:\n",
      "[[455902      0]\n",
      " [  2281  14249]]\n",
      "\n",
      "Final Model Performance on Validation Data:\n",
      "Accuracy: 0.9734\n",
      "Precision: 0.8915\n",
      "Recall: 0.2724\n",
      "ROC AUC Score: 0.8914\n",
      "\n",
      "Confusion Matrix:\n",
      "[[113838    137]\n",
      " [  3007   1126]]\n",
      "\n",
      "Classification Report:\n",
      "               precision    recall  f1-score   support\n",
      "\n",
      "           0       0.97      1.00      0.99    113975\n",
      "           1       0.89      0.27      0.42      4133\n",
      "\n",
      "    accuracy                           0.97    118108\n",
      "   macro avg       0.93      0.64      0.70    118108\n",
      "weighted avg       0.97      0.97      0.97    118108\n",
      "\n"
     ]
    },
    {
     "data": {
      "image/png": "[encoded data removed]",
      "text/plain": [
       "<Figure size 640x480 with 2 Axes>"
      ]
     },
     "metadata": {},
     "output_type": "display_data"
    }
   ],
   "source": [
    "# Predictions on training data\n",
    "y_pred = final_rf.predict(X_train_pca)\n",
    "y_pred_proba = final_rf.predict_proba(X_train_pca)[:, 1]\n",
    "\n",
    "# Evaluate model\n",
    "accuracy = accuracy_score(y_train_final, y_pred)  # Use y_train_final, not y_train\n",
    "precision = precision_score(y_train_final, y_pred)\n",
    "recall = recall_score(y_train_final, y_pred)\n",
    "roc_auc = roc_auc_score(y_train_final, y_pred_proba)\n",
    "conf_matrix = confusion_matrix(y_train_final, y_pred)\n",
    "\n",
    "# Print Metrics\n",
    "print(\"\\nFinal Model Performance:\")\n",
    "print(f\"Accuracy: {accuracy:.4f}\")\n",
    "print(f\"Precision: {precision:.4f}\")\n",
    "print(f\"Recall: {recall:.4f}\")\n",
    "print(f\"ROC AUC Score: {roc_auc:.4f}\")\n",
    "print(\"\\nConfusion Matrix:\")\n",
    "print(conf_matrix)\n",
    "\n",
    "# Now, you can also evaluate on the validation set if needed\n",
    "y_val_pred = final_rf.predict(X_val_pca)\n",
    "y_val_pred_proba = final_rf.predict_proba(X_val_pca)[:, 1]\n",
    "\n",
    "# Evaluate model on validation data\n",
    "val_accuracy = accuracy_score(y_val, y_val_pred)\n",
    "val_precision = precision_score(y_val, y_val_pred)\n",
    "val_recall = recall_score(y_val, y_val_pred)\n",
    "val_roc_auc = roc_auc_score(y_val, y_val_pred_proba)\n",
    "val_conf_matrix = confusion_matrix(y_val, y_val_pred)\n",
    "\n",
    "# Print validation metrics\n",
    "print(\"\\nFinal Model Performance on Validation Data:\")\n",
    "print(f\"Accuracy: {val_accuracy:.4f}\")\n",
    "print(f\"Precision: {val_precision:.4f}\")\n",
    "print(f\"Recall: {val_recall:.4f}\")\n",
    "print(f\"ROC AUC Score: {val_roc_auc:.4f}\")\n",
    "print(\"\\nConfusion Matrix:\")\n",
    "print(val_conf_matrix)\n",
    "\n",
    "# Print Classification Report\n",
    "print(\"\\nClassification Report:\\n\", classification_report(y_val, y_val_pred))\n",
    "\n",
    "# Confusion Matrix\n",
    "cm = confusion_matrix(y_val, y_val_pred)\n",
    "disp = ConfusionMatrixDisplay(confusion_matrix=cm, display_labels=final_rf.classes_)\n",
    "disp.plot(cmap='Blues')\n",
    "plt.title('Confusion Matrix')\n",
    "plt.show()"
   ]
  }
 ],
 "metadata": {
  "kernelspec": {
   "display_name": "Python 3",
   "language": "python",
   "name": "python3"
  },
  "language_info": {
   "codemirror_mode": {
    "name": "ipython",
    "version": 3
   },
   "file_extension": ".py",
   "mimetype": "text/x-python",
   "name": "python",
   "nbconvert_exporter": "python",
   "pygments_lexer": "ipython3",
   "version": "3.13.2"
  },
  "orig_nbformat": 4
 },
 "nbformat": 4,
 "nbformat_minor": 2
}
